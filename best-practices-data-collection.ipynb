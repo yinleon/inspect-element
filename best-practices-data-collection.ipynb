{
 "cells": [
  {
   "cell_type": "markdown",
   "id": "de359d7e",
   "metadata": {},
   "source": [
    "---\n",
    "title: \"Best practices for data collection\"\n",
    "author: \"Leon Yin\"\n",
    "date-modified: \"02-14-2023\"\n",
    "href: data-collection-best-practices\n",
    "---"
   ]
  },
  {
   "cell_type": "markdown",
   "id": "fe8cbadd",
   "metadata": {},
   "source": [
    "Here are some helpful tips for building datasets."
   ]
  },
  {
   "cell_type": "markdown",
   "id": "faea7314",
   "metadata": {},
   "source": [
    "## Don't repeat work\n",
    "\n",
    "Before you collect data, check if you've already collected it. \n",
    "\n",
    "Create a programmatic naming structure for a \"target\"-- this could be a filename or a unique ID in a database, and check if it exists. \n",
    "\n",
    "If it already exists, move on.\n",
    "\n",
    "Below is a dummy example of a scraper for video metadata that checks if a file with the same `video_id` has already been saved."
   ]
  },
  {
   "cell_type": "code",
   "execution_count": 1,
   "id": "c73bc349",
   "metadata": {},
   "outputs": [],
   "source": [
    "import os\n",
    "import time\n",
    "\n",
    "def collect_video_metadata(video_id):\n",
    "    \"\"\"\n",
    "    This is an example of a data collection function\n",
    "    that checks if a video_id has already been collected.\n",
    "    \"\"\"\n",
    "    # consistently structure the target filename (fn_out)\n",
    "    fn_out = f\"video_metadata_{video_id}.csv\"\n",
    "    \n",
    "    # check if the file exists, if it does: move on\n",
    "    if os.path.exists(fn_out):\n",
    "        print(\"already collected\")\n",
    "        return\n",
    "        \n",
    "    # collect the data (not actually implemented)\n",
    "    print(\"time to do some work!\")\n",
    "    \n",
    "    # save the file. Instead of real data, we'll save text that says, \"Collected\".\n",
    "    with open(fn_out, 'w') as f:\n",
    "        f.write(\"Collected\")\n",
    "    return"
   ]
  },
  {
   "cell_type": "markdown",
   "id": "162106fa",
   "metadata": {},
   "source": [
    "Let's try to collect some video metadata for a `video_id` of our choosing."
   ]
  },
  {
   "cell_type": "code",
   "execution_count": 2,
   "id": "c8eabdda",
   "metadata": {},
   "outputs": [],
   "source": [
    "video_id = \"schfiftyfive\""
   ]
  },
  {
   "cell_type": "code",
   "execution_count": 3,
   "id": "857b10b5",
   "metadata": {},
   "outputs": [],
   "source": [
    "#| echo: false\n",
    "def delete_file(video_id):\n",
    "    fn_out = f\"video_metadata_{video_id}.csv\"\n",
    "    if os.path.exists(fn_out):\n",
    "        os.remove(fn_out)\n",
    "delete_file(video_id = video_id)"
   ]
  },
  {
   "cell_type": "code",
   "execution_count": 4,
   "id": "a8c64270",
   "metadata": {},
   "outputs": [
    {
     "name": "stdout",
     "output_type": "stream",
     "text": [
      "time to do some work!\n"
     ]
    }
   ],
   "source": [
    "collect_video_metadata(video_id = video_id)"
   ]
  },
  {
   "cell_type": "markdown",
   "id": "602783b9",
   "metadata": {},
   "source": [
    "Let's try to run the same exact function with the same input:"
   ]
  },
  {
   "cell_type": "code",
   "execution_count": 5,
   "id": "aa1e679c",
   "metadata": {},
   "outputs": [
    {
     "name": "stdout",
     "output_type": "stream",
     "text": [
      "already collected\n"
     ]
    }
   ],
   "source": [
    "collect_video_metadata(video_id = video_id)"
   ]
  },
  {
   "cell_type": "markdown",
   "id": "a3e2ae73",
   "metadata": {},
   "source": [
    "The second time you call it, the function ends early.\n",
    "\n",
    "When collecting a large dataset, these steps are essential to make the best use of time."
   ]
  },
  {
   "cell_type": "markdown",
   "id": "0f60cecb",
   "metadata": {},
   "source": [
    "## Save receipts\n",
    "\n",
    "Save the output of every step, especially the earliest steps of collecting a JSON response from a server, or the HTML of a website. \n",
    "\n",
    "You can always re-write parsers that turn that \"raw\" data into something neat and actionable. \n",
    "\n",
    "Websites and API responses _can_ change, so web parsers can break easily. It is safer to just save the data straight from the source, and process it later.\n",
    "\n",
    "If you're collecting a web page through browser automation, save a screenshot. It's helpful to have reference material of what the web page looked like when you captured it.\n",
    "\n",
    "This is something we did at the Markup when we collected Facebook data from a national panel over several months, and again, when we collected Google search results.\n",
    "\n",
    "These receipts don't just play a role in the underlying analysis, they can be used as powerful exhibits in your investigation.\n",
    "\n",
    "<figure>\n",
    "<video autoplay=\"1\" playsinline src=\"assets/ida.webm\">\n",
    "<figcaption align = \"left\" style=\"font-size:80%;\"> A screenshot of a Google Search for \"Ida Tarbell\" that was saved, and stained using a [web parsing](https://themarkup.org/google-the-giant/2020/07/28/how-we-analyzed-google-search-results-web-assay-parsing-tool#google-search-flow) tool created for an [investigation](https://themarkup.org/google-the-giant/2020/07/28/google-search-results-prioritize-google-products-over-competitors) that found Google gives its own properties 41% of the first page of Search results. </figcaption>\n",
    "</figure>"
   ]
  },
  {
   "cell_type": "markdown",
   "id": "cc241954",
   "metadata": {},
   "source": [
    "## Bigger isn't always better\n",
    "\n",
    "Be smart with how you use data, rather than depend on big numbers. Data isn't in-itself valuable.\n",
    "\n",
    "It's better to start off smaller, with a trial analysis (we often call it a quick-sniff in the newsroom) to make sure you have a testable hypothesis.\n",
    "\n",
    "This is always a step I use at my newsroom to plan longer data investigations, and see what kind of story we could write if we spent more time on the data collection and honing the methodology."
   ]
  },
  {
   "cell_type": "markdown",
   "id": "12fbe4ed",
   "metadata": {},
   "source": [
    "## Conclusion\n",
    "\n",
    "These tips are not definitive. If you want to share tips, please make a suggestion via email or GitHub. "
   ]
  },
  {
   "cell_type": "code",
   "execution_count": null,
   "id": "13be35a3",
   "metadata": {},
   "outputs": [],
   "source": []
  }
 ],
 "metadata": {
  "kernelspec": {
   "display_name": "Python 3",
   "language": "python",
   "name": "python3"
  },
  "language_info": {
   "codemirror_mode": {
    "name": "ipython",
    "version": 3
   },
   "file_extension": ".py",
   "mimetype": "text/x-python",
   "name": "python",
   "nbconvert_exporter": "python",
   "pygments_lexer": "ipython3",
   "version": "3.7.3"
  }
 },
 "nbformat": 4,
 "nbformat_minor": 5
}
