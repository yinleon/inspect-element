{
 "cells": [
  {
   "cell_type": "markdown",
   "id": "4ae1d029",
   "metadata": {},
   "source": [
    "---\n",
    "title: \"Best practices for data collection\"\n",
    "author: \"Leon Yin\"\n",
    "date-modified: \"02-14-2023\"\n",
    "href: data-collection-best-practices\n",
    "---"
   ]
  },
  {
   "cell_type": "markdown",
   "id": "9b499b02",
   "metadata": {},
   "source": [
    "In the previous chapters, we covered techniques and methods of data collection.\n",
    "\n",
    "You can apply those techniques towards building a _data pipeline_, which can increase the reliability and scale of your data collection significantly. The professional pursuit of this task is data engineering, and it often involves APIs, cloud computing, and databases. \n",
    "\n",
    "Here are some helpful tips for building datasets."
   ]
  },
  {
   "cell_type": "markdown",
   "id": "5fd083b6",
   "metadata": {},
   "source": [
    "## Don't repeat work\n",
    "\n",
    "Before you collect data, check if you've already collected it. \n",
    "\n",
    "Create a programmatic naming structure for a \"target\"-- this could be a filename or a unique ID in a database, and check if it exists. \n",
    "\n",
    "If it already exists, move on.\n",
    "\n",
    "Below is a dummy example of a scraper for video metadata that checks if a file with the same `video_id` has already been saved."
   ]
  },
  {
   "cell_type": "code",
   "execution_count": 1,
   "id": "e8fbe17f",
   "metadata": {},
   "outputs": [],
   "source": [
    "import os\n",
    "import time\n",
    "\n",
    "def collect_video_metadata(video_id):\n",
    "    \"\"\"\n",
    "    This is an example of a data collection function\n",
    "    that checks if a video_id has already been collected.\n",
    "    \"\"\"\n",
    "    # consistently structure the target filename (fn_out)\n",
    "    fn_out = f\"video_metadata_{video_id}.csv\"\n",
    "    \n",
    "    # check if the file exists, if it does: move on\n",
    "    if os.path.exists(fn_out):\n",
    "        print(\"already collected\")\n",
    "        return\n",
    "        \n",
    "    # collect the data (not actually implemented)\n",
    "    print(\"time to do some work!\")\n",
    "    \n",
    "    # save the file. Instead of real data, we'll save text that says, \"Collected\".\n",
    "    with open(fn_out, 'w') as f:\n",
    "        f.write(\"Collected\")\n",
    "    return"
   ]
  },
  {
   "cell_type": "markdown",
   "id": "7411a123",
   "metadata": {},
   "source": [
    "Let's try to collect some video metadata for a `video_id` of our choosing."
   ]
  },
  {
   "cell_type": "code",
   "execution_count": 2,
   "id": "434d88e4",
   "metadata": {},
   "outputs": [],
   "source": [
    "video_id = \"schfiftyfive\""
   ]
  },
  {
   "cell_type": "code",
   "execution_count": 3,
   "id": "393d97c4",
   "metadata": {},
   "outputs": [],
   "source": [
    "#| echo: false\n",
    "def delete_file(video_id):\n",
    "    fn_out = f\"video_metadata_{video_id}.csv\"\n",
    "    if os.path.exists(fn_out):\n",
    "        os.remove(fn_out)\n",
    "delete_file(video_id = video_id)"
   ]
  },
  {
   "cell_type": "code",
   "execution_count": 4,
   "id": "a04e5394",
   "metadata": {},
   "outputs": [
    {
     "name": "stdout",
     "output_type": "stream",
     "text": [
      "time to do some work!\n"
     ]
    }
   ],
   "source": [
    "collect_video_metadata(video_id = video_id)"
   ]
  },
  {
   "cell_type": "markdown",
   "id": "4099c7c6",
   "metadata": {},
   "source": [
    "Let's try to run the same exact function with the same input:"
   ]
  },
  {
   "cell_type": "code",
   "execution_count": 5,
   "id": "8be15f97",
   "metadata": {},
   "outputs": [
    {
     "name": "stdout",
     "output_type": "stream",
     "text": [
      "already collected\n"
     ]
    }
   ],
   "source": [
    "collect_video_metadata(video_id = video_id)"
   ]
  },
  {
   "cell_type": "markdown",
   "id": "7f328030",
   "metadata": {},
   "source": [
    "The second time you call it, the function ends early.\n",
    "\n",
    "When collecting a large dataset, these steps are essential to make the best use of time."
   ]
  },
  {
   "cell_type": "markdown",
   "id": "d97d14a3",
   "metadata": {},
   "source": [
    "## Make a todo list\n",
    "\n",
    "In addition to not repeating yourself, keep tabs on what needs to be done. That could be a simple CSV file, or something more advanced like a queuing system such as AWS SQS. For queuing systems, you can clear tickets that have been finished, and re-do tickets that might have failed."
   ]
  },
  {
   "cell_type": "markdown",
   "id": "ac1ae858",
   "metadata": {},
   "source": [
    "## Save receipts\n",
    "\n",
    "Save the output of every step, especially the earliest steps of collecting a JSON response from a server, or the HTML of a website. \n",
    "\n",
    "You can always re-write parsers that turn that \"raw\" data into something neat and actionable. \n",
    "\n",
    "Websites and API responses _can_ change, so web parsers can break easily. It is safer to just save the data straight from the source, and process it later.\n",
    "\n",
    "If you're collecting a web page through browser automation, save a screenshot. It's helpful to have reference material of what the web page looked like when you captured it.\n",
    "\n",
    "This is something we did at the Markup when we collected Facebook data from a national panel over several months, and again, when we collected Google search results.\n",
    "\n",
    "These receipts don't just play a role in the underlying analysis, they can be used as powerful exhibits in your investigation.\n",
    "\n",
    "<figure>\n",
    "<video autoplay=\"1\" playsinline src=\"assets/ida.webm\">\n",
    "<figcaption align = \"left\" style=\"font-size:80%;\"> A screenshot of a Google Search for \"Ida Tarbell\" that was saved, and stained using a [web parsing](https://themarkup.org/google-the-giant/2020/07/28/how-we-analyzed-google-search-results-web-assay-parsing-tool#google-search-flow) tool created for an [investigation](https://themarkup.org/google-the-giant/2020/07/28/google-search-results-prioritize-google-products-over-competitors) that found Google gives its own properties 41% of the first page of Search results. </figcaption>\n",
    "</figure>"
   ]
  },
  {
   "cell_type": "markdown",
   "id": "39f4d48a",
   "metadata": {},
   "source": [
    "## Break up the work, and make it as small as possible\n",
    "\n",
    "Break scraping tasks into the smallest units of work. This makes scaling up easier, and it also prevents a single point of failure disrupting your entire workflow.\n",
    "\n",
    "Certain components of a scraper can be slower than others. By dividing the tasks, you can better identify bottlenecks to optimize the pipeline. Use to-do lists, and check for existing files to help communicate between tasks.\n",
    "\n",
    "Remember that big problems can be broken up into smaller problems. Being smart can help you get to the finish line faster and debug issues quicker."
   ]
  },
  {
   "cell_type": "markdown",
   "id": "95ae852b",
   "metadata": {},
   "source": [
    "## Bigger isn't always better\n",
    "\n",
    "Be smart with how you use data, rather than depend on big numbers. Data isn't in-itself valuable.\n",
    "\n",
    "It's better to start off smaller, with a trial analysis (we often call it a quick-sniff in the newsroom) to make sure you have a testable hypothesis.\n",
    "\n",
    "This is always a step I use at my newsroom to plan longer data investigations, and see what kind of story we could write if we spent more time on the data collection and honing the methodology."
   ]
  },
  {
   "cell_type": "markdown",
   "id": "857531fa",
   "metadata": {},
   "source": [
    "## Spotcheck everything\n",
    "\n",
    "Manually check your programmatically saved results with the live results. Small errors can be systematic errors if you don't catch them manually. Choose a reasonable sample size (such as N=100), to assure what you're analyzing is exactly what you think you are.\n",
    "\n",
    "This is something we did to [bullet-proof](https://themarkup.org/google-the-giant/2020/07/28/how-we-analyzed-google-search-results-web-assay-parsing-tool#appendix-3-error-analysis) almost every investigation, even if we didn't publish the results of that hand-check."
   ]
  },
  {
   "cell_type": "markdown",
   "id": "8304e329",
   "metadata": {},
   "source": [
    "## Conclusion\n",
    "\n",
    "These tips are not definitive. If you want to share tips, please make a suggestion via email or GitHub. "
   ]
  },
  {
   "cell_type": "code",
   "execution_count": null,
   "id": "2e688668",
   "metadata": {},
   "outputs": [],
   "source": []
  }
 ],
 "metadata": {
  "kernelspec": {
   "display_name": "Python 3",
   "language": "python",
   "name": "python3"
  },
  "language_info": {
   "codemirror_mode": {
    "name": "ipython",
    "version": 3
   },
   "file_extension": ".py",
   "mimetype": "text/x-python",
   "name": "python",
   "nbconvert_exporter": "python",
   "pygments_lexer": "ipython3",
   "version": "3.7.3"
  }
 },
 "nbformat": 4,
 "nbformat_minor": 5
}
