{
 "cells": [
  {
   "cell_type": "raw",
   "id": "3c6e011a-fbb7-45c5-a091-6f9d67fff009",
   "metadata": {},
   "source": [
    "---\n",
    "title: \"Automated browsing\"\n",
    "execute:\n",
    "  echo: false\n",
    "jupyter: python3\n",
    "---"
   ]
  },
  {
   "cell_type": "markdown",
   "id": "2786ef02-068e-44a0-91fb-dab4f9513f17",
   "metadata": {},
   "source": [
    "Exploiting hidden APIs works in a variety of scenarios, but there is one group of problems where using a full browser is beneficial: simulating user behavior, for example when studying personalization.\n",
    "\n",
    "When a real user browses the web, they also click, scroll, and react to what they see on screen, and often it's hard (if even possible) to determine just from the API calls what's actually visible and where on the screen it's placed. In the background their browser collects and updates cookies and thus announces parts of their browsing history to third parties. \n",
    "\n",
    "Simulating all of this through API calls might be feasible but it is much easier using an automated browser.\n",
    "An automated browser will allow us to perform all of these actions while taking care of cookies and sessions.\n",
    "We can even still use the hidden APIs simultaneously for improved data collection!\n",
    "\n",
    "## Auditing personalization on TikTok\n",
    "In this tutorial we will attempt study personalization on TikTok as an example, but similar principles would apply in studying any other service. \n",
    "An investigation conducted by the Wall Street Journal has shown that even when a user does not like, share, or follow any creators, TikTok still personalizes their For You Page based on how long they watch the recommended videos.\n",
    "In particular, they showed that users who watch content related to depression and skip other content are soon presented with mental health content and little else. You can watch their video here:"
   ]
  },
  {
   "cell_type": "code",
   "execution_count": 3,
   "id": "cb1a985e-6fe8-4954-b3dd-2aeba23063bc",
   "metadata": {
    "tags": []
   },
   "outputs": [
    {
     "data": {
      "text/html": [
       "<iframe width=\"560\" height=\"315\" src=\"https://www.youtube.com/embed/nfczi2cI6Cs\"></iframe>\n"
      ],
      "text/plain": [
       "<IPython.core.display.HTML object>"
      ]
     },
     "metadata": {},
     "output_type": "display_data"
    }
   ],
   "source": [
    "%%HTML\n",
    "<iframe width=\"560\" height=\"315\" src=\"https://www.youtube.com/embed/nfczi2cI6Cs\"></iframe>"
   ]
  },
  {
   "cell_type": "markdown",
   "id": "d243ccd9-2a26-4985-8ebe-5cf28aa82570",
   "metadata": {},
   "source": [
    "Through the next few tutorials we will try to replicate elements of this study and see if we can trigger personalization. \n",
    "The simplest setup will watch all tiktoks whose description mentions one of our selected keywords and skip all others.\n",
    "At least for starters we will use topics lighter than depression to avoid watching such content ourselves.\n",
    "\n",
    "> When developing your audits start with low-stakes themes, both to minimize your exposure to damaging content and to avoid boosting their popularity unnecessarily.\n",
    "\n",
    "\n",
    "\n",
    "## Tutorial plan\n",
    "The automated browsing tutorial is divided into the following lessons:\n",
    "\n",
    "1. **Tutorial 1: The basics**\n",
    "    * Setting up the automated browser for use with Python\n",
    "    * Hiding typical tell-tales of an automated browser to circumvent anti-bot protections\n",
    "    * Finding particular elements on the screen, reading their content, and interacting with them\n",
    "    * Scrolling\n",
    "    * Taking screenshots\n",
    "    * Saving data for future analysis\n",
    "    \n",
    "1. **Tutorial 2: Hardening the setup**\n",
    "    * Setting up multiple email addresses for use with testing\n",
    "    * Tracking the changing location of elements\n",
    "    * Storing cookies for future use\n",
    "\n",
    "1. **Tutorial 3: Automated browsing and hidden APIs**\n",
    "    * Intercepting the background API calls for improved data collection\n",
    "    * Combining automated browsing with background API calls\n",
    "    \n",
    "1. **Tutorial 4: The complete setup**\n",
    "    * Experiment design considerations\n",
    "    * Data analysis"
   ]
  }
 ],
 "metadata": {
  "kernelspec": {
   "display_name": "Python 3 (ipykernel)",
   "language": "python",
   "name": "python3"
  },
  "language_info": {
   "codemirror_mode": {
    "name": "ipython",
    "version": 3
   },
   "file_extension": ".py",
   "mimetype": "text/x-python",
   "name": "python",
   "nbconvert_exporter": "python",
   "pygments_lexer": "ipython3",
   "version": "3.9.7"
  }
 },
 "nbformat": 4,
 "nbformat_minor": 5
}
