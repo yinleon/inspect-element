{
 "cells": [
  {
   "cell_type": "raw",
   "id": "3c6e011a-fbb7-45c5-a091-6f9d67fff009",
   "metadata": {},
   "source": [
    "---\n",
    "title: \"Automated browsing: Part 1\"\n",
    "execute:\n",
    "  echo: true\n",
    "jupyter: python3\n",
    "---"
   ]
  },
  {
   "cell_type": "markdown",
   "id": "d243ccd9-2a26-4985-8ebe-5cf28aa82570",
   "metadata": {},
   "source": [
    "This is the first part of our automated browser tutorial. We will cover the following common tasks as we prepare to study personalization on TikTok:\n",
    "\n",
    "* Setting up the automated browser for use with Python.\n",
    "* Hiding typical tell-tales of an automated browser to circumvent anti-bot protections\n",
    "* Finding particular elements on the screen, reading their content, and interacting with them\n",
    "* Scrolling\n",
    "* Taking screenshots\n",
    "* Saving data for future analysis"
   ]
  },
  {
   "cell_type": "markdown",
   "id": "3f3834ea",
   "metadata": {},
   "source": [
    "## Step 1: Setting up the browser\n",
    "Our setup will consist from a real browser and an interface that will allow us to control that browser from python. We chose Google Chrome - not because it's our favorite but because using the most popular browser will help us blend in with real users.\n",
    "\n",
    "### 1.1 Installing Google Chrome\n",
    "We will do this tutorial using Google Chrome. Please download the most recent version from [here](https://www.google.com/chrome/).\n",
    "\n",
    "If you already have Google Chrome installed, please make sure it's at its newest version by opening pasting this address in the Chrome address bar: [chrome://settings/help](chrome://settings/help) and verifying that there are no pending updates.\n",
    "\n",
    "![](assets/browser1_01_version.png \"Google Chrome window showing the current version\")\n",
    "\n",
    "### 1.2 Installing the webdriver\n",
    "Webdriver is our interface between Python and the browser. It is specific to the browser (there are different webdrivers for Firefox, Safari, etc) and even to the particular version of the browser. It's easier to ensure we got the correct version by installing the webdriver that automatically detects the current version of Chrome. Run the code in the cell below to do that.\n",
    "\n",
    "> Adding an exclamation mark before code in Jupyter notebook allows you to run commands as if you were in the terminal."
   ]
  },
  {
   "cell_type": "code",
   "execution_count": null,
   "id": "1e38fdea",
   "metadata": {
    "tags": []
   },
   "outputs": [],
   "source": [
    "!pip install chromedriver-binary-auto"
   ]
  },
  {
   "cell_type": "markdown",
   "id": "28f56df2-5597-4593-b3a2-3cff6ad9cb29",
   "metadata": {},
   "source": [
    "Let's see if the installation worked correctly! Run the cell below to import the correct webdriver and open a new Chrome window."
   ]
  },
  {
   "cell_type": "code",
   "execution_count": 1,
   "id": "8d77b390-b457-4aba-bacb-05e67941392f",
   "metadata": {
    "tags": []
   },
   "outputs": [],
   "source": [
    "from selenium import webdriver\n",
    "import chromedriver_binary # adds the chromedriver binary to the path\n",
    "\n",
    "driver = webdriver.Chrome()"
   ]
  },
  {
   "cell_type": "markdown",
   "id": "e456c196",
   "metadata": {},
   "source": [
    "The `chrome-driver-auto` package should have installed a driver that's suitable for your current Chrome version and line above should have opened a new Chrome window. \n",
    "Instead you might get a version mismatch error, like this:\n",
    "\n",
    "```\n",
    "SessionNotCreatedException: Message: session not created: This version of ChromeDriver only supports Chrome version 112\n",
    "Current browser version is 113 with binary path /Applications/Google Chrome.app/Contents/MacOS/Google Chrome\n",
    "```\n",
    "It means that you probably updated your Chrome in the meantime. To fix it, reinstall the Python package:"
   ]
  },
  {
   "cell_type": "code",
   "execution_count": null,
   "id": "0abe4272",
   "metadata": {},
   "outputs": [],
   "source": [
    "!pip install --upgrade --force-reinstall chromedriver-binary-auto"
   ]
  },
  {
   "cell_type": "markdown",
   "id": "77dfa72c",
   "metadata": {},
   "source": [
    "If everything works fine and you have the window open, our setup is complete and you can now close the Chrome window:"
   ]
  },
  {
   "cell_type": "code",
   "execution_count": null,
   "id": "cc790893",
   "metadata": {},
   "outputs": [],
   "source": [
    "driver.close()"
   ]
  },
  {
   "cell_type": "markdown",
   "id": "a5c050bd",
   "metadata": {},
   "source": [
    "# Step 2: Hiding typical tell-tales of an automated browser\n",
    "When you opened Chrome you noticed that it displays a warning about being an automated session. \n",
    "Even though the warning is only displayed to you, there are tricks that website operators can use to detect these warnings and refuse to serve content. \n",
    "\n",
    "Let's remove those!"
   ]
  },
  {
   "cell_type": "code",
   "execution_count": 19,
   "id": "ed76dffd-a2f4-450a-8967-701e348d6e86",
   "metadata": {
    "tags": []
   },
   "outputs": [],
   "source": [
    "def new_window():\n",
    "    options = webdriver.ChromeOptions()\n",
    "    options.add_argument(\"start-maximized\")\n",
    "\n",
    "    # remove all signs of this being an automated browser\n",
    "    options.add_argument('--disable-blink-features=AutomationControlled')\n",
    "    options.add_experimental_option(\"excludeSwitches\", [\"enable-automation\"])\n",
    "    options.add_experimental_option('useAutomationExtension', False)\n",
    "\n",
    "    # open the browser with the new options\n",
    "    driver = webdriver.Chrome(options=options)\n",
    "    return driver"
   ]
  },
  {
   "cell_type": "code",
   "execution_count": 20,
   "id": "df2c40a9-aa1c-401a-9c47-e1da5ebe9b61",
   "metadata": {
    "tags": []
   },
   "outputs": [],
   "source": [
    "driver = new_window()\n",
    "driver.get('https://tiktok.com')"
   ]
  },
  {
   "cell_type": "markdown",
   "id": "0fc455b7",
   "metadata": {},
   "source": [
    "This should open a new window without those warnings and navigate to tiktok.com:\n",
    "\n",
    "![](assets/browser1_02_tiktok.png \"tiktok main page\")\n",
    "\n",
    "\n"
   ]
  },
  {
   "cell_type": "markdown",
   "id": "714322e6-7c6e-4723-86e2-ecd0e6d24db6",
   "metadata": {},
   "source": [
    "## Step 3: Finding elements on page and interacting with them\n",
    "\n",
    "We will perform our first attempt at the experiment without logging in, but we will also learn how to create multiple accounts and how to log in later.\n",
    "\n",
    "Instead of logging in, our first interaction will be dissmissing this login window. Doing this programmatically has two steps:\n",
    "\n",
    "1. We need to identify that \\[X\\] button in the page source \n",
    "2. And then click it\n",
    "\n",
    "Let's inspect the button:\n",
    "![](assets/browser1_03_dismiss.png \"Inspecting the Dismiss button\")\n",
    "\n",
    "In my case, the particular element that the Developer Tools navigated to is just the graphic on the button, not the button itself, but you can still find the actual button by hovering your mouse over different elements in the source and seeing what elements on page are highlighted:\n",
    "\n",
    "![](assets/browser1_04_inspect.png \"Inspecting the Dismiss button\")\n",
    "\n",
    "Our close button is a `<div>` element, whose `data-e2e` attribute is `\"modal-close-inner-button\"`. One way to find it would be using a CSS_SELECTOR, like so:"
   ]
  },
  {
   "cell_type": "code",
   "execution_count": 21,
   "id": "e717e7a8-2732-46e7-8cfa-dec0512147e3",
   "metadata": {
    "tags": []
   },
   "outputs": [
    {
     "data": {
      "text/plain": [
       "<selenium.webdriver.remote.webelement.WebElement (session=\"0973a35169d61570b23b45906e5a5494\", element=\"17ecfc45-186c-4f7b-91ae-d30a109d4de8\")>"
      ]
     },
     "execution_count": 21,
     "metadata": {},
     "output_type": "execute_result"
    }
   ],
   "source": [
    "from selenium.webdriver.common.by import By\n",
    "\n",
    "close_button = driver.find_element(By.CSS_SELECTOR, '[data-e2e=\"modal-close-inner-button\"]')\n",
    "close_button"
   ]
  },
  {
   "cell_type": "markdown",
   "id": "d0217d7e-758a-440c-98d2-f988a9e85648",
   "metadata": {},
   "source": [
    "We seem to have found it, let's click it!"
   ]
  },
  {
   "cell_type": "code",
   "execution_count": 22,
   "id": "c1bf9d78-124b-4317-9a0a-e97b933d54e3",
   "metadata": {
    "tags": []
   },
   "outputs": [],
   "source": [
    "close_button.click()"
   ]
  },
  {
   "cell_type": "markdown",
   "id": "2b3518bd-1eda-4403-8100-37c03c6d6f38",
   "metadata": {},
   "source": [
    "# Step 4: Scrolling\n",
    "\n",
    "We now have a browser instance open and displaying the For You Page. Let's scroll through the videos.\n",
    "A human user would press the arrow down key on their keyboard. We will do that programmatically instead:"
   ]
  },
  {
   "cell_type": "code",
   "execution_count": 8,
   "id": "61034b7e",
   "metadata": {
    "tags": []
   },
   "outputs": [],
   "source": [
    "from selenium.webdriver.common.action_chains import ActionChains\n",
    "from selenium.webdriver.common.keys import Keys\n",
    "\n",
    "def arrow_down(driver):\n",
    "    \"\"\"\n",
    "    Sends the ARROW_DOWN key to a webdriver instance.\n",
    "    \"\"\"\n",
    "    actions = ActionChains(driver)\n",
    "    actions.send_keys(Keys.ARROW_DOWN)\n",
    "    actions.perform()"
   ]
  },
  {
   "cell_type": "code",
   "execution_count": 10,
   "id": "286f843a",
   "metadata": {
    "tags": []
   },
   "outputs": [],
   "source": [
    "# run this cell a few times to scroll down further\n",
    "arrow_down(driver)"
   ]
  },
  {
   "cell_type": "markdown",
   "id": "4417285e",
   "metadata": {},
   "source": [
    "# Step 5: Finding tiktoks on the page\n",
    "\n",
    "Now that the site loaded and you can browse it, let's find all the tiktoks that are displayed and extract the meta information from each of them.\n",
    "\n",
    "1. Right click on the white space around a tiktok and choose \"Inspect\".\n",
    "\n",
    "    ![Inspect Element](assets/browser1_05_inspect_tiktok_a.png)\n",
    "\n",
    "1. Hover your mouse over the surrounding `<div>` elements and observe the highlighted elements on the page to see which ones correspond to each tiktok.\n",
    "\n",
    "    ![Inspect Element](assets/browser1_05_inspect_tiktok_b.png)\n",
    "\n",
    "1. You will see that each tiktok is in a separate `<div>` container but each of these containers has the same classes, in my case it's `tiktok-1nncbiz-DivItemContainer etvrc4k0`. Note that class names are separated by spaces, and the containers can be found by both `tiktok-1nncbiz-DivItemContainer` and `etvrc4k0`.\n",
    "1. Let's start by writing a function that returns the list of all displayed tiktoks:"
   ]
  },
  {
   "cell_type": "code",
   "execution_count": 13,
   "id": "1af73321",
   "metadata": {
    "tags": []
   },
   "outputs": [],
   "source": [
    "def get_videos(driver, class_name='etvrc4k0'):\n",
    "    return driver.find_elements(By.CLASS_NAME, class_name)"
   ]
  },
  {
   "cell_type": "code",
   "execution_count": 14,
   "id": "8bdc7e35",
   "metadata": {
    "tags": []
   },
   "outputs": [
    {
     "data": {
      "text/plain": [
       "[<selenium.webdriver.remote.webelement.WebElement (session=\"a8f726353606bbff812815718da10cb1\", element=\"f4790407-5eb5-4a1f-96fd-2a2a8a467b62\")>,\n",
       " <selenium.webdriver.remote.webelement.WebElement (session=\"a8f726353606bbff812815718da10cb1\", element=\"7cf72f4c-5bd8-41a0-a406-f8b444512fa2\")>,\n",
       " <selenium.webdriver.remote.webelement.WebElement (session=\"a8f726353606bbff812815718da10cb1\", element=\"7f51093f-53be-4db4-8736-eb69e362e3d5\")>,\n",
       " <selenium.webdriver.remote.webelement.WebElement (session=\"a8f726353606bbff812815718da10cb1\", element=\"2f69b160-755f-4487-a7dc-277c8ca7970e\")>,\n",
       " <selenium.webdriver.remote.webelement.WebElement (session=\"a8f726353606bbff812815718da10cb1\", element=\"5b9b0fba-8236-47d7-b3fd-0efefa65e05e\")>,\n",
       " <selenium.webdriver.remote.webelement.WebElement (session=\"a8f726353606bbff812815718da10cb1\", element=\"8d231c15-143d-4f4f-9ab9-043d3343363e\")>,\n",
       " <selenium.webdriver.remote.webelement.WebElement (session=\"a8f726353606bbff812815718da10cb1\", element=\"01a4d1e3-00af-4516-aa0f-4dd83fbc1eb6\")>,\n",
       " <selenium.webdriver.remote.webelement.WebElement (session=\"a8f726353606bbff812815718da10cb1\", element=\"67623980-f571-44b5-b347-917a4375377c\")>,\n",
       " <selenium.webdriver.remote.webelement.WebElement (session=\"a8f726353606bbff812815718da10cb1\", element=\"d8275845-4fd2-4a40-9274-d34e9a7c8113\")>]"
      ]
     },
     "execution_count": 14,
     "metadata": {},
     "output_type": "execute_result"
    }
   ],
   "source": [
    "get_videos(driver)"
   ]
  },
  {
   "cell_type": "markdown",
   "id": "9df39916",
   "metadata": {},
   "source": [
    "# Step 6: Parsing a tiktok\n",
    "Now that we found all the tiktoks on the page, let's extract the description from each - this is how we will decide whether to watch this tiktok or to skip it.\n",
    "\n",
    "1. Pick any description, right click, Inspect. \n",
    "1. Let's locate the `<div>` that contains the whole description (including any hashtags) and make a note of its class\n",
    "1. Now let's write a function that given one tiktok extracts its description (note that you can get the text content of any element by calling `element.text`)"
   ]
  },
  {
   "cell_type": "code",
   "execution_count": 15,
   "id": "79aa8c6b",
   "metadata": {
    "tags": []
   },
   "outputs": [],
   "source": [
    "def get_description(item, class_name='ejg0rhn0'):\n",
    "    \"\"\"\n",
    "    Given a div with a single video, extract its text description\n",
    "    \"\"\"\n",
    "    return item.find_element(By.CLASS_NAME, class_name).text"
   ]
  },
  {
   "cell_type": "code",
   "execution_count": 16,
   "id": "f6d9467e",
   "metadata": {
    "tags": []
   },
   "outputs": [
    {
     "name": "stdout",
     "output_type": "stream",
     "text": [
      "\n",
      "\n",
      "You NEED to hear Adele sing the backing vocals of Rolling in the Deep 🤯\n",
      "#adele #rollinginthedeep #carpoolkaraoke\n",
      "\n",
      "\n",
      "\n",
      "#greenscreen Based on true events. #fyp #work #working #corporate #corporatelife #corporatetiktok #corporateamerica #corporatehumor #office #officelife #manager #managersbelike #career #quietquit #actyourwage #skit #funny #sketch #quietquitting #veronica\n",
      "\n",
      "ASMR + pretty in pink = a sweetly satisfying SHEIN unboxing 👂💗 @joselyn.luna\n",
      "\n",
      "#SHEIN #saveinstyle #SHEINbeauty #fyp\n",
      "\n",
      "Cow Ain’t playing games 💀 @barstooloutdoors (via:@tampa.jitjay )\n",
      "\n",
      "How many trends did u know?\n",
      "\n",
      "BESTIE!!!!💘\n",
      "\n",
      "\n",
      "\n"
     ]
    }
   ],
   "source": [
    "tiktoks = get_videos(driver)\n",
    "for tt in tiktoks: \n",
    "    print(get_description(tt))\n",
    "    print()"
   ]
  },
  {
   "cell_type": "markdown",
   "id": "c9b799b8",
   "metadata": {},
   "source": [
    "# Step 7: Putting it together\n",
    "We now can read the descriptions of tiktok and move between them. \n",
    "That's most of the setup we need to try a very simple measurement - let's watch all tiktoks that mention commedy in their description and skip all those that don't. After a few hundred, we will see whether there are more commedy videos over time."
   ]
  },
  {
   "cell_type": "code",
   "execution_count": 17,
   "id": "0e4a1209",
   "metadata": {
    "tags": []
   },
   "outputs": [],
   "source": [
    "# if the description has these words, we will watch the video\n",
    "keywords = ['comedy', 'standup', 'comic', 'joke', 'stand-up', 'crowdwork', 'funny', 'improv', 'humor']\n",
    "\n"
   ]
  },
  {
   "cell_type": "code",
   "execution_count": 23,
   "id": "73f44255-e329-469d-a2e5-f4156cd83c5d",
   "metadata": {
    "tags": []
   },
   "outputs": [],
   "source": [
    "import time\n",
    "\n",
    "# open a new window and go to tiktok\n",
    "driver = new_window()\n",
    "driver.get('https://tiktok.com')"
   ]
  },
  {
   "cell_type": "code",
   "execution_count": 24,
   "id": "2bbca444-f89f-4cfc-a399-c59f78aadf4e",
   "metadata": {
    "tags": []
   },
   "outputs": [],
   "source": [
    "# close the login modal\n",
    "driver.find_element(By.CSS_SELECTOR, '[data-e2e=\"modal-close-inner-button\"]').click()"
   ]
  },
  {
   "cell_type": "code",
   "execution_count": null,
   "id": "ee613c69-1b0c-42d4-b31c-7711425bfc7b",
   "metadata": {
    "tags": []
   },
   "outputs": [],
   "source": [
    "for tiktok_index in range(0, 100):\n",
    "    \n",
    "    # get all \n",
    "    tiktoks = get_videos(driver)\n",
    "    \n",
    "    # the current tiktok \n",
    "    current_tt = tiktoks[tiktok_index]\n",
    "    \n",
    "    # read its description\n",
    "    description = get_description(current_tt)\n",
    "    \n",
    "    # assume we're not watching it\n",
    "    decision = False\n",
    "    \n",
    "    # check in any of the keywords is in the description\n",
    "    for keyword in keywords:\n",
    "        if keyword in description:\n",
    "            # we have a video of interest, let's watch it for 30 seconds\n",
    "            decision = True\n",
    "            break\n",
    "            \n",
    "    print(tiktok_index, decision, description )\n",
    "    \n",
    "    if decision:\n",
    "        # we have a video of interest, let's watch it for 30 seconds\n",
    "        time.sleep(30)\n",
    "    \n",
    "    # move to the next video and allow some time to make sure the scrolling happened\n",
    "    arrow_down(driver)\n",
    "    time.sleep(2)\n",
    "    \n",
    "    \n",
    "    "
   ]
  },
  {
   "cell_type": "markdown",
   "id": "d0f4e297-5752-446d-99df-a71a8de7d726",
   "metadata": {
    "tags": []
   },
   "source": [
    "## Summary\n",
    "And with this simple proof of concept tiktok bot we conclude our very first lesson on browser automation! \n",
    "There is plenty left to do before we can reliably use this for an audit, but it is a great start. "
   ]
  },
  {
   "cell_type": "code",
   "execution_count": null,
   "id": "2d309360-9d80-4eb5-a54b-c1311092c752",
   "metadata": {},
   "outputs": [],
   "source": []
  }
 ],
 "metadata": {
  "kernelspec": {
   "display_name": "Python 3 (ipykernel)",
   "language": "python",
   "name": "python3"
  },
  "language_info": {
   "codemirror_mode": {
    "name": "ipython",
    "version": 3
   },
   "file_extension": ".py",
   "mimetype": "text/x-python",
   "name": "python",
   "nbconvert_exporter": "python",
   "pygments_lexer": "ipython3",
   "version": "3.9.7"
  }
 },
 "nbformat": 4,
 "nbformat_minor": 5
}
