{
 "cells": [
  {
   "cell_type": "raw",
   "id": "aeaa0e9f",
   "metadata": {},
   "source": [
    "---\n",
    "title: \"Browser Automation\"\n",
    "pagetitle: \"Browser Automation\"\n",
    "description-meta: \"Introduction, case studies, and exercises for automating browsers.\"\n",
    "description-title: \"Introduction, case studies, and exercises for automating browsers.\"\n",
    "author: \"Piotr Sapiezynski, Leon Yin\"\n",
    "author-meta: Piotr Sapiezynski, Leon Yin\"\n",
    "date: \"06-07-2023\"\n",
    "date-modified: \"06-08-2023\"\n",
    "execute: \n",
    "  enabled: false\n",
    "keywords: data collection, web scraping, browser automation, algorithm audits, personalization\n",
    "twitter-card:\n",
    "  title: Browser Automation\n",
    "  description: Introduction, case studies, and exercises for automating browsers.\n",
    "  image: assets/inspect-element-logo.jpg\n",
    "open-graph:\n",
    "  title: Browser Automation\n",
    "  description: Introduction, case studies, and exercises for automating browsers.\n",
    "  locale: us_EN\n",
    "  site-name: Inspect Element\n",
    "  image: assets/inspect-element-logo.jpg\n",
    "href: browser_automation\n",
    "---"
   ]
  },
  {
   "cell_type": "code",
   "execution_count": 43,
   "id": "25b0e7ac",
   "metadata": {},
   "outputs": [
    {
     "data": {
      "text/markdown": [
       "\n",
       "<a type=\"button\" class=\"btn btn-outline-primary btn-sm\" target=\"_blank\" href=\"https://inspectelement.org/browser_automation\">📖 Read online</a>\n",
       "<a type=\"button\" class=\"btn btn-outline-primary btn-sm\" target=\"_blank\" href=\"https://colab.research.google.com/github/yinleon/inspect-element/blob/main/browser_automation.ipynb\">🖥️ Interactive version</a>\n",
       "<a type=\"button\" class=\"btn btn-outline-primary btn-sm\" target=\"_blank\" href=\"https://github.com/yinleon/inspect-element/blob/main/browser_automation.ipynb\">⚙️ GitHub</a>\n",
       "<a type=\"button\" class=\"btn btn-outline-primary btn-sm\" target=\"_self\" href=\"#citation\">❞ Citation</a>\n",
       "<br>\n"
      ],
      "text/plain": [
       "<IPython.core.display.Markdown object>"
      ]
     },
     "metadata": {},
     "output_type": "display_data"
    }
   ],
   "source": [
    "#| echo: false\n",
    "from utils import build_buttons\n",
    "from importlib import reload\n",
    "import utils\n",
    "reload(utils)\n",
    "utils.build_buttons(link= 'browser_automation', \n",
    "              github= 'https://github.com/yinleon/inspect-element/blob/main/browser_automation.ipynb',\n",
    "              citation= True)"
   ]
  },
  {
   "cell_type": "markdown",
   "id": "473b5055",
   "metadata": {},
   "source": [
    "# Intro\n",
    "\n",
    "Browser automation is used to programmatically interact with web applications. \n",
    "\n",
    "Its primary use is to test websites (internally) by simulating user behavior (mouse clicks, scrolling, etc), but it can also be used for web scraping.\n",
    "\n",
    "Browser automation isn’t always the best situation for building a dataset, but it is necessary when you need to:\n",
    "\n",
    "1. **Scrape rendered HTML**: browser automation lets you see what's on a website as a user would.\n",
    "1. **Simulate user behavior**: comes in handy when you want to experiment with personalization.\n",
    "1. **Wait for scripts and code to execute**: let's you retrieve information that requires a code to run behind the scenes.\n",
    "\n",
    "Some popular browser automation tools are [Puppeteer](https://pptr.dev/), [Playwright](https://playwright.dev/), and [Selenium](https://www.selenium.dev/documentation/webdriver/elements/). \n",
    "\n",
    "The tutorials in this section will use Selenium in Python.\n",
    "\n",
    "👉[Click here to jump to the tutorial](#tutorial).\n",
    "\n",
    "\n",
    "# Case Studies\n",
    "## Case Study 1: Google Search\n",
    "In the investigation “[Google the Giant](https://themarkup.org/google-the-giant/2020/07/28/google-search-results-prioritize-google-products-over-competitors),” The Markup wanted to measure how much a Google Search page is “Google.” Aside from the daunting task of classifying what is Google and what isn’t, the team of two investigative journalists; Adrianne Jeffries and Leon Yin (a co-author of this section) needed to measure real estate on a web page.\n",
    "\n",
    "The team developed a [targeted staining technique](https://themarkup.org/google-the-giant/2020/07/28/how-we-analyzed-google-search-results-web-assay-parsing-tool) inspired by the life sciences called an assay– commonly used to highlight the presence of chemicals, compounds, or cancers. \n",
    "\n",
    "<figure>\n",
    "<img src=\"assets/browser0_01_threestep1.png\"\n",
    "    alt=\"https://themarkup.org/google-the-giant/2020/07/28/how-we-analyzed-google-search-results-web-assay-parsing-tool#google-search-flow\" \n",
    "    width=\"600px\"/ >\n",
    "<p>Source: <a href=\"https://themarkup.org/google-the-giant/2020/07/28/how-we-analyzed-google-search-results-web-assay-parsing-tool\">\n",
    "    The Markup\n",
    "</a>\n",
    "</figure>\n",
    "\n",
    "The reporters created over [68 web parsers](https://github.com/the-markup/investigation-google-search-audit/blob/master/utils/parsers.py) to identify each element on a web page that was Google, along with three other categories. Once an element was identified, they could find the coordinates of each element along with its corresponding bounding box. Using the categorization and bounding box, reporters could see how many pixels were allocated to Google properties, as well as where they were placed on a page.\n",
    "\n",
    "<figure>\n",
    "<img src=\"assets/browser0_02_soup1.png\"\n",
    "    alt=\"https://themarkup.org/google-the-giant/2020/07/28/how-we-analyzed-google-search-results-web-assay-parsing-tool#google-search-flow\" \n",
    "    width=\"600px\"/ >\n",
    "<p>Source: <a href=\"https://themarkup.org/google-the-giant/2020/07/28/how-we-analyzed-google-search-results-web-assay-parsing-tool\">\n",
    "    The Markup\n",
    "</a>\n",
    "</figure>\n",
    "\n",
    "This analysis is only possible by **parsing the rendered HTML page** with a fixed window size (in their case an iPhone X). \n",
    "\n",
    "Using browser automation to investigate and audit real estate on a website provides an intuitive metric for self-preferencing and anti-competitive business practices. For example, this case study was placed above the others because one of the co-authors happened to work on it."
   ]
  },
  {
   "cell_type": "markdown",
   "id": "e05de692",
   "metadata": {},
   "source": [
    "## Case Study 2: Google's Ad Network\n",
    "Over two-thirds of the 1.3 million ad sellers on Google are anonymous.\n",
    "\n",
    "Watchdog organizations such as [Check My Ads](https://checkmyads.org/branded/google-ads-has-become-a-massive-dark-money-operation/) use methods of de-anonymizing ad buyers to hold Google accountable for funding individuals and organizations that promote hate and spread false information.\n",
    "\n",
    "In 2022, reporters from ProPublica automated this method using the browser automation tool PlayWright. \n",
    "\n",
    "TK HOW THEY DID THIS.\n",
    "\n",
    "## Case Study 3: TikTok Personalization\n",
    "An investigation conducted by the Wall Street Journal, \"[Inside TikTok's Algorithm](https://www.wsj.com/articles/tiktok-algorithm-video-investigation-11626877477)\" found that even when a user does not like, share, or follow any creators, TikTok still personalizes their \"For You Page\" based on how long they watch the recommended videos.\n",
    "\n",
    "In particular, the WSJ reporters found that users who watch content related to depression and skip other content are soon presented with mental health content and little else. Importantly, this effect happened even when the users did not explicitly like or share any videos, nor did they follow any creators. \n",
    "\n",
    "You can watch the WSJ's video showing how they mimick user behavior to study the effects of personalization:"
   ]
  },
  {
   "cell_type": "markdown",
   "id": "672d7fa3",
   "metadata": {
    "tags": []
   },
   "source": [
    "<figure>\n",
    "<iframe width=\"560\" height=\"315\" src=\"https://www.youtube.com/embed/nfczi2cI6Cs\"></iframe>\n",
    "<figcaption align = \"left\" style=\"font-size:80%;\"> Source: \"How Tiktok's Algorithm Figures You Out | WSJ\" on YouTube</figcaption>\n",
    "</figure>"
   ]
  },
  {
   "cell_type": "markdown",
   "id": "07b5a5ad",
   "metadata": {},
   "source": [
    "# Tutorial\n",
    "In the hands-on tutorial we will attempt to study personalization on TikTok. We’re going to teach you the basics of browser automation in Selenium, and similar principles could be used in studying any other service and with other automation tools.\n",
    "\n",
    "Through the next few tutorials we will try to replicate elements of this study and see if we can trigger personalization. In line with the WSJ investigation, we will use browser automation to watch all TikTok videos where the description mentions keywords of our choosing and skips all others. For this tutorial, we’ll use lighter topics than depression (the example chosen in the WSJ investigation.).\n",
    "\n",
    "::: {.callout-tip}\n",
    "#### Pro tip: Minimizing harms\n",
    "When developing your audits start with low-stakes themes, both to minimize your exposure to damaging content and to avoid boosting their popularity unnecessarily.\n",
    ":::\n",
    "\n",
    "\n",
    "In the tutorial you will learn the following practical skills:\n",
    "\n",
    "* Setting up the automated browser for use with Python\n",
    "* Hiding typical tell-tales of an automated browser to circumvent anti-bot protections\n",
    "* Finding particular elements on the screen, reading their content, and interacting with them\n",
    "* Scrolling\n",
    "* Taking screenshots\n",
    "    \n",
    "    \n",
    "[//]: # \"1. **Tutorial 2: Hardening the setup**\"\n",
    "[//]: # \"    * Setting up multiple email addresses for use with testing\"\n",
    "[//]: # \"    * Tracking the changing location of elements\"\n",
    "[//]: # \"    * Storing cookies for future use\"\n",
    "[//]: # \" \"\n",
    "[//]: # \"1. **Tutorial 3: Automated browsing and hidden APIs**\"\n",
    "[//]: # \"    * Intercepting the background API calls for improved data collection\"\n",
    "[//]: # \"    * Combining automated browsing with background API calls\"\n",
    "[//]: # \" \"   \n",
    "[//]: # \"1. **Tutorial 4: The complete setup**\"\n",
    "[//]: # \"    * Experiment design considerations\"\n",
    "[//]: # \"    * Data analysis\"\n",
    "\n",
    "Let's get started!"
   ]
  },
  {
   "cell_type": "markdown",
   "id": "76337c0b",
   "metadata": {},
   "source": [
    "## Step 1: Setting up the browser\n",
    "Our setup will consist of a real browser and an interface that will allow us to control that browser from python. We chose Google Chrome - not because it's our favorite but because using the most popular browser will help us blend in with real users.\n",
    "\n",
    "### 1.1 Installing Google Chrome\n",
    "We will do this tutorial using Google Chrome. Please download the most recent version from [here](https://www.google.com/chrome/).\n",
    "\n",
    "If you already have Google Chrome installed, please make sure it's at its newest version by opening Chrome and pasting this address in the address bar: [chrome://settings/help](chrome://settings/help) and verifying that there are no pending updates.\n",
    "\n",
    "![](assets/browser1_01_version1.png \"Google Chrome window showing the current version\")\n",
    "\n",
    "### 1.2 Installing the webdriver\n",
    "Webdriver is our interface between Python and the browser. It is specific to the browser (there are different webdrivers for Firefox, Safari, etc) and even to the particular version of the browser. It's easier to ensure we got the correct version by installing the webdriver that automatically detects the current version of Chrome. Run the code in the cell below to do that.\n",
    "\n",
    "::: {.callout-tip}\n",
    "#### Pro tip:\n",
    "Adding an exclamation mark before code in Jupyter notebook allows you to run commands as if you were in the terminal.\n",
    ":::"
   ]
  },
  {
   "cell_type": "code",
   "execution_count": 1,
   "id": "46928277",
   "metadata": {},
   "outputs": [
    {
     "name": "stdout",
     "output_type": "stream",
     "text": [
      "Requirement already satisfied: chromedriver-binary-auto in /Users/piotr/miniforge3/lib/python3.9/site-packages (0.2.6)\n"
     ]
    }
   ],
   "source": [
    "!pip install chromedriver-binary-auto"
   ]
  },
  {
   "cell_type": "markdown",
   "id": "e9da2a20",
   "metadata": {},
   "source": [
    "Let's see if the installation worked correctly! Run the cell below to import the correct webdriver and open a new Chrome window.\n"
   ]
  },
  {
   "cell_type": "code",
   "execution_count": 4,
   "id": "6e6374f5",
   "metadata": {},
   "outputs": [],
   "source": [
    "from selenium import webdriver\n",
    "import chromedriver_binary # adds the chromedriver binary to the path\n",
    "\n",
    "driver = webdriver.Chrome()"
   ]
  },
  {
   "cell_type": "markdown",
   "id": "7922bc1c",
   "metadata": {},
   "source": [
    "The `chrome-driver-auto` package should have installed a driver that's suitable for your current Chrome version running the line of code above should have opened a new Chrome window.\n",
    "\n",
    "This step is notoriously hard, and you might get a version mismatch error:\n",
    "\n",
    "```\n",
    "SessionNotCreatedException: Message: session not created: This version of ChromeDriver only supports Chrome version 112\n",
    "Current browser version is 113 with binary path /Applications/Google Chrome.app/Contents/MacOS/Google Chrome\n",
    "```\n",
    "It means that you probably updated your Chrome in the meantime. To fix it, reinstall the Python package:"
   ]
  },
  {
   "cell_type": "code",
   "execution_count": 4,
   "id": "583307ba",
   "metadata": {},
   "outputs": [
    {
     "name": "stdout",
     "output_type": "stream",
     "text": [
      "Collecting chromedriver-binary-auto\n",
      "  Using cached chromedriver_binary_auto-0.2.6-py3-none-any.whl\n",
      "Installing collected packages: chromedriver-binary-auto\n",
      "  Attempting uninstall: chromedriver-binary-auto\n",
      "    Found existing installation: chromedriver-binary-auto 0.2.6\n",
      "    Uninstalling chromedriver-binary-auto-0.2.6:\n",
      "      Successfully uninstalled chromedriver-binary-auto-0.2.6\n",
      "Successfully installed chromedriver-binary-auto-0.2.6\n"
     ]
    }
   ],
   "source": [
    "!pip install --upgrade --force-reinstall chromedriver-binary-auto"
   ]
  },
  {
   "cell_type": "markdown",
   "id": "efe33ae9",
   "metadata": {},
   "source": [
    "If everything works fine and you have the window open, our setup is complete and you can now close the Chrome window:"
   ]
  },
  {
   "cell_type": "code",
   "execution_count": 5,
   "id": "6630259a",
   "metadata": {},
   "outputs": [],
   "source": [
    "driver.close()"
   ]
  },
  {
   "cell_type": "markdown",
   "id": "eba6faef",
   "metadata": {},
   "source": [
    "## Step 2: Hiding typical tell-tales of an automated browser\n",
    "When you open Chrome with Selenium you'll notice that the window displays a warning about being an \"automated session\". \n",
    "Even though the warning is only displayed to you, the webdriver leaces behind other red flags that inform website administrators that you are using browser automation.\n",
    "The website admins will use these red flags to refuse service to your browser.\n",
    "\n",
    "Let's remove those!"
   ]
  },
  {
   "cell_type": "code",
   "execution_count": 6,
   "id": "2e08f4b4",
   "metadata": {},
   "outputs": [],
   "source": [
    "options = webdriver.ChromeOptions()\n",
    "options.add_argument(\"start-maximized\")\n",
    "\n",
    "# remove all signs of this being an automated browser\n",
    "options.add_argument('--disable-blink-features=AutomationControlled')\n",
    "options.add_experimental_option(\"excludeSwitches\", [\"enable-automation\"])\n",
    "options.add_experimental_option('useAutomationExtension', False)\n",
    "\n",
    "# open the browser with the new options\n",
    "driver = webdriver.Chrome(options=options)\n",
    "driver.get('https://tiktok.com')"
   ]
  },
  {
   "cell_type": "markdown",
   "id": "243a1a32",
   "metadata": {},
   "source": [
    "This should open a new window without those warnings and navigate to tiktok.com:\n",
    "\n",
    "![](assets/browser1_02_tiktok1.png \"tiktok main page\")\n",
    "\n",
    "\n"
   ]
  },
  {
   "cell_type": "markdown",
   "id": "4f7e66fd",
   "metadata": {},
   "source": [
    "## Step 3: Finding elements on page and interacting with them\n",
    "\n",
    "We will perform our first attempt at the experiment without logging in, but we will also learn how to create multiple accounts and how to log in later.\n",
    "\n",
    "Instead of logging in, our first interaction will be dismissing this login window. Doing this programmatically has two steps:\n",
    "\n",
    "1. We need to identify that \\[X\\] button in the page source \n",
    "2. And then click it\n",
    "\n",
    "Let's inspect the button:\n",
    "![](assets/browser1_03_dismiss1.png \"Inspecting the Dismiss button\")\n",
    "\n",
    "In my case, the particular element that the Developer Tools navigated to is just the graphic on the button, not the button itself, but you can still find the actual button by hovering your mouse over different elements in the source and seeing what elements on page are highlighted:\n",
    "\n",
    "![](assets/browser1_04_inspect1.png \"Inspecting the Dismiss button\")\n",
    "\n",
    "Our close button is a `<div>` element, whose `data-e2e` attribute is `\"modal-close-inner-button\"`. \n",
    "There are many ways to fish for the exact element you want, and [many of fhose methods](https://www.selenium.dev/documentation/webdriver/elements/locators/) are built into Selenium. One way to find it would be using a CSS_SELECTOR, like so:"
   ]
  },
  {
   "cell_type": "code",
   "execution_count": 7,
   "id": "3760f895",
   "metadata": {},
   "outputs": [
    {
     "data": {
      "text/plain": [
       "<selenium.webdriver.remote.webelement.WebElement (session=\"40925f5dec4cb6e04b2426c00604700f\", element=\"79ADD94CD08ACC3E10C9DFF9FCBFB56B_element_55\")>"
      ]
     },
     "execution_count": 7,
     "metadata": {},
     "output_type": "execute_result"
    }
   ],
   "source": [
    "from selenium.webdriver.common.by import By\n",
    "\n",
    "close_button = driver.find_element(By.CSS_SELECTOR, '[data-e2e=\"modal-close-inner-button\"]')\n",
    "close_button"
   ]
  },
  {
   "cell_type": "markdown",
   "id": "00adc40a",
   "metadata": {},
   "source": [
    "When Selenium successfully finds an element, you’ll get a `WebElement` object of the first match.\n",
    "\n",
    "We seem to have found something, let's click it! `Web Element`s come equipped with special functions you can use to [interact](https://www.selenium.dev/documentation/webdriver/elements/interactions/) with them:"
   ]
  },
  {
   "cell_type": "code",
   "execution_count": 8,
   "id": "fc4d6ff1",
   "metadata": {},
   "outputs": [],
   "source": [
    "close_button.click()"
   ]
  },
  {
   "cell_type": "markdown",
   "id": "b9367f9a",
   "metadata": {},
   "source": [
    "Did you notice a change on the page? Congratulations! You just automated the browser to click something."
   ]
  },
  {
   "cell_type": "markdown",
   "id": "f4712233",
   "metadata": {},
   "source": [
    "## Step 4: Scrolling\n",
    "\n",
    "We now have a browser instance open and displaying the For You Page. Let's scroll through the videos.\n",
    "\n",
    "If you are a *real person* who (for whatever reason) visits TikTok on their computer, you could press the down key the keyboard to see new videos. We will do that programmatically instead:"
   ]
  },
  {
   "cell_type": "code",
   "execution_count": 9,
   "id": "3b581199",
   "metadata": {},
   "outputs": [],
   "source": [
    "from selenium.webdriver.common.action_chains import ActionChains\n",
    "from selenium.webdriver.common.keys import Keys\n",
    "\n",
    "actions = ActionChains(driver)\n",
    "actions.send_keys(Keys.ARROW_DOWN)\n",
    "actions.perform()"
   ]
  },
  {
   "cell_type": "markdown",
   "id": "77046b3d",
   "metadata": {},
   "source": [
    "When you run the cell above you will see that your browser scrolls down to the next video. You just automated scrolling!"
   ]
  },
  {
   "cell_type": "markdown",
   "id": "70dd4728",
   "metadata": {},
   "source": [
    "## Step 5: Finding tiktoks on the page\n",
    "\n",
    "Now that the site loaded and you can browse it, let's find all the tiktoks that are displayed and extract the meta information from each of them.\n",
    "\n",
    "1. Right click on the white space around a tiktok and choose \"Inspect\".\n",
    "![Inspect Element](assets/browser1_05_inspect_tiktok_a1.png)\n",
    "1. Hover your mouse over the surrounding `<div>` elements and observe the highlighted elements on the page to see which ones correspond to each tiktok.\n",
    "![Inspect Element](assets/browser1_05_inspect_tiktok_b1.png)\n",
    "1. You will see that each tiktok is in a separate `<div>` container but each of these containers has the same `data-e2e` attribute with the value of `recommend-list-item-container`.\n",
    "1. Similarly to how we found the close button, we can now use this to find all videos on page:"
   ]
  },
  {
   "cell_type": "code",
   "execution_count": 10,
   "id": "5d0b5ddb",
   "metadata": {},
   "outputs": [],
   "source": [
    "videos = driver.find_elements(By.CSS_SELECTOR, '[data-e2e=\"recommend-list-item-container\"]')"
   ]
  },
  {
   "cell_type": "markdown",
   "id": "2c207028",
   "metadata": {},
   "source": [
    "::: {.callout-tip}\n",
    "#### Pro tip:\n",
    "When we searched for the \"dismiss\" button we used the `driver.find_element()` function because we were only interested in the first element that matched our CSS selector.\n",
    "\n",
    "Now we're trying to find all videos on page, so we use the `driver.find_elements()` function instead - it returns the complete list of elements that match the selector.\n",
    ":::"
   ]
  },
  {
   "cell_type": "code",
   "execution_count": 11,
   "id": "59aa5039",
   "metadata": {},
   "outputs": [
    {
     "data": {
      "text/plain": [
       "[<selenium.webdriver.remote.webelement.WebElement (session=\"40925f5dec4cb6e04b2426c00604700f\", element=\"79ADD94CD08ACC3E10C9DFF9FCBFB56B_element_73\")>,\n",
       " <selenium.webdriver.remote.webelement.WebElement (session=\"40925f5dec4cb6e04b2426c00604700f\", element=\"79ADD94CD08ACC3E10C9DFF9FCBFB56B_element_74\")>,\n",
       " <selenium.webdriver.remote.webelement.WebElement (session=\"40925f5dec4cb6e04b2426c00604700f\", element=\"79ADD94CD08ACC3E10C9DFF9FCBFB56B_element_75\")>,\n",
       " <selenium.webdriver.remote.webelement.WebElement (session=\"40925f5dec4cb6e04b2426c00604700f\", element=\"79ADD94CD08ACC3E10C9DFF9FCBFB56B_element_76\")>,\n",
       " <selenium.webdriver.remote.webelement.WebElement (session=\"40925f5dec4cb6e04b2426c00604700f\", element=\"79ADD94CD08ACC3E10C9DFF9FCBFB56B_element_77\")>,\n",
       " <selenium.webdriver.remote.webelement.WebElement (session=\"40925f5dec4cb6e04b2426c00604700f\", element=\"79ADD94CD08ACC3E10C9DFF9FCBFB56B_element_78\")>,\n",
       " <selenium.webdriver.remote.webelement.WebElement (session=\"40925f5dec4cb6e04b2426c00604700f\", element=\"79ADD94CD08ACC3E10C9DFF9FCBFB56B_element_79\")>,\n",
       " <selenium.webdriver.remote.webelement.WebElement (session=\"40925f5dec4cb6e04b2426c00604700f\", element=\"79ADD94CD08ACC3E10C9DFF9FCBFB56B_element_80\")>,\n",
       " <selenium.webdriver.remote.webelement.WebElement (session=\"40925f5dec4cb6e04b2426c00604700f\", element=\"79ADD94CD08ACC3E10C9DFF9FCBFB56B_element_81\")>]"
      ]
     },
     "execution_count": 11,
     "metadata": {},
     "output_type": "execute_result"
    }
   ],
   "source": [
    "videos"
   ]
  },
  {
   "cell_type": "markdown",
   "id": "80ae9b2b",
   "metadata": {},
   "source": [
    "## Step 6: Parsing a tiktok\n",
    "Now that we found all the tiktoks on the page, let's extract the description from each - this is how we will decide whether to watch this tiktok or to skip it.\n",
    "\n",
    "1. Pick any description, right click, Inspect. \n",
    "1. Let's locate the `<div>` that contains the whole description (including any hashtags) and make note of its `data-e2s` attribute.\n",
    "1. Now let's write the code that, extracts the description from a single tiktok (note that you can get the text content of any element by calling `element.text`)"
   ]
  },
  {
   "cell_type": "code",
   "execution_count": 12,
   "id": "0e3d878c",
   "metadata": {},
   "outputs": [
    {
     "name": "stdout",
     "output_type": "stream",
     "text": [
      "@Redar 💃🏻\n",
      "#respect #amazing #fyp\n",
      "it's not always a matter of strength 💪🏿 #learnfromkhaby #comic #gym\n",
      "¿QUIÉN MÁS NO PUEDE DEJAR DE VER ESTA AUDICIÓN?...✨🥃 #fyp #paratii #thevoice #atravesdelvaso #theyisuslyrics #viral\n",
      "We’re OBSESSED with this method of cooking our eggs 🤯🍳🔥\n",
      "\n",
      "Have you tried it? 🤷🏽‍♂️\n",
      "\n",
      "#fyp #foryou #eggs #foodporn #food\n",
      "طرقت على باب بيت سيدة منتقبة🧕خافت تفتحلي الباب😨💔\n",
      "Mandale a esa amiga tóxica 😂 #humor #viral #mejoramiga\n",
      "BEST MAGIC TRICKS REVEALED 😱😳 #foryoupage #magic #parati #tutorials\n",
      "صلو علي سيدنا محمد ♥️#DODO #ماما_هتتشل_مني😜 #viral #foryou #fyp\n"
     ]
    }
   ],
   "source": [
    "for video in videos:\n",
    "    print(video.find_element(By.CSS_SELECTOR, '[data-e2e=\"video-desc\"]').text)"
   ]
  },
  {
   "cell_type": "markdown",
   "id": "3430ecc7",
   "metadata": {},
   "source": [
    "::: {.callout-tip}\n",
    "#### Pro tip:\n",
    "We previously searched for elements using `driver.find_element()` and `driver.find_elements()`. That allowed us to search the whole page. Notice that here, instead of `driver`, we're using `video`: this way we can search for elements **within a particular element**, rather than on the whole page.\n",
    ":::"
   ]
  },
  {
   "cell_type": "markdown",
   "id": "06ef5b15",
   "metadata": {},
   "source": [
    "## Step 7: Finding the video that's currently playing\n",
    "We know how to scroll to the next video, and we know how to find all videos that are loaded.\n",
    "At this point we could either:\n",
    "1) Assume that at the beginning, the 0th video is playing, and then every time we press arrow down, the next video is being displayed\n",
    "2) Assume that the arrow down does not always work and each time verify which video is actually playing\n",
    "\n",
    "The problem with the first approach is that even if scrolling fails even just once, our experiment will be compromised - after it happens we will be watching and skipping different videos that our math tells us. This is why we will go with the second approach and veriy which video is actually playing. Back to our favorite tool - inspect element!\n",
    "\n",
    "When you right click on the playing video, you will see that instead of our familiar UI we get a custom TikTok menu, so that won't work. Try right-clicking on the description of the video instead, then hovering over different elements in the inspector and expanding the one that highlights the video in the browser. Dig deep until you get to the `div` that only contains the video. \n",
    "\n",
    "\n",
    "Still in the inspector try looking at the video below. You will see that the `div` that contains the video is missing and there is no element with the tag name `video`. That's how we can find if the video is currently playing - its `div` will contain the `video` element that we can find by `TAG_NAME`:"
   ]
  },
  {
   "cell_type": "code",
   "execution_count": 13,
   "id": "5417c853",
   "metadata": {},
   "outputs": [
    {
     "name": "stdout",
     "output_type": "stream",
     "text": [
      "not playing @Redar 💃🏻\n",
      "playing #respect #amazing #fyp\n",
      "not playing it's not always a matter of strength 💪🏿 #learnfromkhaby #comic #gym\n",
      "not playing ¿QUIÉN MÁS NO PUEDE DEJAR DE VER ESTA AUDICIÓN?...✨🥃 #fyp #paratii #thevoice #atravesdelvaso #theyisuslyrics #viral\n",
      "not playing We’re OBSESSED with this method of cooking our eggs 🤯🍳🔥\n",
      "\n",
      "Have you tried it? 🤷🏽‍♂️\n",
      "\n",
      "#fyp #foryou #eggs #foodporn #food\n",
      "not playing طرقت على باب بيت سيدة منتقبة🧕خافت تفتحلي الباب😨💔\n",
      "not playing Mandale a esa amiga tóxica 😂 #humor #viral #mejoramiga\n",
      "not playing BEST MAGIC TRICKS REVEALED 😱😳 #foryoupage #magic #parati #tutorials\n",
      "not playing صلو علي سيدنا محمد ♥️#DODO #ماما_هتتشل_مني😜 #viral #foryou #fyp\n"
     ]
    }
   ],
   "source": [
    "for video in videos:\n",
    "    description = video.find_element(By.CSS_SELECTOR, '[data-e2e=\"video-desc\"]').text\n",
    "    if video.find_elements(By.TAG_NAME, 'video'):\n",
    "        playing = 'playing'\n",
    "    else:\n",
    "        playing = 'not playing'\n",
    "    print(playing, description)"
   ]
  },
  {
   "cell_type": "markdown",
   "id": "4f5ef981",
   "metadata": {},
   "source": [
    "## Step 8: Taking screenshots\n",
    "The presentation of your results might be more compelling, when its accompanied by screenshots, rather than just data. Selenium allows you to take screenshots of the whole screen, or just a particular element (though the latter is a bit cumbersome):"
   ]
  },
  {
   "cell_type": "code",
   "execution_count": null,
   "id": "f9f692fc",
   "metadata": {},
   "outputs": [],
   "source": [
    "# take a screenshot of the whole browser\n",
    "driver.save_screenshot('full_screenshot.png')\n",
    "\n",
    "# take a screenshot of just one video\n",
    "screenshot = video.screenshot_as_png\n",
    "with open('element_screenshot.png', 'wb') as output:\n",
    "    output.write(screenshot)"
   ]
  },
  {
   "cell_type": "markdown",
   "id": "1b60adb6",
   "metadata": {},
   "source": [
    "## Step 9: Putting it all together\n",
    "We now can read the descriptions of tiktoks and move between them. \n",
    "That's most of the setup we need to try a very simple measurement - let's watch all tiktoks that mention comedy in their description and skip all those that don't. After a few hundred, we will see whether we are served more comedy videos over time.\n",
    "\n",
    "::: {.callout-tip}\n",
    "#### Pro tip: Use functions!\n",
    "So far we coded up all the functionality like opening the browser, closing the dialog, finding videos as separate cells in the notebook. We could just copy that code over here to use it, but it will be much easier to understand and maintain the code if we keep the code as functions with easy to understand names\n",
    ":::"
   ]
  },
  {
   "cell_type": "code",
   "execution_count": 28,
   "id": "7625193f",
   "metadata": {},
   "outputs": [],
   "source": [
    "def open_browser():\n",
    "    \"\"\"\n",
    "    Opens a new automated browser window with all tell-tales of automated browser disabled\n",
    "    \"\"\"\n",
    "    options = webdriver.ChromeOptions()\n",
    "    options.add_argument(\"start-maximized\")\n",
    "\n",
    "    # remove all signs of this being an automated browser\n",
    "    options.add_argument('--disable-blink-features=AutomationControlled')\n",
    "    options.add_experimental_option(\"excludeSwitches\", [\"enable-automation\"])\n",
    "    options.add_experimental_option('useAutomationExtension', False)\n",
    "\n",
    "    # open the browser with the new options\n",
    "    driver = webdriver.Chrome(options=options)\n",
    "    driver.get('https://tiktok.com')\n",
    "    return driver\n",
    "\n",
    "def close_login_dialog(driver):\n",
    "    \"\"\"\n",
    "    Finds and closes the login dialog\n",
    "    \"\"\"\n",
    "    close_button = driver.find_element(By.CSS_SELECTOR, '[data-e2e=\"modal-close-inner-button\"]')\n",
    "    close_button.click()\n",
    "\n",
    "def arrow_down(driver):\n",
    "    \"\"\"\n",
    "    Sends the ARROW_DOWN key to a webdriver instance.\n",
    "    \"\"\"\n",
    "    actions = ActionChains(driver)\n",
    "    actions.send_keys(Keys.ARROW_DOWN)\n",
    "    actions.perform()\n",
    "    \n",
    "def find_videos(driver):\n",
    "    \"\"\"\n",
    "    Finds all tiktoks loaded in the browser\n",
    "    \"\"\"\n",
    "    videos = driver.find_elements(By.CSS_SELECTOR, '[data-e2e=\"recommend-list-item-container\"]')\n",
    "    return videos\n",
    "\n",
    "def get_description(video):\n",
    "    \"\"\"\n",
    "    Extracts the video description along with any hashtags\n",
    "    \"\"\"\n",
    "    try:\n",
    "        description = video.find_element(By.CSS_SELECTOR, '[data-e2e=\"video-desc\"]').text\n",
    "    except:\n",
    "        description = ''\n",
    "    return description\n",
    "\n",
    "def get_current(videos):\n",
    "    \"\"\"\n",
    "    Given the list of videos it returns the one that's currently playing\n",
    "    \"\"\"\n",
    "    for video in videos:\n",
    "        if video.find_elements(By.TAG_NAME, 'video'):\n",
    "            # this one has the video, we can return it and that ends the function.\n",
    "            return video\n",
    "    \n",
    "    return None\n",
    "\n",
    "def is_target_video(description, keywords):\n",
    "    \"\"\"\n",
    "    Looks for keywords in the given description. Returns true if there are any\n",
    "    or false when there are none.\n",
    "    \"\"\"\n",
    "    \n",
    "    # check in any of the keywords is in the description\n",
    "    for keyword in keywords:\n",
    "        if keyword in description:\n",
    "            # we have a video of interest, let's watch it \n",
    "            return True\n",
    "    \n",
    "    # if we're still here it means no keywords were found\n",
    "    return False\n",
    "\n",
    "def screenshot(video, filename=\"screenshot.png\"):\n",
    "    \"\"\"\n",
    "    Saves a screenshot of a given video to a specified file\n",
    "    \"\"\"\n",
    "    screenshot = video.screenshot_as_png\n",
    "    with open(filename, 'wb') as output:\n",
    "        output.write(screenshot)\n",
    "    "
   ]
  },
  {
   "cell_type": "markdown",
   "id": "6c40cc14",
   "metadata": {},
   "source": [
    "Ok, with that out of the way, let's set up our first data collection!"
   ]
  },
  {
   "cell_type": "code",
   "execution_count": 31,
   "id": "6ce15737",
   "metadata": {},
   "outputs": [
    {
     "name": "stdout",
     "output_type": "stream",
     "text": [
      "0 False #missdoua_جيش #missdouaa #missdouaa1 😎🤪\n",
      "1 False 🤣🤣#vibedodia #fypシ #au #tiktok #comedia\n",
      "2 False it's not always a matter of strength 💪🏿 #learnfromkhaby #comic #gym\n",
      "3 True We’re OBSESSED with this method of cooking our eggs 🤯🍳🔥\n",
      "\n",
      "Have you tried it? 🤷🏽‍♂️\n",
      "\n",
      "#fyp #foryou #eggs #foodporn #food\n",
      "4 False Mandale a tu amigo el impuntual 😂 @Fede Vigevani #fyp #foryou #humor\n",
      "5 False شالت الاكل من قدام حماتها لما جت شوفوا عملت اى لما عرفت\n",
      "6 False inst: maryna.sed #nails #nail #nailart #longnails\n",
      "7 False Nangis banget pecah😭🙏🏻 #fyp #xyzbca\n",
      "8 False La dro*gue du zombie aux États-Unis, une véritable épidémie qui touche. La plupart des grandes villes américaines 😱 #zombie\n",
      "9 False La dro*gue du zombie aux États-Unis, une véritable épidémie qui touche. La plupart des grandes villes américaines 😱 #zombie\n",
      "10 False quando seu amigo vira médico #irmaosnatu\n",
      "11 False #xfactor #xfactoruk #viral #britainsgottalent #xfactorindonesia #xfactoraudition #xfactorglobal #thevoice #london #america #france #xfactorromania #talent #foryoupage #americasgottalent #singing #queen #ireland #germany #motherdaughter\n",
      "12 True Taş Tencerede El Yapımı Mantı 🥟 #outdoorcooking #camping #outdor #kamp #campfire #mantı #asmr #foodvideos #food #cooking #adventures #relax #hungry #woods #forest #yemektarifleri #bushcraft #nature\n",
      "13 False “Walk up the hall” #steveharvey #mentality #nevergiveup #motivation #god #mentalhealth #fyp #fypシ\n",
      "14 False Banana Cat And Whiny Power 💪💦😊✨\n",
      "#bananacat #happy #catsoftiktok #trending #fypシ\n",
      "15 False ماتوقعتش اللي حصل ده بجد !🥺❤️\n",
      "16 True The perfect pizza doesn’t exi-\n",
      "17 False #respect #amazing #fyp\n",
      "18 False صلو علي سيدنا محمد ♥️#DODO #ماما_هتتشل_مني😜 #viral #foryou #fyp\n",
      "19 False ¿QUIÉN MÁS NO PUEDE DEJAR DE VER ESTA AUDICIÓN?...✨🥃 #fyp #paratii #thevoice #atravesdelvaso #theyisuslyrics #viral\n",
      "20 False I would have expected anything, but certainly not to come out all wet #learnfromkhaby #comic\n",
      "21 False Uma menininha estava trancada em um veículo e me pediu agua ....meu coração cortou\n",
      "\n",
      "#video #novelas #filme #viral #tiktok\n",
      "22 False #محمود_الحسنات الرد على الرسائل في حساب الانستغرام بإذن الله\n",
      "23 False \n",
      "24 False دول بياخدوا بالجمله 🙄😂😂#المتحدث_الرسمي_باسم_العظمه_جو #الغالين_عند_العظمه\n",
      "25 False soft crepes🫶\n",
      "26 False \n",
      "27 False BEST MAGIC TRICKS REVEALED 😱😳 #magician #learnfromme #foru #popular\n",
      "28 False #سليمان_الحامد #شاص #نفود #تصميم #مكشات #كشته #رجم #اكسبلور #اكسبلووور #تيك_توك #بث #بثوث #ترند #شيله #مكشات #امطار #ربع\n",
      "29 False 이 남매가 닭꼬치를 먹는 법😱😂 #추천 #fyp\n",
      "30 False Damn that was a close call… still got a bit more time to repent\n",
      "31 False eu não tinha paciência pra esperar a caixa encher e acabava toda hora, e amanhã vou lavar MUITA roupa\n",
      "32 False Part 12 #fyp #foryou #foryoupage #movie\n",
      "33 False NO PUEDO DEJAR DE VER ESTE VIDEO...🥀❤️ #fyp #parati #thevoice #disfruto #carlamorrison #theyisuslyrics\n",
      "34 False @Redar 💃🏻\n",
      "35 False #أم_خالد ينفع اللي مرات ابويا بتعمله معايا ده 🥹\n",
      "36 False it sounds like the original! 🥰🔥 #thevoice #fyp #singing #songcover #emotional #takemetochurch #thevoice #singersongwriter #trending #trend #hozier\n",
      "37 False Real✅ ou FAKE❌??? Restaurando panela 🍳\n",
      "38 False Mandale este video a tu toxica favorita 😂❤️ #fyp #foryou #humor\n",
      "39 False אייפון 13 החלפת חלק אחורי #תמראםטימובייל #apple\n",
      "40 False ✋🏽В Магазинах США НЕ Задерживают Воров👮🏻‍♂️\n",
      "41 False اللهم أخرجني من أشد الضيق #دين\n",
      "42 False Superstars PRANK The Voice coaches #thevoice #vocalcoach #hellothevoice #voiceactor #standup #sirigottalent #losemyvoice #dropthemic #americanidol #therock #thevoiceglobal #hottiediaryph #thevoiceuk #thevoiceallstars #thevoicethailand #thevoiceallstarsth #thevoicephilippines #thevoiceportugal\n",
      "43 False siuuuuuuuuu! #foryou #fyp #football\n",
      "44 False \n",
      "45 False #respect #amazing #fyp\n",
      "46 False #viral #fyp #explore\n",
      "47 True Kütük Ocakta Taşta Dana Pirzola 🪵🥩 #outdoorcooking #outdor #camping #survival #bushcraft #relax #campfire #food #cooking #meatlovers #asmr #yemektariflerim #foodvideo #hungry #woods #doğadayemek #adventures\n",
      "48 False IG:Brayam509 🫶🏽 @Brayitan #recetasconmimami #brayamelgordito #BYKTIENE #teamgorditosb\n",
      "49 False Peinado levanta parpados y arrugas. Los peinados de Jlo son para levantar los ojos y resaltar tu belleza. #albatips #belleza #jlo #parpadocaido @JLO #tiktokfashion\n",
      "50 False \n",
      "51 False #outnow #gottalent #agt #thevoice #courtneyhadwin\n",
      "52 False Organizing and restocking the chip drawer 😌🌈 #asmr #restock #refill #restockingasmr #organizedhome #momlife #organizedkitchen #pantryorganization #snackdrawer\n",
      "53 False Της την ειχε στημενη το γκετο 🐱#foryoupage #fyp #fypシ゚viral #fypシ゚ #dogsoftiktok #catsvideo #catsdogsandrats\n",
      "54 False Adele - When We Were Young (Fernando Daniel) The Voice Portugal#adele #whenwewereyounger #auditions #thevoice #thevoiceportugal #music #MusicLyricsVideos #lirics #terjemahan\n",
      "55 False Le Jeu du Pendu version anime Partie 6\n",
      "56 False #fyp #bcaxyz #lyrics #1000lyricshub #thevoice #music\n",
      "57 False \n",
      "58 False Replying to @Sage & Hood Always sound amazing together #kellyclarkson #arianagrande #arethafranklin #respect #thevoice #blakeshelton #johnlegend\n",
      "59 False TRUCOO DE BASE CON AGUA 10/10😀💦💦 #fypシ\n",
      "60 True #trảlời dành cho\n",
      "meosimy099 #fyp #funny #funnyvideos #mukbang #viral\n",
      "61 False Birthday Cookie @Patrick Zeinali\n",
      "62 False minha mãe apelou dms\n",
      "63 True Cheeseburger Crunchwrap 🌮 #food #asmr #tiktokfood #foryoupage\n",
      "64 False Seria\n",
      "65 False #muslim #america #wisdom #fight #fights #muslimtimtok #allah #muslimah #quran #deen #muslims #peace #foryoupage #quran_alkarim #makepeace #forgive #humble #fyi #trending #americatiktok #viral\n",
      "66 False Я думала гірше вже бути не може..\n",
      "67 False #funnyvideos #funny #fyp #gamefunny\n",
      "68 False Cosas que solo entienden las parejas casadas haha😂\n",
      "69 False Acompañame a prepararle la colación a mi hijo 🌱🥕🥬🥪 #mamaadolescente #chile #maternidad #conyyerkan #vlog #colación #lonche\n",
      "70 False Siz kaç tanesini bildiniz? ❤️\n",
      "71 False برجر بالزيت الهارى ..!! #osha_salah #تعلم_على_التيك_توك #لن_تصدق #عجائب_وغرائب #اغرب_الاشياء #معلومات #\n",
      "72 False Link in the bio 💕\n",
      "73 False Faca de PAPELÃO\n",
      "#quimica #educação #satisfatório\n",
      "74 False #fyp #bcaxyz #lyrics #1000lyricshub #thevoice #music\n",
      "75 False Uncle Drew vs Trashtalker 😮‍💨 #uncledrew #basketball #anklebreaker #kyrieirving #edit #viral #foryou #fyp #fypシ\n",
      "76 False Sus hijos tambien son así? Jajaja🤭 #hijos #papás #maternidad #bebés\n",
      "77 False part 2??! im OBSESSED with this office cabinet!!🤍 all on my ämzn under “office”🎧🕊️☁️ #asmr #asmr #office #officefinds #aesthetic #satisfying #home #cleantok #organize #homeoffice\n",
      "78 False áp lực quá\n",
      "79 False The Easiest Way to Get Proteins 🤫 #fish #timelapse #wtf\n",
      "80 False حبيتو الميكب؟👀♥️ #قمر_الطائي\n",
      "81 False wow.. I was NOT expecting these results! #foryou #fyp\n",
      "82 False #cartoon #fyp\n",
      "83 False إسمي سبب لي عقده...؟\n",
      "#قصه_حقيقيه #قصه_واقعيه #قصه_جديده #قصه_قصيره #قصه_وعبره_عن_الحياه #قصص_ميمي🍫 #قصص_رون🇸🇦💗\n",
      "84 False Partiu homem aranha pra sempre!!!@Natan Valduga Lopes\n",
      "85 False Sempre tinha um dormindo😂\n",
      "86 False \n",
      "87 False \n",
      "88 False Respuesta a @luzmariareflexiones PARTE 2 #fyp #viral #luzmaria #historias #reflexiones #historiasdevida #luzmariareflexiones\n",
      "89 False Daddy's gonna buy you a Mockingbird... 🕊✨🎶 #eminem #thevoice #thevoicekids #foryou #fyp #viral #thevoiceglobal #gottalent\n",
      "90 False طب قولو انتو فى حلاوة كدة !!😂💜💜\n",
      "91 False #علم_النفس #محمد_عبدالعال\n",
      "92 False 10 meats // 10 carnes\n",
      ".\n",
      ".\n",
      ".\n",
      "93 False אייפון 13 פרו מקס החלפת גב אחורי #iphone💅 #תמראםטימובייל #fix\n",
      "94 False \n",
      "95 False Cofrinho SURPRESA gingante\n",
      "\n",
      "#caixamisteriosa #cofrinho #surpresa #presentemisterioso #cofre #moeda #vaiprofy\n",
      "96 False Yo tratando de escuchar el chisme de alado 👂🏻🤣🤌🏻#amigasamigas #10de10 #stephaniereyex #fyp\n",
      "97 False #respect #amazing #fyp #omg\n",
      "98 False \n",
      "99 False #stitch #이어찍기 #추천 #fyp #viral #xyzbca #korean #おすすめ\n"
     ]
    }
   ],
   "source": [
    "import time\n",
    "\n",
    "# if the description has any one these words, we will watch the video\n",
    "keywords = ['food', 'dish', 'cook', 'pizza', 'recipe', 'mukbang', 'dinner']\n",
    "\n",
    "# this is where will we store decisions we take\n",
    "decisions = []\n",
    "\n",
    "driver = open_browser()\n",
    "\n",
    "close_login_dialog(driver)\n",
    "\n",
    "for tiktok_index in range(0, 100):\n",
    "    \n",
    "    # get all \n",
    "    tiktoks = find_videos(driver)\n",
    "    \n",
    "    # the current tiktok is the one that's currently showing the video player\n",
    "    current_video = get_current(tiktoks)\n",
    "    \n",
    "    if current_video is None:\n",
    "        print('no more videos')\n",
    "        break\n",
    "              \n",
    "    # read the description of the video\n",
    "    description = get_description(current_video)\n",
    "    \n",
    "    # make a decision and remember it\n",
    "    decision = is_target_video(description, keywords)\n",
    "    decisions.append(decision)\n",
    "            \n",
    "    print(tiktok_index, decision, description)\n",
    "    \n",
    "    if decision:\n",
    "        # we have a video of interest, let's take a screenshot\n",
    "        screenshot(current_video, f\"screenshot_{tiktok_index:05}.png\")\n",
    "        # and now watch it for 30 seconds\n",
    "        time.sleep(30)\n",
    "    \n",
    "    # move to the next video\n",
    "    arrow_down(driver)\n",
    "    time.sleep(2)\n",
    "    \n",
    "driver.close()"
   ]
  },
  {
   "cell_type": "code",
   "execution_count": 32,
   "id": "359c08c4",
   "metadata": {},
   "outputs": [],
   "source": [
    "import matplotlib.pyplot as plt"
   ]
  },
  {
   "cell_type": "code",
   "execution_count": 33,
   "id": "45a5810f",
   "metadata": {},
   "outputs": [
    {
     "data": {
      "image/png": "[encoded data removed]",
      "text/plain": [
       "<Figure size 432x288 with 1 Axes>"
      ]
     },
     "metadata": {
      "needs_background": "light"
     },
     "output_type": "display_data"
    }
   ],
   "source": [
    "plt.plot(decisions, ds='steps')\n",
    "plt.xlabel('Video')\n",
    "plt.ylabel('Watched')\n",
    "plt.yticks([0, 1], ['False', 'True']);"
   ]
  },
  {
   "cell_type": "markdown",
   "id": "d5c428e3",
   "metadata": {},
   "source": [
    "### Results\n",
    "The figure above shows the frequency of the appearance of target videos during our 100-videos-long session. You can verify in the folder where this notebook is located if the videos we watched were really food related because of the screenshots we saved. If the feed was indeed increasingly filled with food videos, we would see more an more lines towards the right of the graph. At least here it does not appear to be the case. \n",
    "\n",
    "Does it mean that the WSJ audit was wrong or that TikTok stopped personalizing content? No, for a number of reasons: \n",
    "\n",
    "1. We only scrolled through 100 videos, this is likely too few to observe any effects. Try re-running with a higher number!\n",
    "1. When studying personalization you should use an account per profile and make sure you're logged in, rather than relying on a fresh browser. So, instead of closing the login dialog, try actually logging in! You know how to find and click buttons, and [this is how you put text in text fields](https://www.geeksforgeeks.org/send_keys-element-method-selenium-python/).\n",
    "1. When you're not logged in, you will be presented with content from all over the world, in all languages. If your filters keywords in one language only, you will miss plenty of target content in other languages.\n",
    "1. You should always have a baseline to compare to. In this case, you should probably run two accounts at the same time - one that watches food videos and one that doesn't. Then you compare the prevalence of food videos between these two.\n",
    "1. The WSJ audit was run on the mobile app rathern than on a desktop browser. Perhaps personalization works differently depending on which platform you're running your study."
   ]
  },
  {
   "cell_type": "markdown",
   "id": "f0928ba8",
   "metadata": {},
   "source": [
    "## Advanced Usage\n",
    "\n",
    "Above we highlighted some ideas to make your investigation or study more robust, some are methodoligical choices, but others are technical.\n",
    "\n",
    "There are some advanced use-cases and tasks you can perform with browser automation that include\n",
    "- X\n",
    "- Y\n",
    "- Z\n",
    "\n",
    "We may cover some or all of these topics in subsequent tutorials.\n",
    "\n",
    "Let us know what you're interested in learning more about!"
   ]
  },
  {
   "cell_type": "markdown",
   "id": "2fff2994",
   "metadata": {},
   "source": [
    "# Related Readings\n",
    "\n",
    "More tutorials on the same subject:<br>\n",
    "- \"[Using real browsers](https://scrapism.lav.io/using-real-browsers/)\" - Sam Lavigne\n",
    "\n",
    "Notable investigations and audits using browser automation:<br>\n",
    "- \"[Blacklight](https://themarkup.org/blacklight)\" - a tool by investigative journalist Surya Mattu<br>\n",
    "- \"[TheirTube](https://www.their.tube/)\" - an art and advocacy project by Tomo Kihara<br>\n",
    "- \"[Worlds Apart](https://www.nrk.no/osloogviken/xl/tiktok-doesn_t-show-the-war-in-ukraine-to-russian-users-1.15921522)\" - an investigation into TikTok by Henrik Bøe and Christian Nicolai Bjørke<br>\n",
    "- \"[WebSearcher](https://github.com/gitronald/WebSearcher)\" - A Python package by Ronald E. Robertson<br>\n",
    "- \"[Googling for Abortion](https://journalqd.org/article/view/2752)\" - Yelena Mejova, Tatiana Gracyk, and Ronald E. Robertson\n",
    "\n",
    "Please reach out with more examples to add."
   ]
  },
  {
   "cell_type": "markdown",
   "id": "11115955",
   "metadata": {},
   "source": [
    "# Citation\n",
    "\n",
    "To cite this chapter, please use the following BibTex entry:\n",
    "\n",
    "<pre>\n",
    "@incollection{inspect2023browser,\n",
    "  author    = {Sapiezynski, Piotr and Yin, Leon},\n",
    "  title     = {Browser Automation},\n",
    "  booktitle = {Inspect Element: A practitioner's guide to auditing algorithms and hypothesis-driven investigations},\n",
    "  year      = {2023},\n",
    "  editor    = {Yin, Leon and Sapiezynski, Piotr and Raji, Inioluwa Deborah},\n",
    "  note      = {\\url{https://inspectelement.org}}\n",
    "}\n",
    "</pre>\n"
   ]
  }
 ],
 "metadata": {
  "kernelspec": {
   "display_name": "Python 3 (ipykernel)",
   "language": "python",
   "name": "python3"
  },
  "language_info": {
   "codemirror_mode": {
    "name": "ipython",
    "version": 3
   },
   "file_extension": ".py",
   "mimetype": "text/x-python",
   "name": "python",
   "nbconvert_exporter": "python",
   "pygments_lexer": "ipython3",
   "version": "3.9.7"
  }
 },
 "nbformat": 4,
 "nbformat_minor": 5
}
