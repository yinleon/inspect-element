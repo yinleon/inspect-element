{
 "cells": [
  {
   "cell_type": "raw",
   "id": "7558795f",
   "metadata": {},
   "source": [
    "---\n",
    "title: \"Browser Automation\"\n",
    "pagetitle: \"Browser Automation\"\n",
    "description-meta: \"Introduction, case studies, and exercises for automating browsers.\"\n",
    "description-title: \"Introduction, case studies, and exercises for automating browsers.\"\n",
    "author: \"Piotr Sapiezynski and Leon Yin\"\n",
    "author-meta: Piotr Sapiezynski and Leon Yin\"\n",
    "date: \"06-11-2023\"\n",
    "date-modified: \"07-09-2024\"\n",
    "execute: \n",
    "  enabled: false\n",
    "keywords: data collection, web scraping, browser automation, algorithm audits, personalization\n",
    "twitter-card:\n",
    "  title: Browser Automation\n",
    "  description: Introduction, case studies, and exercises for automating browsers.\n",
    "  image: assets/inspect-element-logo.jpg\n",
    "open-graph:\n",
    "  title: Browser Automation\n",
    "  description: Introduction, case studies, and exercises for automating browsers.\n",
    "  locale: us_EN\n",
    "  site-name: Inspect Element\n",
    "  image: assets/inspect-element-logo.jpg\n",
    "href: browser_automation\n",
    "---"
   ]
  },
  {
   "cell_type": "code",
   "execution_count": 1,
   "id": "d1dfedbc",
   "metadata": {},
   "outputs": [
    {
     "data": {
      "text/markdown": [
       "\n",
       "<a type=\"button\" class=\"btn btn-outline-primary btn-sm\" target=\"_blank\" href=\"https://inspectelement.org/browser_automation\">📖 Read online</a>\n",
       "<a type=\"button\" class=\"btn btn-outline-primary btn-sm\" target=\"_blank\" href=\"https://github.com/yinleon/inspect-element/blob/main/browser_automation.ipynb\">⚙️ GitHub</a>\n",
       "<a type=\"button\" class=\"btn btn-outline-primary btn-sm\" target=\"_self\" href=\"#citation\">🏛 Citation</a>\n",
       "<br>\n"
      ],
      "text/plain": [
       "<IPython.core.display.Markdown object>"
      ]
     },
     "metadata": {},
     "output_type": "display_data"
    }
   ],
   "source": [
    "#| echo: false\n",
    "from utils import build_buttons\n",
    "from importlib import reload\n",
    "import utils\n",
    "reload(utils)\n",
    "utils.build_buttons(link= 'browser_automation', \n",
    "                    github= 'https://github.com/yinleon/inspect-element/blob/main/browser_automation.ipynb',\n",
    "                    colab = False,\n",
    "                    citation= True)"
   ]
  },
  {
   "cell_type": "markdown",
   "id": "36681ec7",
   "metadata": {},
   "source": [
    "Browser automation is a fundamental web scraping technique for building your own dataset.\n",
    "\n",
    "It is essential for investigating personalization, working with rendered elements, and waiting for scripts and code to execute on a web page.\n",
    "\n",
    "However, browser automation can be resource intensive and slow compared to other data collection approaches.\n",
    "\n",
    "👉[Click here to jump to the Playwright tutorial](#tutorial)."
   ]
  },
  {
   "cell_type": "markdown",
   "id": "a4994f88",
   "metadata": {},
   "source": [
    "# Intro\n",
    "\n",
    "If you’ve tried to buy concert tickets to a popular act lately, you’ve probably watched in horror as the blue “available” seats evaporate before your eyes the instant tickets are released. Part of that may be pure ✨star power✨, but more than likely, bots were programmed to buy tickets to be resold at a premium.\n",
    "\n",
    "These bots are programmed to act like an eager fan: waiting in the queue, selecting a seat, and paying for the show. These tasks can all be executed using browser automation.\n",
    "\n",
    "**Browser automation** is used to programmatically interact with web applications. \n",
    "\n",
    "The most frequent use case for browser automation is to run tests on websites by simulating user behavior (mouse clicks, scrolling, and filling out forms). This is routine and invisible work that you wouldn’t remember, unlike seeing your dream of crowd surfing with your favorite musician disappear thanks to ticket-buying bots.\n",
    "\n",
    "But browser automation has another use, one which _may_ make your dreams come true: web scraping.\n",
    "\n",
    "Browser automation isn’t always the best solution for building a dataset, but it is necessary when you need to:\n",
    "\n",
    "1. **Analyze rendered HTML**: see what's on a website as a user would.\n",
    "2. **Simulate user behavior**: experiment with personalization and experience a website as a user would.\n",
    "3. **Trigger event execution**: retrieve responses to JavaScript or [network requests](/apis.html) following an action.\n",
    "\n",
    "These reasons are often interrelated. We will walk through case studies (below) that highlight at least one of these strengths, as well as why browser automation was a necessary choice.\n",
    "\n",
    "Some popular browser automation tools are [Puppeteer](https://pptr.dev/), [Playwright](https://playwright.dev/), and [Selenium](https://www.selenium.dev/documentation/webdriver/elements/). \n",
    "\n",
    "## Headless Browsing\n",
    "\n",
    "Browser automation can be executed in a \"headless\" state by some tools.\n",
    "\n",
    "This doesn't mean that the browser is a ghost or anything like that, it just means that the _user interface_ is not visible.\n",
    "\n",
    "One benefit of headless browsing is that it is less [resource intensive](/apis.html#case-study-on-scalability-collecting-internet-plans), however there is no visibility into what the browser is doing, making headless scrapers difficult to debug.\n",
    "\n",
    "Luckily, some browser automation tools (such as Playwright) allow you to [toggle headless browsing](https://playwright.dev/python/docs/api/class-browsertype#browser-type-launch) on and off. Other tools, such as Puppeteer only allow you to use headless browsing.\n",
    "\n",
    "If you’re new to browser automation, we suggest not using headless browsing off the bat. Instead try headed Playwright, which is exactly what we’ll do in the [tutorial](#tutorial) below (see the same tutorial in Selenium [here](/browser_automation_selenium))."
   ]
  },
  {
   "cell_type": "markdown",
   "id": "e5374932",
   "metadata": {},
   "source": [
    "<figure>\n",
    "<img src=\"assets/browser-automation.gif\" width=100%></video><figcaption align = \"left\" style=\"font-size:80%;\">Using Playwright to automate browsing TikTok's \"For You\" page for food videos.</figcaption>\n",
    "</figure>"
   ]
  },
  {
   "cell_type": "markdown",
   "id": "d8fd5771",
   "metadata": {},
   "source": [
    "# Case Studies\n",
    "## Case Study 1: Google Search\n",
    "In the investigation “[Google the Giant](https://themarkup.org/google-the-giant/2020/07/28/google-search-results-prioritize-google-products-over-competitors),” The Markup wanted to measure how much of a Google Search page is “Google.” Aside from the daunting task of classifying what is \"Google,\" and what is \"not Google,\" the team of two investigative journalists-- Adrianne Jeffries and Leon Yin (a co-author of this section) needed to measure real estate on a web page.\n",
    "\n",
    "The team developed a [targeted staining technique](https://themarkup.org/google-the-giant/2020/07/28/how-we-analyzed-google-search-results-web-assay-parsing-tool) inspired by the life sciences, originally used to highlight the presence of chemicals, compounds, or cancers. \n",
    "\n",
    "<figure>\n",
    "<img src=\"assets/browser0_01_threestep1.png\"\n",
    "    alt=\"https://themarkup.org/google-the-giant/2020/07/28/how-we-analyzed-google-search-results-web-assay-parsing-tool#google-search-flow\" \n",
    "     style=\"width:90%\" \n",
    "    />\n",
    "<figcaption align = \"left\" style=\"font-size:80%;\"> \n",
    "Source: <a href=\"https://themarkup.org/google-the-giant/2020/07/28/how-we-analyzed-google-search-results-web-assay-parsing-tool\">The Markup</a>\n",
    "</figcaption>\n",
    "</figure>\n",
    "\n",
    "The reporters wrote over [68 web parsers](https://github.com/the-markup/investigation-google-search-audit/blob/master/utils/parsers.py) to identify elements on trending Google Search results as \"Google,\" or three other categories. Once an element was identified, they could find the [coordinates](https://developer.mozilla.org/en-US/docs/Web/SVG/Element/rect) of each element along with its corresponding bounding box. Using the categorization and bounding box, The Markup were able to measure how many pixels were allocated to Google properties, as well as where they were placed on a down the page for a mobile phone.\n",
    "\n",
    "<figure>\n",
    "<img src=\"assets/browser0_02_soup1.png\"\n",
    "    alt=\"https://themarkup.org/google-the-giant/2020/07/28/how-we-analyzed-google-search-results-web-assay-parsing-tool#google-search-flow\" \n",
    "     style=\"width:90%\" \n",
    "     / >\n",
    "<figcaption align = \"left\" style=\"font-size:80%;\"> \n",
    "Source: <a href=\"https://themarkup.org/google-the-giant/2020/07/28/how-we-analyzed-google-search-results-web-assay-parsing-tool\">The Markup</a>\n",
    "</figcaption>\n",
    "</figure>\n",
    "\n",
    "Browser automation tools' ability to collect and analyze **rendered HTML pages** can be essential. This is especially the case for search results, since most search results contain modules, carousels, and other non-standardized rows and columns that are more complex than lists.\n",
    "\n",
    "Rendered HTML can be used to analyze the allocation of real estate on a website, which can be a useful metric to gauge self-preferencing and [anti-competitive business practices](https://themarkup.org/amazons-advantage/2021/10/14/amazon-puts-its-own-brands-first-above-better-rated-products) relevant to [antitrust](https://themarkup.org/google-the-giant/2020/07/29/congressman-says-the-markup-investigation-proves-google-has-created-a-walled-garden)."
   ]
  },
  {
   "cell_type": "markdown",
   "id": "3edd4457",
   "metadata": {},
   "source": [
    "## Case Study 2: Deanonymizing Google's Ad Network\n",
    "\n",
    "Google ad sellers offer space on websites like virtual billboards, and are compensated by Google after an ad is shown. However, unlike physical ad sellers, almost all of the ~1.3 million ad sellers on Google are anonymous. To limit transparency further, multiple websites and apps can be monetized by the same seller, and it’s not clear which websites are part of Google’s ad network in the first place. \n",
    "\n",
    "As a result, [advertisers](https://checkmyads.org/branded/google-ads-has-become-a-massive-dark-money-operation/) and the public do not know who is making money from Google ads. Fortunately, watchdog groups, industry analysts, and reporters have developed methods to hold Google accountable for this oversight.\n",
    "\n",
    "The methods boil down to triggering a JavaScript function that sends a request to Google to show an ad on a loaded web page. Importantly, the request reveals the seller ID used to monetize the website displaying the ad, and in doing so, links the seller ID to the website.\n",
    "\n",
    "In 2022, reporters from ProPublica used Playwright to [automate this process](https://www.propublica.org/article/google-display-ads-piracy-porn-fraud) to visit 7 million websites and deanonymize over 900,000 Google ad sellers. Their investigation found some websites were able to monetize advertisements, despite breaking Google’s policies.\n",
    "\n",
    "ProPublica's investigation used browser automation tools to **trigger event execution** to successfully load ads. Often, this required waiting a page to fully render, scrolling down to potential ad space, and browsing multiple pages. The reporters used a combination of network requests, rendered HTML, and cross-referencing screenshots to confirm that each website monetized ads from Google’s ad network.\n",
    "\n",
    "Browser automation can help you trawl for clues, especially when it comes to looking for specific network requests sent to a central player by many different websites."
   ]
  },
  {
   "cell_type": "markdown",
   "id": "63d7bb7f",
   "metadata": {},
   "source": [
    "## Case Study 3: TikTok Personalization\n",
    "An investigation conducted by the Wall Street Journal, \"[Inside TikTok's Algorithm](https://www.wsj.com/articles/tiktok-algorithm-video-investigation-11626877477)\" found that even when a user does not like, share, or follow any creators, TikTok still personalizes the \"For You\" page based on how long they watch the recommended videos.\n",
    "\n",
    "In particular, the WSJ investigation found that users who watch content related to depression and skip other content are soon presented with mental health content and little else. Importantly, this effect happened even when the users did not explicitly like or share any videos, nor did they follow any creators. \n",
    "\n",
    "You can watch the WSJ's video showing how they mimic user behavior to study the effects of personalization:"
   ]
  },
  {
   "cell_type": "markdown",
   "id": "689d503a",
   "metadata": {
    "tags": []
   },
   "source": [
    "<figure>\n",
    "<video width=100% controls loop>\n",
    "  <source src=\"assets/wsj_tiktok.mp4\">\n",
    "</video><figcaption align = \"left\" style=\"font-size:80%;\">Source: WSJ</figcaption>\n",
    "</figure>\n"
   ]
  },
  {
   "cell_type": "markdown",
   "id": "2da9aa3e",
   "metadata": {},
   "source": [
    "This investigation was possible only after **simulating user behavior** and triggering personalization from TikTok's \"For You\" recommendations."
   ]
  },
  {
   "cell_type": "markdown",
   "id": "06abb144",
   "metadata": {},
   "source": [
    "# Tutorial\n",
    "In the hands-on tutorial we will attempt to study personalization on TikTok with a mock experiment. \n",
    "\n",
    "We’re going to teach you the basics of browser automation in Playwright, but the techniques we'll discuss could be used to study any other website using any other automation tool.\n",
    "\n",
    "We will try to replicate elements of the WSJ investigation and see if we can trigger a personalized \"For You\" page. Although the WSJ ran their investigation using an Android on a Raspberry Pi, we will try our luck with something you can run locally on a personal computer using browser automation.\n",
    "\n",
    "In this tutorial we'll use Playwright to watch TikTok videos where the description mentions keywords of our choosing, while skipping all others. In doing so, you will learn practical skills such as:\n",
    "\n",
    "* Setting up the automated browser in Python\n",
    "* Finding particular elements on the screen, extracting their content, and interacting with them\n",
    "* Scrolling\n",
    "* Taking screenshots\n",
    "\n",
    "Importantly, we’ll be watching videos with lighter topics than depression (the example chosen in the WSJ investigation.).\n",
    "\n",
    "::: {.callout-tip}\n",
    "#### Pro tip: Minimizing harms\n",
    "When developing the data collection methodology for an audit or investigation, start with low-stakes themes. This minimizes your exposure to harmful content and avoids boosting their popularity, unnecessarily.\n",
    ":::"
   ]
  },
  {
   "cell_type": "markdown",
   "id": "42bb3769",
   "metadata": {},
   "source": [
    "## Step 1: Installing playwright\n",
    "Playwright will take care of finding and installing the browser binary that's suitable for your operating system. Such setup is much more straightforward than [Selenium](https://selenium-python.readthedocs.io/), which requires the user to manage each browser version.\n",
    "\n",
    "The first line below installs the Python library, the second line installs the browser binaries."
   ]
  },
  {
   "cell_type": "code",
   "execution_count": 2,
   "id": "338a41c4",
   "metadata": {
    "collapsed": true,
    "jupyter": {
     "outputs_hidden": true
    }
   },
   "outputs": [
    {
     "name": "stdout",
     "output_type": "stream",
     "text": [
      "Requirement already satisfied: playwright in /Users/lyin72/miniconda3/lib/python3.11/site-packages (1.44.0)\n",
      "Requirement already satisfied: greenlet==3.0.3 in /Users/lyin72/miniconda3/lib/python3.11/site-packages (from playwright) (3.0.3)\n",
      "Requirement already satisfied: pyee==11.1.0 in /Users/lyin72/miniconda3/lib/python3.11/site-packages (from playwright) (11.1.0)\n",
      "Requirement already satisfied: typing-extensions in /Users/lyin72/miniconda3/lib/python3.11/site-packages (from pyee==11.1.0->playwright) (4.7.1)\n"
     ]
    }
   ],
   "source": [
    "!pip install playwright\n",
    "!playwright install"
   ]
  },
  {
   "cell_type": "markdown",
   "id": "3bb6a690",
   "metadata": {},
   "source": [
    "Let's see if the installation worked correctly! Run the cell below to open a new Firefox window. We're going to use Firefox in this tutorial because Playwright's default browser (Chromium) does not support video playback in TikTok's format.\n"
   ]
  },
  {
   "cell_type": "code",
   "execution_count": 25,
   "id": "b11afd48",
   "metadata": {},
   "outputs": [
    {
     "data": {
      "text/plain": [
       "<Response url='https://www.tiktok.com/foryou' request=<Request url='https://www.tiktok.com/foryou' method='GET'>>"
      ]
     },
     "execution_count": 25,
     "metadata": {},
     "output_type": "execute_result"
    }
   ],
   "source": [
    "from playwright.async_api import async_playwright\n",
    "\n",
    "# Start the browser\n",
    "playwright = await async_playwright().start()\n",
    "browser = await playwright.firefox.launch(headless=False)\n",
    "\n",
    "# Create a new browser window\n",
    "page = await browser.new_page()\n",
    "\n",
    "# Open the default tiktok For You page\n",
    "await page.goto(\"https://www.tiktok.com/foryou\")"
   ]
  },
  {
   "cell_type": "markdown",
   "id": "1e276a8b",
   "metadata": {},
   "source": [
    "::: {.callout-note}\n",
    "What is `await`? We're running Playwright in [asynchronous](https://realpython.com/python-async-features/#understanding-asynchronous-programming) mode, which is compatible with Jupyter Notebooks. You can run Playwright synchronously as a **script**, but not as a notebook. In practice you'll want to twinkler and iterate, so a notebook is preferred.\n",
    "\n",
    "We explicitly call `await` after each line of code so that each command is run sequentially. Otherwise, every line of code runs at the same time.\n",
    ":::"
   ]
  },
  {
   "cell_type": "markdown",
   "id": "13f30879",
   "metadata": {},
   "source": [
    "If everything works fine and you have the browser with TikTok open, our setup is complete!\n",
    "\n",
    "Unfortunately, depending on your system this setup might not work:\n",
    "* It will not work at all in Google Colab - you need to run this on your own machine\n",
    "* It might not work on a Windows machine. If you're using Windows, you will need to downgrade your `ipykernel` to a version that supports Playwright. Uncomment the next code cell and run it, then restart this notebook:"
   ]
  },
  {
   "cell_type": "code",
   "execution_count": null,
   "id": "0249c339",
   "metadata": {},
   "outputs": [],
   "source": [
    "## Only uncomment and run the next line if you're using windows and the cell above did not give you an open browser window.\n",
    "#!pip install ipykernel==6.28.0"
   ]
  },
  {
   "cell_type": "markdown",
   "id": "2863c577",
   "metadata": {},
   "source": [
    "## Step 2: Finding elements on page and interacting with them\n",
    "\n",
    "We will perform our mock experiment without logging in (but we will also learn how to create multiple accounts and how to log in later).\n",
    "\n",
    "Press the arrow down button on your keyboard a few times until a dialog pops up asking you do log in:\n",
    "\n",
    "![](assets/browser1_02_tiktok1.png \"tiktok main page\")\n",
    "\n",
    "Instead of logging in, our first interaction will be to click the \"Continue as guest\" button.\n",
    "\n",
    "Playwright has built-in tools called [Locators](https://playwright.dev/python/docs/locators) to find and interact with elements on the page. One helpful locator is [based on the text]((https://playwright.dev/python/docs/api/class-page#page-get-by-text)) of a button you want to press. We can use the `get_by_text` locator to find the button that says \"Continue as guest\" on the `page` and click it:"
   ]
  },
  {
   "cell_type": "code",
   "execution_count": 26,
   "id": "3383a73c",
   "metadata": {
    "scrolled": true
   },
   "outputs": [],
   "source": [
    "await page.get_by_text(\"Continue as guest\").click()"
   ]
  },
  {
   "cell_type": "markdown",
   "id": "68fde7f4",
   "metadata": {},
   "source": [
    "If Playwright successfully finds the button with the text you specified, it will be clicked. However, if Playwright **does not** find the element -- because the element hasn't loaded yet or you misspelled the text, you will get a `TimeoutError`. \n",
    "\n",
    "This error is thrown because Playwright waits a short period of time for an element to appear on screen. The default is 30,000 milliseconds (30 seconds). You can specify a different timeout as an argument to `click()`, for example 1,000 milliseconds (1 second):\n",
    "```python\n",
    "await page.get_by_text(\"Continue as guest\").click(timeout = 1000)\n",
    "```"
   ]
  },
  {
   "cell_type": "markdown",
   "id": "32ea4acf",
   "metadata": {},
   "source": [
    "Did you notice a change on the page? Congratulations! You just automated the browser to click something."
   ]
  },
  {
   "cell_type": "markdown",
   "id": "639fc743",
   "metadata": {},
   "source": [
    "## Step 4: Scrolling\n",
    "\n",
    "We now have a browser instance open and displaying the For You page. Let's scroll through the videos.\n",
    "\n",
    "If you are a *real person* who (for whatever reason) visits TikTok on their computer, you could press the down key the keyboard to see new videos. We will do that programmatically using a [virtual keyboard](https://playwright.dev/docs/api/class-keyboard) instead:"
   ]
  },
  {
   "cell_type": "code",
   "execution_count": 27,
   "id": "16351d89",
   "metadata": {},
   "outputs": [],
   "source": [
    "await page.keyboard.press(\"ArrowDown\")"
   ]
  },
  {
   "cell_type": "markdown",
   "id": "9a4698db",
   "metadata": {},
   "source": [
    "When you run the cell above you will see that your browser scrolls down to the next video."
   ]
  },
  {
   "cell_type": "markdown",
   "id": "f97f2c79",
   "metadata": {},
   "source": [
    "## Step 5: Finding TikTok videos on the page\n",
    "\n",
    "Now that we have the building blocks for swiping through the For You page, let's view the recommended TikTok videos and parse out information (called metadata) for each video.\n",
    "\n",
    "When we asked Playwright to search for the \"Continue as guest\" button (Step 3), we used a locator function based on text. Playwright had other [locator](https://playwright.dev/python/docs/locators) functions to find what you're looking for:\n",
    "\n",
    "- get_by_role() to locate by explicit and implicit accessibility attributes.\n",
    "- get_by_text() to locate by text content.\n",
    "- get_by_label() to locate by the associated label's text.\n",
    "- get_by_placeholder() to locate an input by placeholder.\n",
    "- get_by_alt_text() to locate an element, usually image, by its text alternative.\n",
    "- get_by_title() to locate an element by its title attribute.\n",
    "\n",
    "The developers suggest using these recommended locators. This will make your code more legible and reliable. Other browser automation tools have comparable functions.\n",
    "\n",
    "Unfortunately for us, none of these will work for our task. If you look at the source code for TikTok videos, you won't find any of these locators useful. However, there are fields that we can use to identify videos another way.\n",
    "\n",
    "1. Right click on the white space around a TikTok video and choose \"Inspect\".\n",
    "![Inspect Element](assets/browser1_05_inspect_tiktok_a1.png)\n",
    "2. Hover your mouse over the surrounding `<div>` elements and observe the highlighted elements on the page to see which ones correspond to each TikTok video.\n",
    "![Inspect Element](assets/browser1_05_inspect_tiktok_b1.png)\n",
    "3. You will see that each video is in a separate `<div>` container but each of these containers has the same [data attribute](https://developer.mozilla.org/en-US/docs/Web/HTML/Global_attributes/data-*) (`data-e2e`) with the value of `recommend-list-item-container`.\n",
    "4. We can now use this to find all videos on page (you can search by attribute value using square brackets):"
   ]
  },
  {
   "cell_type": "markdown",
   "id": "0d06d3cd",
   "metadata": {},
   "source": [
    "Playwright has a generic `locator` function that accepts both xpath and CSS [selectors](https://playwright.dev/python/docs/locators#locate-by-css-or-xpath).\n",
    "\n",
    "The same `<div>` can be identified in xpath as `//div[@data-e2e=\"recommend-list-item-container\"]` or as a CSS selector as `[data-e2e=\"recommend-list-item-container\"]`."
   ]
  },
  {
   "cell_type": "code",
   "execution_count": 31,
   "id": "a43aa81f",
   "metadata": {},
   "outputs": [
    {
     "data": {
      "text/plain": [
       "[<Locator frame=<Frame name= url='https://www.tiktok.com/foryou'> selector='//div[@data-e2e=\"recommend-list-item-container\"] >> nth=0'>,\n",
       " <Locator frame=<Frame name= url='https://www.tiktok.com/foryou'> selector='//div[@data-e2e=\"recommend-list-item-container\"] >> nth=1'>,\n",
       " <Locator frame=<Frame name= url='https://www.tiktok.com/foryou'> selector='//div[@data-e2e=\"recommend-list-item-container\"] >> nth=2'>,\n",
       " <Locator frame=<Frame name= url='https://www.tiktok.com/foryou'> selector='//div[@data-e2e=\"recommend-list-item-container\"] >> nth=3'>,\n",
       " <Locator frame=<Frame name= url='https://www.tiktok.com/foryou'> selector='//div[@data-e2e=\"recommend-list-item-container\"] >> nth=4'>,\n",
       " <Locator frame=<Frame name= url='https://www.tiktok.com/foryou'> selector='//div[@data-e2e=\"recommend-list-item-container\"] >> nth=5'>,\n",
       " <Locator frame=<Frame name= url='https://www.tiktok.com/foryou'> selector='//div[@data-e2e=\"recommend-list-item-container\"] >> nth=6'>,\n",
       " <Locator frame=<Frame name= url='https://www.tiktok.com/foryou'> selector='//div[@data-e2e=\"recommend-list-item-container\"] >> nth=7'>,\n",
       " <Locator frame=<Frame name= url='https://www.tiktok.com/foryou'> selector='//div[@data-e2e=\"recommend-list-item-container\"] >> nth=8'>,\n",
       " <Locator frame=<Frame name= url='https://www.tiktok.com/foryou'> selector='//div[@data-e2e=\"recommend-list-item-container\"] >> nth=9'>,\n",
       " <Locator frame=<Frame name= url='https://www.tiktok.com/foryou'> selector='//div[@data-e2e=\"recommend-list-item-container\"] >> nth=10'>,\n",
       " <Locator frame=<Frame name= url='https://www.tiktok.com/foryou'> selector='//div[@data-e2e=\"recommend-list-item-container\"] >> nth=11'>,\n",
       " <Locator frame=<Frame name= url='https://www.tiktok.com/foryou'> selector='//div[@data-e2e=\"recommend-list-item-container\"] >> nth=12'>,\n",
       " <Locator frame=<Frame name= url='https://www.tiktok.com/foryou'> selector='//div[@data-e2e=\"recommend-list-item-container\"] >> nth=13'>,\n",
       " <Locator frame=<Frame name= url='https://www.tiktok.com/foryou'> selector='//div[@data-e2e=\"recommend-list-item-container\"] >> nth=14'>]"
      ]
     },
     "execution_count": 31,
     "metadata": {},
     "output_type": "execute_result"
    }
   ],
   "source": [
    "videos = await page.locator('//div[@data-e2e=\"recommend-list-item-container\"]').all()\n",
    "videos"
   ]
  },
  {
   "cell_type": "markdown",
   "id": "8c3ccb3c",
   "metadata": {},
   "source": [
    "When we searched for the \"Continue as guest\" button we didn't need to use the `all` method because we were only expecting one element to match our locator.\n",
    "\n",
    "Now we're trying to find **all** videos on page, so we will chain the `locator` and `all` functions to return a full list of elements that match the locator."
   ]
  },
  {
   "cell_type": "markdown",
   "id": "e9dad946",
   "metadata": {},
   "source": [
    "## Step 6: Parsing TikTok metadata\n",
    "With all the TikTok `videos` on the page, let's extract the description from each. Later, we'll use this metadata to decide whether to watch a video, or to skip it. The process of extracting a specific field from a webpage is \"parsing\".\n",
    "\n",
    "1. Pick any description, right click, \"Inspect\". \n",
    "2. Let's locate the `<div>` that contains the whole description (including any hashtags) and make note of its `data` attribute.\n",
    "3. Now let's write the code that extracts the description from a single video. You can get the text of any located element by calling the `inner_text` function."
   ]
  },
  {
   "cell_type": "code",
   "execution_count": 34,
   "id": "06a4a91e",
   "metadata": {},
   "outputs": [
    {
     "name": "stdout",
     "output_type": "stream",
     "text": [
      "Unbelievable fish trap technique #fish  #fishing  #fishinglife  #wild  #wildlife  #nature  #asmr  #river  #fyp   \n",
      "Super winner! Whoever clears the board first wins👌Sling Puck Game #viral  #viralvideo  #2024 #satisfying \n",
      "Head on to your nearest retail store and spot the 900g promo pack! Prepare your child for all school age challenges with NIDO!*Applicable on select retail stores nationwide.\n",
      "#india  #streetfood  #food  #fpy  #foryou  #longervideos  \n",
      "Jajaja YO NO SOY LA QUE REACCIONA, es una nena que se muere por el juhador  #richardRios  #colombia  \n",
      "Every car needs this!🤯 #lifehack  #cars  #diy  #sports  \n",
      "This was insane 🫣🤣\n",
      "How North Korea is Now Impossible to Escape 🇰🇵🇰🇷 #northkorea  #korea  #southkorea  #northkoreafact  #northkorealife  #border  #maps  #geography  #learn  #history  #geotok  #historytok  #funfacts  #fyp \n",
      "Geeze im tired of hurting \n",
      "#momsoftiktok  #baseketball  #nba  #tiktok  #fyp  #foryou  \n",
      "should dweeb count? 🤣 #trivia  \n",
      "Apple watch hidden camera\n",
      "\n",
      "Nah fam. I’m not for this. I had to get back into line so I could record this. #ai  #artificialintelligence  #wendys  \n",
      "Part 1#foryou  #viral  \n"
     ]
    }
   ],
   "source": [
    "for video in videos:\n",
    "    print(await video.locator('//div[@data-e2e=\"video-desc\"]').inner_text())"
   ]
  },
  {
   "cell_type": "markdown",
   "id": "05f4818a",
   "metadata": {},
   "source": [
    "::: {.callout-note}\n",
    "Note: We previously searched for elements using `page.locator()`. That allowed us to search the whole page. Here we're using a locator within a previously located element: `video.locator()`. This allows us to access attributes and elements **within an element on the page**, rather than on the whole page.\n",
    ":::"
   ]
  },
  {
   "cell_type": "markdown",
   "id": "533a3ff3",
   "metadata": {},
   "source": [
    "## Step 7: Finding the TikTok video that's currently playing\n",
    "We know how to scroll to the next video, and we know how to find all videos that are loaded.\n",
    "At this point we could either:\n",
    "\n",
    "a. Assume that at the beginning, the 0th video is playing, and then every time we press arrow down, the next video is being displayed<br>\n",
    "b. Or, assume that the arrow down does not always work and each time verify which video is actually playing\n",
    "\n",
    "The problem with the first approach is that even if scrolling fails just once, our experiment will be compromised (after it happens we will be watching and skipping different videos that our script tells us). This is why we will go with the second approach and verify which video is actually playing. Back to our favorite tool- inspect element!\n",
    "\n",
    "When you right click on the playing video, you will see that instead of our familiar UI we get a custom TikTok menu, so that won't work. Try right-clicking on the description of the video instead, then hovering over different elements in the inspector and expanding the one that highlights the video in the browser. Dig deep until you get to the `div` that only contains the video. \n",
    "\n",
    "Still in the inspector try looking at the video below. You will see that the `div` that contains the video is missing and there is no element with the tag name `video`. That's how we can find if the video is currently playing - its `div` will contain the `video` element that we can find by `TAG_NAME` <- ???:"
   ]
  },
  {
   "cell_type": "code",
   "execution_count": 15,
   "id": "1bf00322",
   "metadata": {},
   "outputs": [
    {
     "name": "stdout",
     "output_type": "stream",
     "text": [
      "not playing Unbelievable fish trap technique #fish  #fishing  #fishinglife  #wild  #wildlife  #nature  #asmr  #river  #fyp   \n",
      "not playing Super winner! Whoever clears the board first wins👌Sling Puck Game #viral  #viralvideo  #2024 #satisfying \n",
      "playing Head on to your nearest retail store and spot the 900g promo pack! Prepare your child for all school age challenges with NIDO!*Applicable on select retail stores nationwide.\n",
      "not playing #india  #streetfood  #food  #fpy  #foryou  #longervideos  \n",
      "not playing Jajaja YO NO SOY LA QUE REACCIONA, es una nena que se muere por el juhador  #richardRios  #colombia  \n"
     ]
    }
   ],
   "source": [
    "for video in videos:\n",
    "    # let's get the description of each video using the method we already know\n",
    "    description = await video.locator('//div[@data-e2e=\"video-desc\"]').inner_text()\n",
    "\n",
    "    # now let's count all the <video> elements within. If there is one, that's the one that's playing!\n",
    "    if await video.locator('video').count() > 0:\n",
    "        playing = 'playing'\n",
    "    else:\n",
    "        playing = 'not playing'\n",
    "    print(playing, description)"
   ]
  },
  {
   "cell_type": "markdown",
   "id": "ab07f6a2",
   "metadata": {},
   "source": [
    "## Step 8: Taking screenshots and saving page sources\n",
    "\n",
    "You might want to save a screenshot to help debug your scraper or provide artifacts you can present alongside your findings.\n",
    "Playwright allows you to take screenshots of the whole screen, or just a particular element:"
   ]
  },
  {
   "cell_type": "code",
   "execution_count": 16,
   "id": "259165bd",
   "metadata": {},
   "outputs": [],
   "source": [
    "# take a screenshot of the whole browser\n",
    "await page.screenshot(path=\"screenshot.png\")\n",
    "\n",
    "# take a screenshot of just one video\n",
    "screenshot = await video.screenshot(path=\"video_screenshot.png\")"
   ]
  },
  {
   "cell_type": "markdown",
   "id": "48bec7a8",
   "metadata": {},
   "source": [
    "In the spirit of _bringing receipts_, you can also save the entire webpage as an HTML file to parse it later."
   ]
  },
  {
   "cell_type": "code",
   "execution_count": 17,
   "id": "8880b460",
   "metadata": {},
   "outputs": [],
   "source": [
    "# save the source of the entire page\n",
    "page_html = await page.content()\n",
    "with open('webpage.html', 'w') as output:\n",
    "    output.write(page_html)"
   ]
  },
  {
   "cell_type": "markdown",
   "id": "5aef3d3b",
   "metadata": {},
   "source": [
    "::: {.callout-tip}\n",
    "#### Pro tip: Keep these records to sanity check your results\n",
    "Taking a screenshot and saving the page source is a useful practice for checking your work. Use the two to cross-reference what was visible in the browser and whatever data you end up extracting during the parsing step.\n",
    ":::\n",
    "\n",
    "Let's close the browser for now, and kick this workflow up a notch."
   ]
  },
  {
   "cell_type": "code",
   "execution_count": 20,
   "id": "6cffc33d",
   "metadata": {},
   "outputs": [],
   "source": [
    "await browser.close()"
   ]
  },
  {
   "cell_type": "markdown",
   "id": "daefad46",
   "metadata": {},
   "source": [
    "## Step 9: Putting it all together\n",
    "At this point, we can read the description of TikTok videos and navigate the \"For You\" page. \n",
    "\n",
    "That's most of the setup we need to try our mock experiment:<br>\n",
    "let's watch all TikTok videos that mention food in the description and skip videos that do not mention food.\n",
    "\n",
    "After one hundred videos, we will see whether we are served videos from FoodTok more frequently than other topics.\n",
    "\n",
    "::: {.callout-tip}\n",
    "#### Pro tip: Use functions!\n",
    "So far we wrote code to open the browser, close the dialog, and find videos as separate cells in the notebook. We _could_ copy that code over here to use it, but it will be much easier to read and maintain the code if we write clean, well-documented functions with descriptive names.\n",
    "\n",
    "Note: because we're running asynchronous Playwight we are using `async def` to [define functions](https://stackoverflow.com/a/53420574).\n",
    ":::"
   ]
  },
  {
   "cell_type": "code",
   "execution_count": 21,
   "id": "ec26c488",
   "metadata": {},
   "outputs": [],
   "source": [
    "from playwright.async_api import async_playwright, expect\n",
    "\n",
    "async def open_browser():\n",
    "    \"\"\"\n",
    "    Starts the automated browser and opens a new window\n",
    "    \"\"\"\n",
    "    # Start the browser\n",
    "    playwright = await async_playwright().start()\n",
    "    browser = await playwright.firefox.launch(headless=False)\n",
    "\n",
    "    # Create a new browser window\n",
    "    page = await browser.new_page()\n",
    "\n",
    "    return browser, page\n",
    "\n",
    "\n",
    "async def close_login_dialog(page):\n",
    "    \"\"\"\n",
    "    Checks if the login dialog is present. If so, it \"Continues as guest\"\n",
    "    \"\"\"\n",
    "    # how many elements with \"Continue as guest\" do we see?\n",
    "    if await page.get_by_text('Continue as guest').count() > 0:\n",
    "        # there is one, let's click it!\n",
    "        await page.get_by_text('Continue as guest').click()\n",
    "    else:\n",
    "        # there is none, we can continue scrolling\n",
    "        return\n",
    "    \n",
    "async def find_videos(page):\n",
    "    \"\"\"\n",
    "    Finds all tiktoks loaded in the browser\n",
    "    \"\"\"\n",
    "    videos = await page.locator('//div[@data-e2e=\"recommend-list-item-container\"]').all()\n",
    "    return videos\n",
    "\n",
    "async def get_description(video):\n",
    "    \"\"\"\n",
    "    Extracts the video description along with any hashtags\n",
    "    \"\"\"\n",
    "    try:\n",
    "        description = await video.locator('//div[@data-e2e=\"video-desc\"]').inner_text()\n",
    "    except:\n",
    "        # if the description is missing, just get any text from the video\n",
    "        description = await video.inner_text()\n",
    "    return description\n",
    "\n",
    "async def get_current(videos):\n",
    "    \"\"\"\n",
    "    Given the list of videos it returns the one that's currently playing\n",
    "    \"\"\"\n",
    "    for video in videos:\n",
    "        if await video.locator('video').count() > 0:\n",
    "            # this one has the video, we can return it and that ends the function.\n",
    "            return video\n",
    "    \n",
    "    return None\n",
    "\n",
    "def is_target_video(description, keywords):\n",
    "    \"\"\"\n",
    "    Looks for keywords in the given description. \n",
    "    NOTE: only looks for the substring IE partial match is enough.\n",
    "    Returns `True` if there are any or `False` when there are none.\n",
    "    \"\"\"\n",
    "    # check in any of the keywords is in the description\n",
    "    for keyword in keywords:\n",
    "        if keyword in description:\n",
    "            # we have a video of interest, let's watch it \n",
    "            return True\n",
    "    \n",
    "    # if we're still here it means no keywords were found\n",
    "    return False\n",
    "\n",
    "async def screenshot(video, filename=\"screenshot.png\"):\n",
    "    \"\"\"\n",
    "    Saves a screenshot of a given video to a specified file\n",
    "    \"\"\"\n",
    "    screenshot = await video.screenshot(path = filename)\n",
    "    \n",
    "async def save_source(page, filename='webpage.html'):\n",
    "    \"\"\"\n",
    "    Saves the browser HTML to a file\n",
    "    \"\"\"\n",
    "    page_html = await page.content()\n",
    "    with open(filename, 'w') as output:\n",
    "        output.write(page_html)"
   ]
  },
  {
   "cell_type": "markdown",
   "id": "87631855",
   "metadata": {},
   "source": [
    "Ok, with that out of the way, let's set up our first data collection.\n",
    "\n",
    "Let's make a directory to save screenshots. We will save screenshots here whenever we find a video related to food."
   ]
  },
  {
   "cell_type": "code",
   "execution_count": 22,
   "id": "cd48080c",
   "metadata": {},
   "outputs": [],
   "source": [
    "import os\n",
    "\n",
    "os.makedirs('data/screenshots/', exist_ok=True)"
   ]
  },
  {
   "cell_type": "code",
   "execution_count": 23,
   "id": "eceed5b0",
   "metadata": {},
   "outputs": [],
   "source": [
    "browser, page = await open_browser()\n",
    "\n",
    "# Open the default tiktok For You page\n",
    "await page.goto(\"https://www.tiktok.com/foryou\")\n",
    "\n",
    "await expect(page.locator('video').first).to_be_visible()"
   ]
  },
  {
   "cell_type": "code",
   "execution_count": 24,
   "id": "fe467c2d",
   "metadata": {},
   "outputs": [
    {
     "name": "stdout",
     "output_type": "stream",
     "text": [
      "0 False Super winner! Whoever clears the board first wins👌Sling Puck Game #viral  #viralvideo  #2024 #satisfying \n",
      "1 True #india  #streetfood  #food  #fpy  #foryou  #longervideos  \n",
      "2 False Jajaja YO NO SOY LA QUE REACCIONA, es una nena que se muere por el juhador  #richardRios  #colombia  \n",
      "3 False No sean esa persona 🥺 \n",
      "4 False 02.07. Happy birthday #happybirthday  #nohea  #asmr  #satisfyingvideo  \n",
      "5 False \n",
      "6 False Every car needs this!🤯 #lifehack  #cars  #diy  #sports  \n",
      "7 False This was insane 🫣🤣\n",
      "8 False #momsoftiktok  #baseketball  #nba  #tiktok  #fyp  #foryou  \n",
      "9 False This is the story of Nasim Aghdam #youtube  #nasim  #truecrime  \n",
      "10 False Geeze im tired of hurting \n",
      "11 False How North Korea is Now Impossible to Escape 🇰🇵🇰🇷 #northkorea  #korea  #southkorea  #northkoreafact  #northkorealife  #border  #maps  #geography  #learn  #history  #geotok  #historytok  #funfacts  #fyp \n",
      "12 False \n",
      "13 False Apple watch hidden camera\n",
      "14 False 34 years later.. someone please tell me! #nostalgia  #90skids  #90stoys  #thirties  #foryou  #nostalgic  \n",
      "15 False Part 1. #fyp  #foryou  #movie  \n",
      "16 False \n",
      "17 False This is sand leveling, or topdressing. It creates a more level surface for your lawn by filling in low areas. I use masonry sand since I have Bermuda grass. If you have a cool season grass type, a screened topsoil may be better. I like to put a little fertilizer down prior to, and after to ensure bermuda is growing aggressively through the sand. I water every other day for a week and within 2 weeks it should be almost fully recovered. Part 2 update coming soon #lawn  #lawncare  #lawnleveling  #topdressing  #diy  #landscaping  #howto  \n",
      "18 False Try not to laugh #prank  #funny  #funnyvideos  #scare  #scareprank  \n",
      "19 False #foryoupage  #foryoupageofficiall  #viralvideo  #trending  #fypシ゚viral  #vacation  #bahamas🇧🇸  #vacay  \n",
      "20 False Bro done messed up ☠️‼️#donpollo  #fyp  #meme #funny  \n",
      "21 False #greenscreen  maybe one day, you’ll love us. #singlemom  \n",
      "22 False Hint: she looks nothing like the dad  #trending  #guessthedad  #momtok  #babytok  #daddysgirl  #fypage  \n",
      "23 False 💔 95 - on our way back to Michigan 💔 - I once saw a truck driver run into a mountain to avoid hitting other cars 💔#wherethewildthingsare  #trucker  #trucktok🔥  #truckdrivers  #lukecombs  \n",
      "24 False Cheeseburger Egg Rolls \n",
      "25 False Broke character at the end 😭 #fredbeyer  \n",
      "26 False Part 1#foryou  #viral  \n",
      "27 False Only at 511 😂😂😂 #ofcourse  #crackerbarrel  \n",
      "28 False \n",
      "29 False Here’s a quick tutorial to setting up your Loop Lasso 🤠  #physics  #technology  #looplasso  \n",
      "30 False #animalattacks  #truestory  #scarystories  #tiktokstoryteller  #fyp  #pitbull  #pitbullattacksurvivor  #dogattacks  #fyp  \n",
      "31 False Jesus loves you 🙏 #jesus  #jesuschrist  #christian  #christianitytiktok  #God  \n",
      "32 False If you’ve ever considered getting a German Shepard… let this be your sign. I’m literally shaking \n",
      "33 False Life is weird, scary, and unpredictable sometimes. Here’s to starting over. I’m free now 🤍 Couldn’t have done it without my chosen family #domesticabuseawareness  #marriage  #divorce  #startingover  \n",
      "34 False 🆘 Plz Help Me! OMG! Hilarious Encounter with a Regal 🐴 | Tourist's Unexpected Adventure 😂\n",
      "35 False #cute  \n",
      "36 False PRAUM❤️ #prom2024  #prom  #dress  #fyp  #reddress  #windsor  #foryou  \n",
      "37 False #fyp  \n",
      "38 False Nah fam. I’m not for this. I had to get back into line so I could record this. #ai  #artificialintelligence  #wendys  \n",
      "39 False Chinese culture inspired version of the asoka trend 👏I’m so proud of this one  Let me know how many transitions you see in here, cuz i lost track hahhaa   Song: my new swag by Vava #transitions  #transitionbts  #grwm  #asoka  \n",
      "40 False on to the next project #diyqueen  #diy  #diyproject  #asmr  #asmrsounds  #asmrvideo  #asmrtiktoks  #fyp  #cuttingglass  #glasscutting  #cutglass  \n",
      "41 False #copspolice  #cop  #cops  #police  #policeofficer  #copsofftiktok  #copsontiktok  #copstiktok  #foryou  #fyp  #Trending  #fyp  #sheriff  #Monment  #viralvideo  #coptiktok  #trendingvideo  #Viral  \n",
      "42 False \n",
      "43 False Grandma and puppy helps police find grandson #police  #policeofficer  #policeoftiktok  \n",
      "44 False How Bullet Proof Glass Works 🤔\n",
      "45 False I swear he ONLY loves mom 🥰 #funny  #viral  #dogsoftiktok  \n",
      "46 False When troops dont recognize their leadership 🤣😭  #fypシ  #foryoupage  #specialforces  #military  #soldier  #militaryedit  @wooh_man  \n",
      "47 False Uncovered a really cool part of my family history yesterday and I feel so lucky to have seen another beautiful side to my late grandfather 🤍 #army  #airforce  #vintagevibes  #vintagestyle  #familyhistory  #historical  #ww2  #vso  #aarp  #vfw  #veterans  \n",
      "48 False \n",
      "49 False Vietnamese billionaire Truong My Lan defrauded the bank and said the remaining 26,886,338.30 was at sea. #money  #bank  #billions  #truongmylan  #fyp  #foryou  \n",
      "50 False #su57  #russia  \n",
      "51 False I didn't even have a donut.....that day. 🍩 #copsoftiktok  #speeding  #trafficstop  #donuts  #speed  #mean  \n",
      "52 False I take you to the candy shop #horse  #candyshop  \n",
      "53 False No murders today. Just a little blackmail 👍 #airbnb  #truecrime  #blackmail  #memphis  \n",
      "54 False I still do not understand \n",
      "55 False 14 y/o muslims homemade clock mistaken for a bomb at school #bomb  #clock  #student  #school  #funny  #islam  #texas  #trending  #viral  #foryou  #discrimination  #teen  #art  \n",
      "56 False Qatar Airbus A380 #aviation  \n",
      "57 False He ordered a bogo sandwich in the app but they won’t fulfill the order because they said they didn’t participate in that special offer and he got mad #customerservice  #subway  #fypage  #foryou  #fypシ゚viral🖤video  \n",
      "58 False I think it was a tie tbh. Who yall got during this fight?? #ivory  #nowthatstv  #liddymechelle  #fyp  #onmysoul  #nowthatstvedit  #viral  #nttv  #fyp  #makemefamous  #blowthisup  #foryou  #vsp  #makemefamous  #liddyvsivory  #capcut  \n",
      "59 False Tip  #soilph  #soiltester  #soil  #soils  #soilheath  #plant  #plantsoftiktok  #plants  #planting  #plantlife  #plantlover  #garden  #gardening  #gardenlife  #gardens  #flower  #flowers  #tips  #tip  #gardenlove  \n",
      "60 False This is hilarious 😂 #trump2024  #maga  #donaldtrump  \n",
      "61 False For Real V8 Experts 💚💛❤️          SHARE your result in the comment!\n",
      "62 False #CapCut  #story  #storytime  #utah  #scary  #creepy  #florida  #fyp  \n",
      "63 False Einstein as a kid? 🤨#einstein  #smart  #kid  #math  #hack  #meme  #cool  #school  #student  #education  #bigbraintutor  #studytok  #learnontiktok  #learn  #save  \n",
      "64 False #question  What lane is for slow traffic Who knows ? #driving  #traffic  #roadrage  #truck  #foryoupage  #highway  \n",
      "65 True 😂😂#viral  #funny #xybca  #foryou  #fypage  #fypシ゚viral  #fyppppppppppppppppppppppp  #manger  #bk  #latenightsnack  #food  \n",
      "66 False #sad  \n",
      "67 False #dementia  #funny  #fyppppppppppppppppppppppp  \n",
      "68 False just another day in Chicago #chicago  #foryoupage  #fyp  \n",
      "69 False There are no fingerprints, and no more scratches. When applying a mobile phone screen protector, choose Magic John screen protector that’s been tempered twice.#magicjohn  #newyork  #california  #tiktokmademebuyit  #tiktokshop  #iphone  #losangeles  #screenprotector  #usa_tiktok  \n",
      "70 False i am here🥰#fyp  #foryou  #real  #relate  #relatable  #him  #stalker  #viral  #viral?  #inyourcloset  \n",
      "71 False should dweeb count? 🤣 #trivia  \n",
      "72 False This was just the beginning 👹 #terrelljubilee  #terrelltexas  #carnival  #scammers  #shennanigins  #yellow \n",
      "73 False NBA Best Editing Special Effects #NBA  #basketball  #sports  #fyp  @TikTok  @NBA  \n",
      "74 False The Strangers just busted through the wall at the Chapter 1 Premiere🪓 #thestrangers  @Lionsgate   \n",
      "75 False #walkingwithlions  #lions  #travel  #southafrica  \n",
      "76 False Oranic Lions Mane from the fully fruiting body grown on mycelium. #lionsmane  #lionsmanemushroom  #memoryloss  #cognitivefunctions  #brain  #fyp  #ttshop  #tiktokmademebuyit  #tiktokshop  \n",
      "77 False Oranic Lions Mane from the fully fruiting body grown on mycelium. #lionsmane  #lionsmanemushroom  #memoryloss  #cognitivefunctions  #brain  #fyp  #ttshop  #tiktokmademebuyit  #tiktokshop  \n",
      "78 False Oranic Lions Mane from the fully fruiting body grown on mycelium. #lionsmane  #lionsmanemushroom  #memoryloss  #cognitivefunctions  #brain  #fyp  #ttshop  #tiktokmademebuyit  #tiktokshop  \n",
      "79 False Oranic Lions Mane from the fully fruiting body grown on mycelium. #lionsmane  #lionsmanemushroom  #memoryloss  #cognitivefunctions  #brain  #fyp  #ttshop  #tiktokmademebuyit  #tiktokshop  \n",
      "80 False Oranic Lions Mane from the fully fruiting body grown on mycelium. #lionsmane  #lionsmanemushroom  #memoryloss  #cognitivefunctions  #brain  #fyp  #ttshop  #tiktokmademebuyit  #tiktokshop  \n",
      "81 False Oranic Lions Mane from the fully fruiting body grown on mycelium. #lionsmane  #lionsmanemushroom  #memoryloss  #cognitivefunctions  #brain  #fyp  #ttshop  #tiktokmademebuyit  #tiktokshop  \n",
      "82 False Oranic Lions Mane from the fully fruiting body grown on mycelium. #lionsmane  #lionsmanemushroom  #memoryloss  #cognitivefunctions  #brain  #fyp  #ttshop  #tiktokmademebuyit  #tiktokshop  \n",
      "83 False Oranic Lions Mane from the fully fruiting body grown on mycelium. #lionsmane  #lionsmanemushroom  #memoryloss  #cognitivefunctions  #brain  #fyp  #ttshop  #tiktokmademebuyit  #tiktokshop  \n",
      "84 False Oranic Lions Mane from the fully fruiting body grown on mycelium. #lionsmane  #lionsmanemushroom  #memoryloss  #cognitivefunctions  #brain  #fyp  #ttshop  #tiktokmademebuyit  #tiktokshop  \n",
      "85 False Oranic Lions Mane from the fully fruiting body grown on mycelium. #lionsmane  #lionsmanemushroom  #memoryloss  #cognitivefunctions  #brain  #fyp  #ttshop  #tiktokmademebuyit  #tiktokshop  \n",
      "86 False Oranic Lions Mane from the fully fruiting body grown on mycelium. #lionsmane  #lionsmanemushroom  #memoryloss  #cognitivefunctions  #brain  #fyp  #ttshop  #tiktokmademebuyit  #tiktokshop  \n",
      "87 False Oranic Lions Mane from the fully fruiting body grown on mycelium. #lionsmane  #lionsmanemushroom  #memoryloss  #cognitivefunctions  #brain  #fyp  #ttshop  #tiktokmademebuyit  #tiktokshop  \n",
      "88 False Oranic Lions Mane from the fully fruiting body grown on mycelium. #lionsmane  #lionsmanemushroom  #memoryloss  #cognitivefunctions  #brain  #fyp  #ttshop  #tiktokmademebuyit  #tiktokshop  \n",
      "89 False Oranic Lions Mane from the fully fruiting body grown on mycelium. #lionsmane  #lionsmanemushroom  #memoryloss  #cognitivefunctions  #brain  #fyp  #ttshop  #tiktokmademebuyit  #tiktokshop  \n",
      "90 False Oranic Lions Mane from the fully fruiting body grown on mycelium. #lionsmane  #lionsmanemushroom  #memoryloss  #cognitivefunctions  #brain  #fyp  #ttshop  #tiktokmademebuyit  #tiktokshop  \n",
      "91 False Oranic Lions Mane from the fully fruiting body grown on mycelium. #lionsmane  #lionsmanemushroom  #memoryloss  #cognitivefunctions  #brain  #fyp  #ttshop  #tiktokmademebuyit  #tiktokshop  \n",
      "92 False Oranic Lions Mane from the fully fruiting body grown on mycelium. #lionsmane  #lionsmanemushroom  #memoryloss  #cognitivefunctions  #brain  #fyp  #ttshop  #tiktokmademebuyit  #tiktokshop  \n",
      "93 False Oranic Lions Mane from the fully fruiting body grown on mycelium. #lionsmane  #lionsmanemushroom  #memoryloss  #cognitivefunctions  #brain  #fyp  #ttshop  #tiktokmademebuyit  #tiktokshop  \n",
      "94 False Oranic Lions Mane from the fully fruiting body grown on mycelium. #lionsmane  #lionsmanemushroom  #memoryloss  #cognitivefunctions  #brain  #fyp  #ttshop  #tiktokmademebuyit  #tiktokshop  \n",
      "95 False Oranic Lions Mane from the fully fruiting body grown on mycelium. #lionsmane  #lionsmanemushroom  #memoryloss  #cognitivefunctions  #brain  #fyp  #ttshop  #tiktokmademebuyit  #tiktokshop  \n",
      "96 False Oranic Lions Mane from the fully fruiting body grown on mycelium. #lionsmane  #lionsmanemushroom  #memoryloss  #cognitivefunctions  #brain  #fyp  #ttshop  #tiktokmademebuyit  #tiktokshop  \n",
      "97 False Oranic Lions Mane from the fully fruiting body grown on mycelium. #lionsmane  #lionsmanemushroom  #memoryloss  #cognitivefunctions  #brain  #fyp  #ttshop  #tiktokmademebuyit  #tiktokshop  \n",
      "98 False Oranic Lions Mane from the fully fruiting body grown on mycelium. #lionsmane  #lionsmanemushroom  #memoryloss  #cognitivefunctions  #brain  #fyp  #ttshop  #tiktokmademebuyit  #tiktokshop  \n",
      "99 False Oranic Lions Mane from the fully fruiting body grown on mycelium. #lionsmane  #lionsmanemushroom  #memoryloss  #cognitivefunctions  #brain  #fyp  #ttshop  #tiktokmademebuyit  #tiktokshop  \n"
     ]
    }
   ],
   "source": [
    "import time\n",
    "\n",
    "# if the description has any one these words, we will watch the video\n",
    "keywords = ['food', 'dish', 'cook', 'pizza', 'recipe', 'mukbang', 'dinner', 'foodie', 'restaurant']\n",
    "\n",
    "# this is where will we store decisions we take\n",
    "decisions = []\n",
    "\n",
    "# open a browser, and go to TikTok's For You page.\n",
    "browser, page = await open_browser()\n",
    "\n",
    "# Open the default tiktok For You page\n",
    "await page.goto(\"https://www.tiktok.com/foryou\")\n",
    "\n",
    "# Let's wait for the first video to load before we start scrolling\n",
    "await expect(page.locator('video').first).to_be_visible()\n",
    "\n",
    "for tiktok_index in range(0, 100):\n",
    "    # make sure to dismiss the login window\n",
    "    await close_login_dialog(page)\n",
    "    \n",
    "    # get all videos\n",
    "    tiktoks = await find_videos(page)\n",
    "    \n",
    "    # the current tiktok is the one that's currently showing the video player\n",
    "    current_video = await get_current(tiktoks)\n",
    "    \n",
    "    if current_video is None:\n",
    "        print('no more videos')\n",
    "        break\n",
    "              \n",
    "    # read the description of the video\n",
    "    description = await get_description(current_video)\n",
    "    \n",
    "    # categorize the video as relevant to `keywords` or not.\n",
    "    contains_keyword = is_target_video(description, keywords)\n",
    "    decisions.append(contains_keyword)\n",
    "            \n",
    "    print(tiktok_index, contains_keyword, description)\n",
    "    \n",
    "    if contains_keyword:\n",
    "        # we have a video of interest, let's take a screenshot\n",
    "        ## here we declare the files we'll save. they're named according to their order.\n",
    "        fn_screenshot = f\"data/screenshots/screenshot_{tiktok_index:05}.png\"\n",
    "        fn_page_source = fn_screenshot.replace('.png', '.html')\n",
    "        await screenshot(current_video, fn_screenshot)\n",
    "        await save_source(page, fn_page_source)\n",
    "        # and now watch it for 30 seconds\n",
    "        await page.wait_for_timeout(30000)\n",
    "    \n",
    "    # move to the next video\n",
    "    await page.keyboard.press(\"ArrowDown\")\n",
    "    await page.wait_for_timeout(1000)\n",
    "    \n",
    "    \n",
    "await browser.close()"
   ]
  },
  {
   "cell_type": "markdown",
   "id": "83c980c5",
   "metadata": {},
   "source": [
    "::: {.callout-tip}\n",
    "#### Pro tip: Be careful about keywords\n",
    "For experiments that use `keywords`, the choices we make will directly shape our results. In the field, you can mitigate your own predisposition and biases by working with [domain experts to curate keyword lists](https://themarkup.org/google-the-giant/2021/04/09/how-we-discovered-googles-social-justice-blocklist-for-youtube-ad-placements#sourcing-social-justice-keywords).\n",
    ":::"
   ]
  },
  {
   "cell_type": "code",
   "execution_count": 35,
   "id": "159ea8c7",
   "metadata": {},
   "outputs": [
    {
     "data": {
      "image/png": "[encoded data removed]",
      "text/plain": [
       "<Figure size 640x480 with 1 Axes>"
      ]
     },
     "metadata": {},
     "output_type": "display_data"
    }
   ],
   "source": [
    "import matplotlib.pyplot as plt\n",
    "plt.plot(decisions, ds='steps')\n",
    "plt.xlabel('Video Number')\n",
    "plt.ylabel('Watched')\n",
    "plt.yticks([0, 1], ['False', 'True']);"
   ]
  },
  {
   "cell_type": "markdown",
   "id": "40a5bc92",
   "metadata": {},
   "source": [
    "The figure above shows when during our 100-videos-long session we were recommended a video about food (from `keywords`). The x-axis is chronological, the 1st video displayed is on the left, and the most recent video is on the right. The y-axis is \"yes\" or \"no,\" depending on if the video was related to food. "
   ]
  },
  {
   "cell_type": "markdown",
   "id": "b354c170",
   "metadata": {},
   "source": [
    "### Results\n",
    "\n",
    "You can look back to the `data/screenshots` folder we created to check whether the videos we watched appear to be food-related. \n",
    "\n",
    "If the feed was indeed increasingly filled with food videos, we would see more lines towards the right of the graph. At least here it does not appear to be the case. \n",
    "\n",
    "Does it mean that the WSJ investigation was wrong, or that TikTok stopped personalizing content? \n",
    "\n",
    "The answer is \"No,\" for several reasons: \n",
    "\n",
    "1. We only scrolled through 100 videos, this is likely too few to observe any effects. Try re-running with a higher number!<br>\n",
    "2. When studying personalization you should use an account per profile and make sure you're logged in, rather than relying on a fresh browser. So, instead of closing the login dialog, try actually logging in! You know how to find and click buttons, and [this is how you put text in text fields](https://www.geeksforgeeks.org/send_keys-element-method-selenium-python/).<br>\n",
    "3. When you're not logged in, you will be presented with content from all over the world, in all languages. If you filtered `keywords` in just one language, you will miss plenty of target content in other languages.<br>\n",
    "4. You should always have a baseline to compare to. In this case, you should probably run two accounts at the same time - one that watches food videos and one that doesn't. Then you compare the prevalence of food videos between these two.<br>\n",
    "5. The WSJ investigation was run on the mobile app rather than on a desktop browser. Perhaps TikTok's personalization works differently based on device or operating system."
   ]
  },
  {
   "cell_type": "markdown",
   "id": "8e461117",
   "metadata": {},
   "source": [
    "## Advanced Usage\n",
    "\n",
    "Above we highlighted some ideas to make your investigation or study more robust, some are methodological choices, but others are technical.\n",
    "\n",
    "There are some advanced use-cases and tasks you can perform with browser automation that include\n",
    "\n",
    "- Authentication using the browser and storing cookies for later use.<br>\n",
    "- Intercept background [API](/apis.html) calls and combine browser automation with API calls. See [`selenium-wire`](https://pypi.org/project/selenium-wire/) as an example.<br>\n",
    "- Signing in with one or more email addresses.<br>\n",
    "\n",
    "We may cover some or all of these topics in subsequent tutorials, but you should feel free to experiment.\n",
    "\n",
    "Let us know what you're interested in learning more about!"
   ]
  },
  {
   "cell_type": "markdown",
   "id": "a00d42b0",
   "metadata": {},
   "source": [
    "# Related Readings\n",
    "\n",
    "More tutorials on the same subject:\n",
    "\n",
    "- \"[Using real browsers](https://scrapism.lav.io/using-real-browsers/)\" - Sam Lavigne\n",
    "- \"[Scraping with Playwright - IRE 2024](https://github.com/jsoma/ire24-scraping?tab=readme-ov-file)\" - Jonathan Soma\n",
    "\n",
    "Notable investigations, audits, and tools using browser automation:\n",
    "\n",
    "- \"[Blacklight](https://themarkup.org/blacklight)\" - a investigative tool by Surya Mattu<br>\n",
    "- \"[TheirTube](https://www.their.tube/)\" - an art and advocacy project by Tomo Kihara<br>\n",
    "- \"[Worlds Apart](https://www.nrk.no/osloogviken/xl/tiktok-doesn_t-show-the-war-in-ukraine-to-russian-users-1.15921522)\" - a TikTok investigation by Henrik Bøe and Christian Nicolai Bjørke<br>\n",
    "- \"[WebSearcher](https://github.com/gitronald/WebSearcher)\" - A Python package by Ronald E. Robertson<br>\n",
    "- \"[Googling for Abortion](https://journalqd.org/article/view/2752)\" - Yelena Mejova, Tatiana Gracyk, and Ronald E. Robertson<br>\n",
    "- \"[webXray](https://webxray.org/)\" - A website forensics tool by Tim Liebert<br>\n",
    "- \"[OpenWPM](https://github.com/itdelatrisu/OpenWPM)\" - A privacy-measurement tool\n",
    "\n",
    "Please reach out with more examples to add."
   ]
  },
  {
   "cell_type": "markdown",
   "id": "dc94c18a",
   "metadata": {},
   "source": [
    "# Citation\n",
    "\n",
    "To cite this chapter, please use the following BibTex entry:\n",
    "\n",
    "<pre>\n",
    "@incollection{inspect2023browser,\n",
    "  author    = {Sapiezynski, Piotr and Yin, Leon},\n",
    "  title     = {Browser Automation},\n",
    "  booktitle = {Inspect Element: A practitioner's guide to auditing algorithms and hypothesis-driven investigations},\n",
    "  year      = {2023},\n",
    "  editor    = {Yin, Leon and Sapiezynski, Piotr and Raji, Inioluwa Deborah},\n",
    "  note      = {\\url{https://inspectelement.org}}\n",
    "}\n",
    "</pre>\n",
    "\n",
    "## Acknowledgements\n",
    "\n",
    "Thank you to Ruth Talbot and John West for answering questions about their two respective investigations."
   ]
  },
  {
   "cell_type": "code",
   "execution_count": null,
   "id": "6c408bc9",
   "metadata": {},
   "outputs": [],
   "source": []
  }
 ],
 "metadata": {
  "kernelspec": {
   "display_name": "Python 3",
   "language": "python",
   "name": "python3"
  },
  "language_info": {
   "codemirror_mode": {
    "name": "ipython",
    "version": 3
   },
   "file_extension": ".py",
   "mimetype": "text/x-python",
   "name": "python",
   "nbconvert_exporter": "python",
   "pygments_lexer": "ipython3",
   "version": "3.7.3"
  }
 },
 "nbformat": 4,
 "nbformat_minor": 5
}
