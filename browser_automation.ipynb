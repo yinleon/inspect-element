{
 "cells": [
  {
   "cell_type": "raw",
   "id": "e858d4d2",
   "metadata": {},
   "source": [
    "---\n",
    "title: \"Browser Automation\"\n",
    "pagetitle: \"Browser Automation\"\n",
    "description-meta: \"Introduction, case studies, and exercises for automating browsers.\"\n",
    "description-title: \"Introduction, case studies, and exercises for automating browsers.\"\n",
    "author: \"Piotr Sapiezynski and Leon Yin\"\n",
    "author-meta: Piotr Sapiezynski and Leon Yin\"\n",
    "date: \"06-10-2023\"\n",
    "date-modified: \"06-10-2023\"\n",
    "execute: \n",
    "  enabled: false\n",
    "keywords: data collection, web scraping, browser automation, algorithm audits, personalization\n",
    "twitter-card:\n",
    "  title: Browser Automation\n",
    "  description: Introduction, case studies, and exercises for automating browsers.\n",
    "  image: assets/inspect-element-logo.jpg\n",
    "open-graph:\n",
    "  title: Browser Automation\n",
    "  description: Introduction, case studies, and exercises for automating browsers.\n",
    "  locale: us_EN\n",
    "  site-name: Inspect Element\n",
    "  image: assets/inspect-element-logo.jpg\n",
    "href: browser_automation\n",
    "---"
   ]
  },
  {
   "cell_type": "code",
   "execution_count": 2,
   "id": "9ce26ba3",
   "metadata": {},
   "outputs": [
    {
     "data": {
      "text/markdown": [
       "\n",
       "<a type=\"button\" class=\"btn btn-outline-primary btn-sm\" target=\"_blank\" href=\"https://inspectelement.org/browser_automation\">📖 Read online</a>\n",
       "<a type=\"button\" class=\"btn btn-outline-primary btn-sm\" target=\"_blank\" href=\"https://colab.research.google.com/github/yinleon/inspect-element/blob/main/browser_automation.ipynb\">🖥️ Interactive version</a>\n",
       "<a type=\"button\" class=\"btn btn-outline-primary btn-sm\" target=\"_blank\" href=\"https://github.com/yinleon/inspect-element/blob/main/browser_automation.ipynb\">⚙️ GitHub</a>\n",
       "<a type=\"button\" class=\"btn btn-outline-primary btn-sm\" target=\"_self\" href=\"#citation\">🏛 Citation</a>\n",
       "<br>\n"
      ],
      "text/plain": [
       "<IPython.core.display.Markdown object>"
      ]
     },
     "metadata": {},
     "output_type": "display_data"
    }
   ],
   "source": [
    "#| echo: false\n",
    "from utils import build_buttons\n",
    "from importlib import reload\n",
    "import utils\n",
    "reload(utils)\n",
    "utils.build_buttons(link= 'browser_automation', \n",
    "                    github= 'https://github.com/yinleon/inspect-element/blob/main/browser_automation.ipynb',\n",
    "                    citation= True)"
   ]
  },
  {
   "cell_type": "markdown",
   "id": "1a0781d3",
   "metadata": {},
   "source": [
    "Browser automation tools (such as Selenium) can be used to build your own datasets.\n",
    "\n",
    "They are necessary when you want to investigate personalization, rendered elements on the page, or need to wait for scripts and code to execute on a web page.\n",
    "\n",
    "However, they can be resource intensive and slow.\n",
    "\n",
    "👉[Click here to jump to the Selenium tutorial](#tutorial)."
   ]
  },
  {
   "cell_type": "markdown",
   "id": "56ba911f",
   "metadata": {},
   "source": [
    "# Intro\n",
    "\n",
    "If you’ve tried to buy concert tickets to a popular act lately, you’ve probably watched in horror as the blue “available” seats evaporate before your eyes the instant tickets are released. Part of that may be pure star-power, but more than likely, it’s also because bots were programmed to buy tickets to be resold at a premium.\n",
    "\n",
    "These bots are programmed to act like an eager fan: waiting in the queue, selecting a seat, and paying for the show. These tasks can all be executed using browser automation.\n",
    "\n",
    "**Browser automation** is used to programmatically interact with web applications. \n",
    "\n",
    "The most frequent use case for browser automation is to run tests on websites by simulating user behavior (mouse clicks, scrolling, etc). This is routine and invisible work that you wouldn’t remember, unlike, for example, seeing your dream of crowd surfing with your favorite musician disappear thanks to ticket-buying bots.\n",
    "\n",
    "But browser automation has another use, one which _may_ make your dreams come true: web scraping.\n",
    "\n",
    "Browser automation isn’t always the best situation for building a dataset, but it is necessary when you need to:\n",
    "\n",
    "1. **Scrape rendered HTML**: browser automation lets you see what's on a website as a user would.\n",
    "2. **Simulate user behavior**: comes in handy when you want to experiment with personalization.\n",
    "3. **Trigger event execution**: retrieve responses to JavaScript or [network requests]() following an action.\n",
    "\n",
    "These reasons are often interrelated, but we will highlight case studies (below) that demonstrate the importance of each individual reason and why it was a necessary choice for an investigation.\n",
    "\n",
    "Some popular browser automation tools are [Puppeteer](https://pptr.dev/), [Playwright](https://playwright.dev/), and [Selenium](https://www.selenium.dev/documentation/webdriver/elements/). \n",
    "\n",
    "## Headless Browsing\n",
    "\n",
    "Browser automation can be executed in a \"headless\" state by some tools.\n",
    "\n",
    "This doesn't mean that the browser is a ghost or anything like that, it just means that the _user interface_ is not used. Instead, everything happens behind the scenes as if the user interface _was_ used.\n",
    "\n",
    "One benefit of headless browsing is that it is less [resource intensive](/apis.html#case-study-on-scalability-collecting-internet-plans), however there is no visibility into what the browser is doing. This makes any web scraper you build a bit more difficult to debug.\n",
    "\n",
    "Luckily, some browser automation tools (such as Selenium) allow you to toggle headless browsing on and off. Other tools, such as Puppeteer only allow you to use headless browsing.\n",
    "\n",
    "If you’re new to browser automation, we suggest not using headless browsing off the bat. We suggest you try Selenium, which is exactly what we’ll do in the tutorial below."
   ]
  },
  {
   "cell_type": "markdown",
   "id": "f8e912ee",
   "metadata": {},
   "source": [
    "# Case Studies\n",
    "## Case Study 1: Google Search\n",
    "In the investigation “[Google the Giant](https://themarkup.org/google-the-giant/2020/07/28/google-search-results-prioritize-google-products-over-competitors),” The Markup wanted to measure how much a Google Search page is “Google.” Aside from the daunting task of classifying what is \"Google,\" and what is \"not Google,\" the team of two investigative journalists-- Adrianne Jeffries and Leon Yin (a co-author of this section) needed to measure real estate on a web page.\n",
    "\n",
    "The team developed a [targeted staining technique](https://themarkup.org/google-the-giant/2020/07/28/how-we-analyzed-google-search-results-web-assay-parsing-tool) inspired by the life sciences, originally used to highlight the presence of chemicals, compounds, or cancers. \n",
    "\n",
    "<figure>\n",
    "<img src=\"assets/browser0_01_threestep1.png\"\n",
    "    alt=\"https://themarkup.org/google-the-giant/2020/07/28/how-we-analyzed-google-search-results-web-assay-parsing-tool#google-search-flow\" \n",
    "    width=\"600px\"/ >\n",
    "<p>Source: <a href=\"https://themarkup.org/google-the-giant/2020/07/28/how-we-analyzed-google-search-results-web-assay-parsing-tool\">\n",
    "    The Markup\n",
    "</a>\n",
    "</figure>\n",
    "\n",
    "The reporters wrote over [68 web parsers](https://github.com/the-markup/investigation-google-search-audit/blob/master/utils/parsers.py) to identify each element on a web page that was Google, along with three other categories. Once an element was identified, they could find the coordinates of each element along with its corresponding bounding box. Using the categorization and bounding box, we can see how many pixels were allocated to Google properties, as well as where they were placed on a page.\n",
    "\n",
    "<figure>\n",
    "<img src=\"assets/browser0_02_soup1.png\"\n",
    "    alt=\"https://themarkup.org/google-the-giant/2020/07/28/how-we-analyzed-google-search-results-web-assay-parsing-tool#google-search-flow\" \n",
    "    width=\"600px\"/ >\n",
    "<p>Source: <a href=\"https://themarkup.org/google-the-giant/2020/07/28/how-we-analyzed-google-search-results-web-assay-parsing-tool\">\n",
    "    The Markup\n",
    "</a>\n",
    "</figure>\n",
    "\n",
    "This analysis is only possible by **parsing the rendered HTML page** with a fixed window size (in their case an iPhone X). \n",
    "\n",
    "Using browser automation to investigate and audit real estate on a website provides an intuitive metric for self-preferencing and anti-competitive business practices related to [antitrust](https://themarkup.org/google-the-giant/2020/07/29/congressman-says-the-markup-investigation-proves-google-has-created-a-walled-garden). For example, this case study was placed above the others because one of this section's co-authors happened to work on it."
   ]
  },
  {
   "cell_type": "markdown",
   "id": "99f9a121",
   "metadata": {},
   "source": [
    "## Case Study 2: Blacklight\n",
    "\n",
    "When you browser any given website, there's a good chance that your visit is being recorded and sent to a third-party in order to serve you advertisements.\n",
    "\n",
    "Most of these recordings go unnoticed by visitors, and in some cases the website you're on doesn't even know that they are tracking you on behalf of another company.\n",
    "\n",
    "But these surveillance networks can be tracked, too, using [Blacklight](https://themarkup.org/blacklight)-- a tool created by Surya Mattu and a small team at The Markup.\n",
    "\n",
    "Blacklight uses [Puppeteer](https://themarkup.org/blacklight/2020/09/22/how-we-built-a-real-time-privacy-inspector), to visit any given web domain an purposely trigger third-party trackers (by clicking and scrolling to random pages). Third-party trackers leave clues behind in network requests that [trigger as your use the site](https://themarkup.org/pixel-hunt/2022/06/16/facebook-is-receiving-sensitive-medical-information-from-hospital-websites), as well as small clues that are executed when you load the page, such as drawing [cool abstract art](https://themarkup.org/blacklight/2020/09/22/how-we-built-a-real-time-privacy-inspector#canvas-fingerprinting) and noticing minor differences in how shapes are rendered.\n",
    "\n",
    "These clues can technically be picked up manually when you visit a page, but because browser automation tools can **trigger event execution**, reporters were able scan over [80,000 websites](https://themarkup.org/blacklight/2020/09/22/blacklight-tracking-advertisers-digital-privacy-sensitive-websites) to reveal the prevalence of third-party trackers.\n",
    "\n",
    "Browser automation can help you trawl for clues, especially when it comes to looking for specific network requests sent to a central player by many different websites. This is the same reason that reporters at [ProPublica](https://www.propublica.org/article/google-display-ads-piracy-porn-fraud) used the browser automation tool Playwright to de-anonymize over 900,000 [Google ad buyers](https://www.propublica.org/article/google-ads-misinformation-methodology) across millions of web domains."
   ]
  },
  {
   "cell_type": "markdown",
   "id": "7f135395",
   "metadata": {},
   "source": [
    "## Case Study 3: TikTok Personalization\n",
    "An investigation conducted by the Wall Street Journal, \"[Inside TikTok's Algorithm](https://www.wsj.com/articles/tiktok-algorithm-video-investigation-11626877477)\" found that even when a user does not like, share, or follow any creators, TikTok still personalizes their \"For You\" page based on how long they watch the recommended videos.\n",
    "\n",
    "In particular, the WSJ investigation found that users who watch content related to depression and skip other content are soon presented with mental health content and little else. Importantly, this effect happened even when the users did not explicitly like or share any videos, nor did they follow any creators. \n",
    "\n",
    "You can watch the WSJ's video showing how they mimic user behavior to study the effects of personalization:"
   ]
  },
  {
   "cell_type": "markdown",
   "id": "1b5b9ffd",
   "metadata": {
    "tags": []
   },
   "source": [
    "<figure>\n",
    "<iframe width=\"560\" height=\"315\" src=\"https://www.youtube.com/embed/nfczi2cI6Cs\"></iframe>\n",
    "<figcaption align = \"left\" style=\"font-size:80%;\"> Source: \"How Tiktok's Algorithm Figures You Out | WSJ\" on YouTube</figcaption>\n",
    "</figure>"
   ]
  },
  {
   "cell_type": "markdown",
   "id": "360c712e",
   "metadata": {},
   "source": [
    "# Tutorial\n",
    "In the hands-on tutorial we will attempt to study personalization on TikTok with a mock experiment. \n",
    "\n",
    "We’re going to teach you the basics of browser automation in Selenium, but the techniques we'll discuss could be used to study any other website using any other automation tool.\n",
    "\n",
    "We will try to replicate elements of the WSJ investigation and see if we can trigger a personalized \"For You\" page. Although the WSJ ran their investigation using an Android on a Raspberry Pi, we will try our luck with something you can run locally on a personal computer using browser automation.\n",
    "\n",
    "In this tutorial we'll use Selenium to watch TikTok videos where the description mentions keywords of our choosing, while skipping all others. In doing so, you will learn practical skills such as:\n",
    "\n",
    "* Setting up the automated browser in Python\n",
    "* Hiding signs that are easy tells of an automated browser\n",
    "* Finding particular elements on the screen, extracting their content, and interacting with them\n",
    "* Scrolling\n",
    "* Taking screenshots\n",
    "\n",
    "Importantly, we’ll be watching videos with lighter topics than depression (the example chosen in the WSJ investigation.).\n",
    "\n",
    "::: {.callout-tip}\n",
    "#### Pro tip: Minimizing harms\n",
    "When developing an audit or investigation, start with low-stakes themes: both to minimize your exposure to harmful content and to avoid boosting their popularity, unnecessarily.\n",
    ":::"
   ]
  },
  {
   "cell_type": "markdown",
   "id": "d6cd28a4",
   "metadata": {},
   "source": [
    "## Step 1: Setting up the browser\n",
    "Our setup will consist of a real browser and an interface that will allow us to control that browser using Python. We chose Google Chrome - not because it's our favorite but because using the most popular browser will help us blend in with real users.\n",
    "\n",
    "### 1.1 Installing Google Chrome\n",
    "Please download the most recent version [here](https://www.google.com/chrome/).\n",
    "\n",
    "If you already have Google Chrome installed, make sure it's a latest version by opening Chrome and pasting this address in the address bar: [chrome://settings/help](chrome://settings/help). Now verify that there are no pending updates.\n",
    "\n",
    "![](assets/browser1_01_version1.png \"Google Chrome window showing the current version\")\n",
    "\n",
    "### 1.2 Installing the webdriver\n",
    "The `webdriver` is our interface between Python and the browser. It is specific to the browser (there are different webdrivers for Firefox [called Gecko], Safari, etc) and even to the particular version of the browser. It's easier to ensure we are working with the correct version by installing a webdriver that automatically detects the current version of Chrome. \n",
    "\n",
    "Run the code in the cell below to download the Python package [`chromedriver-binary-auto`](https://pypi.org/project/chromedriver-binary-auto/). Adding an exclamation mark before code in Jupyter notebook allows you to run commands as if you were in your computer terminal's [command line](https://www.computerhope.com/jargon/c/commandi.htm)"
   ]
  },
  {
   "cell_type": "code",
   "execution_count": 3,
   "id": "2efcb13c",
   "metadata": {},
   "outputs": [
    {
     "name": "stdout",
     "output_type": "stream",
     "text": [
      "Collecting chromedriver-binary-auto\n",
      "  Downloading chromedriver-binary-auto-0.2.6.tar.gz (5.2 kB)\n",
      "  Preparing metadata (setup.py) ... \u001b[?25ldone\n",
      "\u001b[?25hBuilding wheels for collected packages: chromedriver-binary-auto\n",
      "  Building wheel for chromedriver-binary-auto (setup.py) ... \u001b[?25ldone\n",
      "\u001b[?25h  Created wheel for chromedriver-binary-auto: filename=chromedriver_binary_auto-0.2.6-py3-none-any.whl size=8652851 sha256=1ccd18edd04cf5e1c63e0305676dc1c9c0c0532c8dc09842f6cf963a910e4f04\n",
      "  Stored in directory: /Users/leon/Library/Caches/pip/wheels/2a/4e/a6/e342ab457a4cd1642a94bbc8f132e56e90a7a320d08d6bfeb2\n",
      "Successfully built chromedriver-binary-auto\n",
      "Installing collected packages: chromedriver-binary-auto\n",
      "Successfully installed chromedriver-binary-auto-0.2.6\n"
     ]
    }
   ],
   "source": [
    "!pip install chromedriver-binary-auto"
   ]
  },
  {
   "cell_type": "markdown",
   "id": "469d1b9d",
   "metadata": {},
   "source": [
    "Let's see if the installation worked correctly! Run the cell below to import the correct webdriver and open a new Chrome window.\n"
   ]
  },
  {
   "cell_type": "code",
   "execution_count": 4,
   "id": "940c54fc",
   "metadata": {},
   "outputs": [],
   "source": [
    "from selenium import webdriver\n",
    "import chromedriver_binary # adds the chromedriver binary to the path\n",
    "\n",
    "driver = webdriver.Chrome()"
   ]
  },
  {
   "cell_type": "markdown",
   "id": "4b4aec9a",
   "metadata": {},
   "source": [
    "The `chrome-driver-auto` package should have installed a driver that's suitable for your current Chrome version running the line of code above should have opened a new Chrome window.\n",
    "\n",
    "This step is notoriously hard, and you might get a version mismatch error:\n",
    "\n",
    "```\n",
    "SessionNotCreatedException: Message: session not created: This version of ChromeDriver only supports Chrome version 112\n",
    "Current browser version is 113 with binary path /Applications/Google Chrome.app/Contents/MacOS/Google Chrome\n",
    "```\n",
    "It means that you probably updated your Chrome in the meantime. To fix it, reinstall the Python package:"
   ]
  },
  {
   "cell_type": "code",
   "execution_count": 4,
   "id": "7a405389",
   "metadata": {},
   "outputs": [
    {
     "name": "stdout",
     "output_type": "stream",
     "text": [
      "Collecting chromedriver-binary-auto\n",
      "  Using cached chromedriver_binary_auto-0.2.6-py3-none-any.whl\n",
      "Installing collected packages: chromedriver-binary-auto\n",
      "  Attempting uninstall: chromedriver-binary-auto\n",
      "    Found existing installation: chromedriver-binary-auto 0.2.6\n",
      "    Uninstalling chromedriver-binary-auto-0.2.6:\n",
      "      Successfully uninstalled chromedriver-binary-auto-0.2.6\n",
      "Successfully installed chromedriver-binary-auto-0.2.6\n"
     ]
    }
   ],
   "source": [
    "!pip install --upgrade --force-reinstall chromedriver-binary-auto"
   ]
  },
  {
   "cell_type": "markdown",
   "id": "01a90428",
   "metadata": {},
   "source": [
    "If everything works fine and you have the window open, our setup is complete and you can now close the Chrome window:"
   ]
  },
  {
   "cell_type": "code",
   "execution_count": 10,
   "id": "2fa70416",
   "metadata": {},
   "outputs": [],
   "source": [
    "driver.close()"
   ]
  },
  {
   "cell_type": "markdown",
   "id": "e45f7ead",
   "metadata": {},
   "source": [
    "## Step 2: Hiding typical tells of an automated browser\n",
    "When you open Chrome with Selenium you'll notice that the window displays a warning about being an \"automated session\". \n",
    "Even though the warning is only displayed to you, the webdriver leaves behind other red flags that inform website administrators that you are using browser automation.\n",
    "\n",
    "The website admins will use these red flags to refuse service to your browser.\n",
    "\n",
    "Let's remove those."
   ]
  },
  {
   "cell_type": "code",
   "execution_count": 11,
   "id": "0fcc4bc1",
   "metadata": {},
   "outputs": [],
   "source": [
    "options = webdriver.ChromeOptions()\n",
    "options.add_argument(\"start-maximized\")\n",
    "\n",
    "# remove all signs of this being an automated browser\n",
    "options.add_argument('--disable-blink-features=AutomationControlled')\n",
    "options.add_experimental_option(\"excludeSwitches\", [\"enable-automation\"])\n",
    "options.add_experimental_option('useAutomationExtension', False)\n",
    "\n",
    "# open the browser with the new options\n",
    "driver = webdriver.Chrome(options=options)\n",
    "driver.get('https://tiktok.com/foryou')"
   ]
  },
  {
   "cell_type": "markdown",
   "id": "bfd0edae",
   "metadata": {},
   "source": [
    "This should open a new window without those warnings and navigate to tiktok.com:\n",
    "\n",
    "![](assets/browser1_02_tiktok1.png \"tiktok main page\")\n",
    "\n",
    "\n"
   ]
  },
  {
   "cell_type": "markdown",
   "id": "66c8ecba",
   "metadata": {},
   "source": [
    "## Step 3: Finding elements on page and interacting with them\n",
    "\n",
    "We will perform our mock experiment without logging in (but we will also learn how to create multiple accounts and how to log in later).\n",
    "\n",
    "Instead of logging in, our first interaction will be dismissing this login window. Doing this programmatically has two steps:\n",
    "\n",
    "1. We need to identify that \\[X\\] button in the page source \n",
    "2. And then click it\n",
    "\n",
    "Let's inspect the button element:\n",
    "![](assets/browser1_03_dismiss1.png \"Inspecting the Dismiss button\")\n",
    "\n",
    "In my case, the particular element that the Developer Tools navigated to is just the graphic on the button, not the button itself, but you can still find the actual button by hovering your mouse over different elements in the source and seeing what elements on page are highlighted:\n",
    "\n",
    "![](assets/browser1_04_inspect1.png \"Inspecting the Dismiss button\")\n",
    "\n",
    "Our close button is a `<div>` element, whose `data-e2e` attribute is `\"modal-close-inner-button\"`. \n",
    "\n",
    "There are many ways to fish for the exact element you want, and [many of those methods](https://www.selenium.dev/documentation/webdriver/elements/locators/) are built into Selenium. One way to find it would be using a `CSS_SELECTOR`, like so:"
   ]
  },
  {
   "cell_type": "code",
   "execution_count": 12,
   "id": "6dfb11b3",
   "metadata": {},
   "outputs": [
    {
     "data": {
      "text/plain": [
       "<selenium.webdriver.remote.webelement.WebElement (session=\"7c1af2c043edfd5d79bf8c1f8ec75d8a\", element=\"8CBD9EA74C23921D5516A273B6550E42_element_44\")>"
      ]
     },
     "execution_count": 12,
     "metadata": {},
     "output_type": "execute_result"
    }
   ],
   "source": [
    "from selenium.webdriver.common.by import By\n",
    "\n",
    "close_button = driver.find_element(By.CSS_SELECTOR, '[data-e2e=\"modal-close-inner-button\"]')\n",
    "close_button"
   ]
  },
  {
   "cell_type": "markdown",
   "id": "72444573",
   "metadata": {},
   "source": [
    "When Selenium successfully finds an element, you’ll get a `WebElement` object of the first match.\n",
    "\n",
    "We seem to have found something, let's click it! `WebElement`s come equipped with special functions you can use to [interact](https://www.selenium.dev/documentation/webdriver/elements/interactions/) with them:"
   ]
  },
  {
   "cell_type": "code",
   "execution_count": 13,
   "id": "51f4b21e",
   "metadata": {},
   "outputs": [],
   "source": [
    "close_button.click()"
   ]
  },
  {
   "cell_type": "markdown",
   "id": "9ae1a9c7",
   "metadata": {},
   "source": [
    "Did you notice a change on the page? Congratulations! You just automated the browser to click something."
   ]
  },
  {
   "cell_type": "markdown",
   "id": "d85a1031",
   "metadata": {},
   "source": [
    "## Step 4: Scrolling\n",
    "\n",
    "We now have a browser instance open and displaying the For You page. Let's scroll through the videos.\n",
    "\n",
    "If you are a *real person* who (for whatever reason) visits TikTok on their computer, you could press the down key the keyboard to see new videos. We will do that programmatically instead:"
   ]
  },
  {
   "cell_type": "code",
   "execution_count": 14,
   "id": "db9a425f",
   "metadata": {},
   "outputs": [],
   "source": [
    "from selenium.webdriver.common.action_chains import ActionChains\n",
    "from selenium.webdriver.common.keys import Keys\n",
    "\n",
    "actions = ActionChains(driver)\n",
    "actions.send_keys(Keys.ARROW_DOWN)\n",
    "actions.perform()"
   ]
  },
  {
   "cell_type": "markdown",
   "id": "5d45ed98",
   "metadata": {},
   "source": [
    "When you run the cell above you will see that your browser scrolls down to the next video. You just automated scrolling!"
   ]
  },
  {
   "cell_type": "markdown",
   "id": "21b41290",
   "metadata": {},
   "source": [
    "## Step 5: Finding TikTok videos on the page\n",
    "\n",
    "Now that the site loaded and you can browse it, let's find all the TikTok videos that are displayed and extract the information (called metadata) from each of them.\n",
    "\n",
    "1. Right click on the white space around a TikTok video and choose \"Inspect\".\n",
    "![Inspect Element](assets/browser1_05_inspect_tiktok_a1.png)\n",
    "1. Hover your mouse over the surrounding `<div>` elements and observe the highlighted elements on the page to see which ones correspond to each TikTok video.\n",
    "![Inspect Element](assets/browser1_05_inspect_tiktok_b1.png)\n",
    "1. You will see that each video is in a separate `<div>` container but each of these containers has the same `data-e2e` attribute with the value of `recommend-list-item-container`.\n",
    "1. Similarly to how we found the close button, we can now use this to find all videos on page:"
   ]
  },
  {
   "cell_type": "code",
   "execution_count": 20,
   "id": "05bf3a3d",
   "metadata": {},
   "outputs": [],
   "source": [
    "videos = driver.find_elements(By.CSS_SELECTOR, '[data-e2e=\"recommend-list-item-container\"]')"
   ]
  },
  {
   "cell_type": "markdown",
   "id": "c8865012",
   "metadata": {},
   "source": [
    "When we searched for the \"dismiss\" button we used the `driver.find_element()` function because we were only interested in the first element that matched our CSS selector.\n",
    "\n",
    "Now we're trying to find all videos on page, so we use the `driver.find_elements()` function instead - it returns the complete list of elements that match the selector."
   ]
  },
  {
   "cell_type": "code",
   "execution_count": 16,
   "id": "c7fd9b9a",
   "metadata": {},
   "outputs": [
    {
     "data": {
      "text/plain": [
       "[<selenium.webdriver.remote.webelement.WebElement (session=\"7c1af2c043edfd5d79bf8c1f8ec75d8a\", element=\"8CBD9EA74C23921D5516A273B6550E42_element_75\")>,\n",
       " <selenium.webdriver.remote.webelement.WebElement (session=\"7c1af2c043edfd5d79bf8c1f8ec75d8a\", element=\"8CBD9EA74C23921D5516A273B6550E42_element_83\")>,\n",
       " <selenium.webdriver.remote.webelement.WebElement (session=\"7c1af2c043edfd5d79bf8c1f8ec75d8a\", element=\"8CBD9EA74C23921D5516A273B6550E42_element_229\")>,\n",
       " <selenium.webdriver.remote.webelement.WebElement (session=\"7c1af2c043edfd5d79bf8c1f8ec75d8a\", element=\"8CBD9EA74C23921D5516A273B6550E42_element_233\")>,\n",
       " <selenium.webdriver.remote.webelement.WebElement (session=\"7c1af2c043edfd5d79bf8c1f8ec75d8a\", element=\"8CBD9EA74C23921D5516A273B6550E42_element_237\")>,\n",
       " <selenium.webdriver.remote.webelement.WebElement (session=\"7c1af2c043edfd5d79bf8c1f8ec75d8a\", element=\"8CBD9EA74C23921D5516A273B6550E42_element_241\")>]"
      ]
     },
     "execution_count": 16,
     "metadata": {},
     "output_type": "execute_result"
    }
   ],
   "source": [
    "videos"
   ]
  },
  {
   "cell_type": "markdown",
   "id": "3a7383f2",
   "metadata": {},
   "source": [
    "## Step 6: Parsing TikTok metadata\n",
    "Now that we found all the TikTok videos on the page, let's extract the description from each - this is how we will decide whether to watch the video, or to skip it. The process of extracting a specific field from a webpage is \"parsing\".\n",
    "\n",
    "1. Pick any description, right click, \"Inspect\". \n",
    "1. Let's locate the `<div>` that contains the whole description (including any hashtags) and make note of its `data-e2s` attribute.\n",
    "1. Now let's write the code that, extracts the description from a single video (note that you can get the text content of any element by calling `element.text`)"
   ]
  },
  {
   "cell_type": "code",
   "execution_count": 17,
   "id": "de0ff538",
   "metadata": {},
   "outputs": [
    {
     "name": "stdout",
     "output_type": "stream",
     "text": [
      "Ya casi ya casi el house tour 🫶🏽 IG:Brayam509🫶🏽 #recetasconmimami #brayamelgordito #teamgorditosb #BYKTIENE\n",
      "it's not always a matter of strength 💪🏿 #learnfromkhaby #comic #gym\n",
      "What watching this music video made me do 👄 | #vampirelips #lipstickhacks #ombrelips #ombrelipstutorial #ombrelip #liplinerhack #lipstickmixing #gothmakeup #emomakeup\n",
      "قعت خلف @nakhnnoukh مين ينزل معايه ستريم سنايب 😍اكسبلور يارب تنجح😘#pubgmobile #foryou #نجم_الستريم_سنايب\n",
      "Are these updates good or mid?🤔\n",
      "lawriii🗿\n"
     ]
    }
   ],
   "source": [
    "for video in videos:\n",
    "    print(video.find_element(By.CSS_SELECTOR, '[data-e2e=\"video-desc\"]').text)"
   ]
  },
  {
   "cell_type": "markdown",
   "id": "d0918773",
   "metadata": {},
   "source": [
    "::: {.callout-tip}\n",
    "#### Pro tip:\n",
    "We previously searched for elements using `driver.find_element()` and `driver.find_elements()`. That allowed us to search the whole page. Notice that here, instead of `driver`, we're using a particular element which we called `video`: this way we can search for elements **within an element**, rather than on the whole page.\n",
    ":::"
   ]
  },
  {
   "cell_type": "markdown",
   "id": "0c942e02",
   "metadata": {},
   "source": [
    "## Step 7: Finding the TikTok video that's currently playing\n",
    "We know how to scroll to the next video, and we know how to find all videos that are loaded.\n",
    "At this point we could either:<br>\n",
    "1. Assume that at the beginning, the 0th video is playing, and then every time we press arrow down, the next video is being displayed<br>\n",
    "2. Assume that the arrow down does not always work and each time verify which video is actually playing\n",
    "\n",
    "The problem with the first approach is that even if scrolling fails even just once, our experiment will be compromised - after it happens we will be watching and skipping different videos that our math tells us. This is why we will go with the second approach and verify which video is actually playing. Back to our favorite tool- inspect element!\n",
    "\n",
    "When you right click on the playing video, you will see that instead of our familiar UI we get a custom TikTok menu, so that won't work. Try right-clicking on the description of the video instead, then hovering over different elements in the inspector and expanding the one that highlights the video in the browser. Dig deep until you get to the `div` that only contains the video. \n",
    "\n",
    "Still in the inspector try looking at the video below. You will see that the `div` that contains the video is missing and there is no element with the tag name `video`. That's how we can find if the video is currently playing - its `div` will contain the `video` element that we can find by `TAG_NAME`:"
   ]
  },
  {
   "cell_type": "code",
   "execution_count": 21,
   "id": "c2e9be22",
   "metadata": {},
   "outputs": [
    {
     "name": "stdout",
     "output_type": "stream",
     "text": [
      "not playing Ya casi ya casi el house tour 🫶🏽 IG:Brayam509🫶🏽 #recetasconmimami #brayamelgordito #teamgorditosb #BYKTIENE\n",
      "not playing it's not always a matter of strength 💪🏿 #learnfromkhaby #comic #gym\n",
      "not playing What watching this music video made me do 👄 | #vampirelips #lipstickhacks #ombrelips #ombrelipstutorial #ombrelip #liplinerhack #lipstickmixing #gothmakeup #emomakeup\n",
      "playing قعت خلف @nakhnnoukh مين ينزل معايه ستريم سنايب 😍اكسبلور يارب تنجح😘#pubgmobile #foryou #نجم_الستريم_سنايب\n",
      "not playing Are these updates good or mid?🤔\n",
      "not playing lawriii🗿\n"
     ]
    }
   ],
   "source": [
    "for video in videos:\n",
    "    description = video.find_element(By.CSS_SELECTOR, '[data-e2e=\"video-desc\"]').text\n",
    "    if video.find_elements(By.TAG_NAME, 'video'):\n",
    "        playing = 'playing'\n",
    "    else:\n",
    "        playing = 'not playing'\n",
    "    print(playing, description)"
   ]
  },
  {
   "cell_type": "markdown",
   "id": "2f474ea8",
   "metadata": {},
   "source": [
    "## Step 8: Taking screenshots\n",
    "The presentation of your results might be more compelling, when its accompanied by screenshots, rather than just data. Selenium allows you to take screenshots of the whole screen, or just a particular element (though the latter is a bit cumbersome):"
   ]
  },
  {
   "cell_type": "code",
   "execution_count": 22,
   "id": "26b604df",
   "metadata": {},
   "outputs": [],
   "source": [
    "# take a screenshot of the whole browser\n",
    "driver.save_screenshot('full_screenshot.png')\n",
    "\n",
    "# take a screenshot of just one video\n",
    "screenshot = video.screenshot_as_png\n",
    "with open('element_screenshot.png', 'wb') as output:\n",
    "    output.write(screenshot)"
   ]
  },
  {
   "cell_type": "markdown",
   "id": "34ce2285",
   "metadata": {},
   "source": [
    "In the spirit of _bringing receipts_, you can also save the entire webpage to parse it later."
   ]
  },
  {
   "cell_type": "code",
   "execution_count": 25,
   "id": "bc3e2da5",
   "metadata": {},
   "outputs": [],
   "source": [
    "# save the source of the entire page\n",
    "page_html = driver.page_source\n",
    "with open('webpage.html', 'w') as output:\n",
    "    output.write(page_html)"
   ]
  },
  {
   "cell_type": "markdown",
   "id": "3fee8843",
   "metadata": {},
   "source": [
    "::: {.callout-tip}\n",
    "#### Pro tip: Keep these records to sanity check your results\n",
    "Taking a screenshot and saving the page source is a useful practice for checking your work. Use the two to cross-reference what was visible in the browser and whatever data you end up extracting during the parsing step.\n",
    ":::\n",
    "\n",
    "Let's close the browser for now, and kick this workflow up a notch."
   ]
  },
  {
   "cell_type": "code",
   "execution_count": 26,
   "id": "466dc487",
   "metadata": {},
   "outputs": [],
   "source": [
    "driver.close()"
   ]
  },
  {
   "cell_type": "markdown",
   "id": "e7d9d243",
   "metadata": {},
   "source": [
    "## Step 9: Putting it all together\n",
    "At this point, we can read the description of TikTok videos and navigate the \"For You\" page. \n",
    "\n",
    "That's most of the setup we need to try our mock experiment:<br>\n",
    "let's watch all TikTok videos that mention food in the description and skip videos that do not mention food.\n",
    "\n",
    "After one hundred videos, we will see whether we are served videos from FoodTok more frequently than other topics.\n",
    "\n",
    "::: {.callout-tip}\n",
    "#### Pro tip: Use functions!\n",
    "So far we wrote code to open the browser, close the dialog, and find videos as separate cells in the notebook. We _could_ copy that code over here to use it, but it will be much easier to understand and maintain the code if we write clean, well-documented functions with descriptive names.\n",
    ":::"
   ]
  },
  {
   "cell_type": "code",
   "execution_count": 20,
   "id": "fb6da1d1",
   "metadata": {},
   "outputs": [],
   "source": [
    "from selenium import webdriver\n",
    "from selenium.webdriver.common.by import By\n",
    "from selenium.webdriver.common.action_chains import ActionChains\n",
    "from selenium.webdriver.common.keys import Keys\n",
    "from selenium.webdriver.support.ui import WebDriverWait\n",
    "from selenium.webdriver.support import expected_conditions as EC\n",
    "\n",
    "import chromedriver_binary\n",
    "\n",
    "\n",
    "\n",
    "def open_browser():\n",
    "    \"\"\"\n",
    "    Opens a new automated browser window with all tell-tales of automated browser disabled\n",
    "    \"\"\"\n",
    "    options = webdriver.ChromeOptions()\n",
    "    options.add_argument(\"start-maximized\")\n",
    "\n",
    "    # remove all signs of this being an automated browser\n",
    "    options.add_argument('--disable-blink-features=AutomationControlled')\n",
    "    options.add_experimental_option(\"excludeSwitches\", [\"enable-automation\"])\n",
    "    options.add_experimental_option('useAutomationExtension', False)\n",
    "\n",
    "    # open the browser with the new options\n",
    "    driver = webdriver.Chrome(options=options)\n",
    "    return driver\n",
    "\n",
    "def close_login_dialog(driver):\n",
    "    \"\"\"\n",
    "    Waits for the login dialog to appear, then closes it\n",
    "    \"\"\"\n",
    "    \n",
    "    # rather than trying to click a button that might have not loaded yet, we will \n",
    "    # wait for it to actually appear first\n",
    "    wait = WebDriverWait(driver, 20)\n",
    "    wait.until(EC.visibility_of_element_located((By.CSS_SELECTOR, '[data-e2e=\"modal-close-inner-button\"]')))\n",
    "   \n",
    "    close_button = driver.find_element(By.CSS_SELECTOR, '[data-e2e=\"modal-close-inner-button\"]')\n",
    "    if close_button:\n",
    "        close_button.click()\n",
    "\n",
    "def arrow_down(driver):\n",
    "    \"\"\"\n",
    "    Sends the ARROW_DOWN key to a webdriver instance.\n",
    "    \"\"\"\n",
    "    actions = ActionChains(driver)\n",
    "    actions.send_keys(Keys.ARROW_DOWN)\n",
    "    actions.perform()\n",
    "    \n",
    "def find_videos(driver):\n",
    "    \"\"\"\n",
    "    Finds all tiktoks loaded in the browser\n",
    "    \"\"\"\n",
    "    videos = driver.find_elements(By.CSS_SELECTOR, '[data-e2e=\"recommend-list-item-container\"]')\n",
    "    return videos\n",
    "\n",
    "def get_description(video):\n",
    "    \"\"\"\n",
    "    Extracts the video description along with any hashtags\n",
    "    \"\"\"\n",
    "    try:\n",
    "        description = video.find_element(By.CSS_SELECTOR, '[data-e2e=\"video-desc\"]').text\n",
    "    except:\n",
    "        # if the description is missing, just get any text from the video\n",
    "        description = video.text\n",
    "    return description\n",
    "\n",
    "def get_current(videos):\n",
    "    \"\"\"\n",
    "    Given the list of videos it returns the one that's currently playing\n",
    "    \"\"\"\n",
    "    for video in videos:\n",
    "        if video.find_elements(By.TAG_NAME, 'video'):\n",
    "            # this one has the video, we can return it and that ends the function.\n",
    "            return video\n",
    "    \n",
    "    return None\n",
    "\n",
    "def is_target_video(description, keywords):\n",
    "    \"\"\"\n",
    "    Looks for keywords in the given description. \n",
    "    NOTE: only looks for the substring IE partial match is enough.\n",
    "    Returns `True` if there are any or `False` when there are none.\n",
    "    \"\"\"\n",
    "    # check in any of the keywords is in the description\n",
    "    for keyword in keywords:\n",
    "        if keyword in description:\n",
    "            # we have a video of interest, let's watch it \n",
    "            return True\n",
    "    \n",
    "    # if we're still here it means no keywords were found\n",
    "    return False\n",
    "\n",
    "def screenshot(video, filename=\"screenshot.png\"):\n",
    "    \"\"\"\n",
    "    Saves a screenshot of a given video to a specified file\n",
    "    \"\"\"\n",
    "    screenshot = video.screenshot_as_png\n",
    "    with open(filename, 'wb') as output:\n",
    "        output.write(screenshot)\n",
    "    "
   ]
  },
  {
   "cell_type": "markdown",
   "id": "ade58b92",
   "metadata": {},
   "source": [
    "Ok, with that out of the way, let's set up our first data collection!\n",
    "\n",
    "First, let's make a directory to save all of our screenshots. We will save screenshots here whenever we find a video related to food."
   ]
  },
  {
   "cell_type": "code",
   "execution_count": 5,
   "id": "6ffc04d2",
   "metadata": {},
   "outputs": [],
   "source": [
    "import os\n",
    "\n",
    "os.makedirs('data/screenshots/', exist_ok=True)"
   ]
  },
  {
   "cell_type": "code",
   "execution_count": 34,
   "id": "29849edd",
   "metadata": {},
   "outputs": [
    {
     "name": "stdout",
     "output_type": "stream",
     "text": [
      "0 False This Stream is going to be Wild 😅 #fortnite #tiktoklive #gaming\n",
      "1 False #cartoon #animation #tomandjerry\n",
      "2 True #fyp #couple#funny#food#Life#daily\n",
      "3 False Coxinha de frango #receitasfáceis #receitarápida #fazendocomida\n",
      "4 False Police in Omaha, Nebraska are investigating a possible hate crime after an LGBTQ+ flag was torn down and another burned from a homeowner's porch on two separate dates. #news\n",
      "5 False FailArmy's best worst Genius Of The Week 🚗🍩🚔#FailArmy #drivingfail #instantkarma\n",
      "6 False EPAL\n",
      "7 False La dro*gue du zombie aux États-Unis, une véritable épidémie qui touche. La plupart des grandes villes américaines 😱 #zombie\n",
      "8 False \n",
      "9 False it's not always a matter of strength 💪🏿 #learnfromkhaby #comic #gym\n",
      "10 False #duet with\n",
      "@Bryce Hall idk why the timing is off but please stop yelling at me go @dixie\n",
      "11 False لولا ظروفى كان زمانى الاول على اوربا 🤬 #pubgmobile #pubg #dragongaming #مصر\n",
      "12 False Membalas @dheaanan0 #bocoumahmad #bloommedia\n",
      "13 False You have to give me a discount #retail #cashier #pov #retailtiktok #karen #creditcard #retailking #customerservice #fypシ\n",
      "14 False Para a primeira tentativa acho que o bolo saiu muito ok né? Queria ter a alto estima do Gabriel HAHAHAHA #fypシ #bolopixel #confeitaria\n",
      "15 False Episode 1 | How a pet dog transformed into a wolf king?#fypシ #foryou #movie\n",
      "16 False Replying to @Dylan\n",
      "17 False In our Lover era for Foxborough #taylorswift #tstheerastour #erastourlive #eraslivestream\n",
      "18 False Control my stream! #streamer #tiktoklive #streaming\n",
      "19 False ahhh\n",
      "20 True Şiş Çubukta Izgara Kanat 🐔🏕\n",
      "#chicken #tavuk #outdoorcooking #outdoors #food #cooking #nature #wild #survival #adventures #asmr #yemektarifleri #doğadayaşam #hungry #foodvideo #relax #forest #woods #wilderness\n",
      "21 False \n",
      "22 False #CapCut #funny #funnyanimals #dog #dogsoftiktok #interesting #fail\n",
      "23 False @mdjulhassordar707 কে উত্তর দেওয়া হচ্ছে #fyp #duet #viralvideo #sabnur #sad #shabnoor #যশোরের #মিয়ে #নুপুর #tektokbangladesh🇧🇩 #foryou #foryoupage #💜💜💜💜💜💜💜💜\n",
      "24 False لما تجيب ل امك قطة في البيت😂مين عمل كدا😂#الا_علاء_الا #صلاح_فرج\n",
      "25 False insta: sia_jiwoo 🤍\n",
      "26 False Ta maluco? 😂\n",
      "27 False Resigster for TikTok Survivor: Season 4 below/in bio 🦁 May the best competitior win!\n",
      "\n",
      "#tiktoksurvivor #survivor #bigbrother #alliance #competition #toxic #liveevent #thelogandubil #fyp #foryou #lion\n",
      "28 False ELA SÓ QUERIA UM KINDER OVO !!!#viral #amor #carinho #fofo\n",
      "29 False sabadou com casa limpa! ❤️ cumpram a obrigação de friend de vocês e copiem o link pro TikTok entregar essa pessoa maravilhosa que sou! Amo vocês ❤️😌 #limpeza #faxina #recemcasados #satisfatorios #videodelimpeza\n",
      "30 False Ela foi atacada pelo polvo?? 😨🤔 #animaisnotiktok #bichos #biologia #ciência #curiosidades\n",
      "31 False \n",
      "32 False Replying to @Rod\n",
      "33 False I’ll just do cash…\n",
      "34 False #kingdankz #fyp #xyzbca #funny #humour #relateable\n",
      "35 False lula fala do bolsa família\n",
      "#noticiastiktok #noticias #noticiasurgente #bolsafamilia #auxiliobrasil #bolsafamilia2023 #noticiasem1minuto\n",
      "36 False 🧘‍♂️🏆\n",
      "\n",
      "#ManCity #Haaland #ErlingHaaland #PremierLeague\n",
      "37 False #movie #film #fyp\n",
      "38 False #sdgmemo #xyzbca\n",
      "💯🤲🏻\n",
      "39 False On Etsy in a few days! 🤩 #crochetbeanie #crochet #handmade #fyp #foryou #crochetinspiration #crochetsoftiktok #smallbusiness #beanie #hat #crochetaddiction #crochettiktok\n",
      "40 False Let’s see who will get it right 🤔 #fortnite #tiktoklive #gaming\n",
      "41 False Clones da informação - Pegadinha #humor #engraçado #pegadinha #risada #pranks #pegadinhas #rir #prank #funny #videosengracados\n",
      "42 True Funny couple eating show 😂#husbandandwifeeating #eating #funnyeating #eatingasmr #funny #eatingshow #food #cooking #asmr #cooking #food #fyp #fypシ\n",
      "43 False \n",
      "44 False siuuuuuuuuu! #foryou #fyp #football\n",
      "45 False JOIN THE LIVE 🔜 #fypシ #viral #gta #fivem #driftempire\n",
      "46 False Nhiều mẫu tất hình thú cute phomai que cập bến rùi đây ạ 🥰 #tathinhthu #tất #embedangyeu #fyp #hanhdecal #mebim\n",
      "47 False Parte-1 Garçonete humilhou este cliente sem imaginar a surpresa que ela teria…@@dudaqlimaa @@per.pedro.niero @@Mi @@Bya\n",
      "48 False Replying to @ilovefootball\n",
      "49 False حسيته قاعد مهموم قلت اعمله رسمة وموقف يفرحة ❤️#علي_الراوي\n",
      "50 False Compra tu 👕 de fútbol (Link en mi perfil)\n",
      "51 False Jali maisha yako#viral #tiktoktanzania🇹🇿🇹🇿🇹🇿 #tiktokkenya #fifisugarr #fyp\n",
      "52 False BomBril na água fervendo é melhor que qualquer coisa! #utilidadepublica #facavocemesmo #fypage #dicas_utilidades\n",
      "53 False \n",
      "54 False #pimples #fyp #satisfying\n",
      "55 False #duet with\n",
      "@sosatisfying #run #fyp #live #livenow\n",
      "56 False Pronta per voi🤩🤩🤩🤩\n",
      "57 False HELLO THERE,NEW ARRIVAL, GALAXY A54 IS OUT🥰🥰#SAMSAMSUNG #0724817827✅activity #goodexperience #tiktokkenya🇰🇪 #trending #viral\n",
      "58 False #tiktok\n",
      "59 False These lyrics are so deep 🥺❤️ #halseywithoutme #halseysleep #songlyrics\n",
      "60 False The way those strings are bending 😳😝! Catch us live every Mon and Wed at 8:30pm PDT! #ukulele #ukulelesolo #music #livemusic #SunnyAndTheBlackPack\n",
      "61 False A 63-year-old woman drove her #car into a lamp post while taking her #drivingtest in #Argentina .\n",
      "62 False #farhersday #fatherdaygift #fatherdaygiftidea #drawing #draw #giftideas #giftidea #fy #fyp #foryoupage #viralvideo\n",
      "63 False Replying to @Ddot and dd osama\n",
      "64 False Predator's Tricks😱\n",
      "65 False ####\n",
      "66 False Cops TV Show | Woman With Child in Car Rams Multiple People & Police Cars While Trying to Avoid Arrest #police #cops #copsoftiktok #foryou #fyp\n",
      "67 False Por cada 10 rosas voy a hacer el sonido más fuerte con la trompeta #asmrvideo #asmrsounds #asmrtiktoks #asmr #relax #gallo_asmr\n",
      "68 False #respect #foryou #amazing\n",
      "69 False 박지민 미쳤다 진짜… #jimin #setmefree_pt2 #bts\n",
      "70 False In (s)pain 🙂\n",
      "71 False Siz kaç tanesini bildiniz? ❤️\n",
      "72 False يلدز 💓💓💓\n",
      "#nona\n",
      "#التفاحة_الممنوعة #التفاحة_الحرام #handeercel #شاهقه #اندر #ايدا_ايجي #يلدز_ملكت_جمال_تركيا🧚🏻‍♀️ #اكسبلور_explore #نسيلهان_اتاغول #بغداد #edaece #explore #طائر_الرفراف #kerembürsin #اكسبلور_explore\n",
      "73 False Respuesta a @leo_29103_ Entra y descubre 😪 mis archivos 😢#freefire #parati #_copito25\n",
      "74 False Daca tot era in trend..! 🤣❤️ #fypシ #foryoupage @sorin_camataru #ciciarone #guacamole 🥀\n",
      "75 True ASMR by foods.\n",
      "#モッパンasmr\n",
      "#ASMR\n",
      "#eat #eating\n",
      "#おすすめ\n",
      "76 False Insta: maiizeidaan #maiizeidaan\n",
      "77 False Why buy from bookstore when TT sells cheaper #ConvenientShopping #CheapDeals #ThankMeLater #TikTokShopSGBDay #TikTokShopSG #TikTokShopSGCommunity @millionparcel @TikTok Shop Singapore\n",
      "78 False Replying to @I'm her\n",
      "79 False Ita a tie 😂 Happy Mother’s Day to all you mommas out there! 🥰 #funnydogs #dogskit #skit #dogactor #australianshepherd #heeler #whiteboxer #boxer #boxerdog #dogvideos #cutedogs #comedy #comedyskit #funnydogvideos #dogmom #doglover #dogtrend\n",
      "80 False #duet with\n",
      "@sosatisfying #run #fyp #live #livenow\n",
      "81 False Piliç Topkapı\n",
      "Video: @chefganicaglar 👨🏽‍🍳\n",
      "\n",
      "Malzemeler:\n",
      "82 False Chopper Sencho banzaii🙌🏻 #chopper #onepiece\n",
      "83 False Unawaonyesha tu 😂😂 had a great day 😍#kendichristine #kendiqofficial #qhendie\n",
      "84 False PICKLE TIME PARTY!!! #gaming #fortnite #tiktoklive\n",
      "85 False De domingo também é assim na casa de vocês bençãos? Kkkkk\n",
      "Na nossa não pode faltar a Coca-Cola Sem Açúcar, tão gostosa quanto a original e presente em todo almoço de família! ❤️️ @Coca-Cola #publi #CocaCola\n",
      "86 False THE TASSEL WAS WORTH THE HASSLE!!!!!! 🎓🔥😂 #fyp #foryou #fypシ #trend #trending #fy #foru #viral #tiktok #viralvideo #funny #xyzbca #comedy #foryoupage #music #class #prank #highschool #college\n",
      "87 False I didnt expect 300MPH😂 #beamng #beamngdrive #gaming #fyp #crash #foryou #car #foryoupage\n",
      "88 False #рекомендации❤️\n",
      "89 False Um intérprete sem saber #TikTokMotivacional #osprofetas_ #holocaust #holocaustmemorialday #avidaébela #avidaebela❤️🌹🌷🙌👍🥀 #vida #esperanca #viver #pai #paiefilho #familia #beleza #teatro #romance #drama #filme #filmes #classicos #classicosdocinema #classicostiktok #tiktok\n",
      "90 False #kitchenhacks #learnontiktok\n",
      "91 False Carl woos a girl,even the principal does him a favor #movies #fypシ\n",
      "92 False Are we excited?\n",
      "93 False 📍Switzerland🇨🇭#switzerland #swissroads #switzerlandnature #roadtrip #verliebtindieschweiz #swissbeautiful #sisiswiss #swiss\n",
      "94 False Replying to @VictorA\n",
      "95 False waiting for them to realise was so funny to me\n"
     ]
    },
    {
     "name": "stdout",
     "output_type": "stream",
     "text": [
      "96 False So funny 🤭😀#movieclips #foryou #fyp #movie\n",
      "97 False #orhunhira #esaret #cenktorun #mahassinemerabet #adictasaseriesturcas #seriesturcas #novelasturcas #actoresturcos #\n",
      "98 True We’re OBSESSED with this method of cooking our eggs 🤯🍳🔥\n",
      "\n",
      "Have you tried it? 🤷🏽‍♂️\n",
      "\n",
      "#fyp #foryou #eggs #foodporn #food\n",
      "99 False #حسحس #جيش_حسحس\n"
     ]
    }
   ],
   "source": [
    "import time\n",
    "\n",
    "# if the description has any one these words, we will watch the video\n",
    "keywords = ['food', 'dish', 'cook', 'pizza', 'recipe', 'mukbang', 'dinner', 'foodie', 'restaurant']\n",
    "\n",
    "# this is where will we store decisions we take\n",
    "decisions = []\n",
    "\n",
    "# open a browser, and go to TikTok's For You page.\n",
    "driver = open_browser()\n",
    "driver.get('https://tiktok.com/foryou')\n",
    "close_login_dialog(driver)\n",
    "\n",
    "for tiktok_index in range(0, 100):\n",
    "    # get all videos\n",
    "    tiktoks = find_videos(driver)\n",
    "    \n",
    "    # the current tiktok is the one that's currently showing the video player\n",
    "    current_video = get_current(tiktoks)\n",
    "    \n",
    "    if current_video is None:\n",
    "        print('no more videos')\n",
    "        break\n",
    "              \n",
    "    # read the description of the video\n",
    "    description = get_description(current_video)\n",
    "    \n",
    "    # categorize the video as relevant to `keywords` or not.\n",
    "    contains_keyword = is_target_video(description, keywords)\n",
    "    decisions.append(contains_keyword )\n",
    "            \n",
    "    print(tiktok_index, contains_keyword, description)\n",
    "    \n",
    "    if contains_keyword:\n",
    "        # we have a video of interest, let's take a screenshot\n",
    "        screenshot(current_video, f\"data/screenshots/screenshot_{tiktok_index:05}.png\")\n",
    "        # and now watch it for 30 seconds\n",
    "        time.sleep(30)\n",
    "    \n",
    "    # move to the next video\n",
    "    arrow_down(driver)\n",
    "    time.sleep(2)\n",
    "    \n",
    "driver.close()"
   ]
  },
  {
   "cell_type": "markdown",
   "id": "dce0e077",
   "metadata": {},
   "source": [
    "::: {.callout-tip}\n",
    "#### Pro tip: Be careful about keywords\n",
    "For experiments that use `keywords`, the choices we make will directly shape our results. In the field, you can mitigate your own predisposition and biases by working with [domain experts to curate keyword lists](https://themarkup.org/google-the-giant/2021/04/09/how-we-discovered-googles-social-justice-blocklist-for-youtube-ad-placements#sourcing-social-justice-keywords).\n",
    ":::"
   ]
  },
  {
   "cell_type": "code",
   "execution_count": 12,
   "id": "dda469fb",
   "metadata": {},
   "outputs": [],
   "source": [
    "import matplotlib.pyplot as plt"
   ]
  },
  {
   "cell_type": "code",
   "execution_count": 35,
   "id": "9fc3713d",
   "metadata": {},
   "outputs": [
    {
     "data": {
      "image/png": "[encoded data removed]",
      "text/plain": [
       "<Figure size 432x288 with 1 Axes>"
      ]
     },
     "metadata": {
      "needs_background": "light"
     },
     "output_type": "display_data"
    }
   ],
   "source": [
    "plt.hist([idx for idx, decision in enumerate(decisions) if decision==True], \n",
    "         bins=[0, 25, 50, 75, 100], ec='white', linewidth=5)\n",
    "plt.xticks([12.5, 37.5, 62.5, 87.5], ['0-24', '25-49', '50-74', '75-99'])\n",
    "\n",
    "plt.xlabel('Video number in order')\n",
    "plt.ylabel('Number of videos watched');"
   ]
  },
  {
   "cell_type": "markdown",
   "id": "4736d0d0",
   "metadata": {},
   "source": [
    "### Results\n",
    "The figure above shows the frequency of the appearance of target videos during our 100-videos-long session. \n",
    "\n",
    "You can look back to the `data/screenshots` folder we created to check whether the videos we watched appear to be food-related. \n",
    "\n",
    "If the feed was indeed increasingly filled with food videos, we would see more lines towards the right of the graph. At least here it does not appear to be the case. \n",
    "\n",
    "Does it mean that the WSJ investigation was wrong, or that TikTok stopped personalizing content? \n",
    "\n",
    "The answer is \"No,\" for several reasons: \n",
    "\n",
    "1. We only scrolled through 100 videos, this is likely too few to observe any effects. Try re-running with a higher number!<br>\n",
    "2. When studying personalization you should use an account per profile and make sure you're logged in, rather than relying on a fresh browser. So, instead of closing the login dialog, try actually logging in! You know how to find and click buttons, and [this is how you put text in text fields](https://www.geeksforgeeks.org/send_keys-element-method-selenium-python/).<br>\n",
    "3. When you're not logged in, you will be presented with content from all over the world, in all languages. If you filtered `keywords` in just one language, you will miss plenty of target content in other languages.<br>\n",
    "4. You should always have a baseline to compare to. In this case, you should probably run two accounts at the same time - one that watches food videos and one that doesn't. Then you compare the prevalence of food videos between these two.<br>\n",
    "5. The WSJ investigation was run on the mobile app rather than on a desktop browser. Perhaps TikTok's personalization works differently based on device or operating system."
   ]
  },
  {
   "cell_type": "markdown",
   "id": "2c785646",
   "metadata": {},
   "source": [
    "## Advanced Usage\n",
    "\n",
    "Above we highlighted some ideas to make your investigation or study more robust, some are methodological choices, but others are technical.\n",
    "\n",
    "There are some advanced use-cases and tasks you can perform with browser automation that include\n",
    "\n",
    "- Authentication using the browser and storing cookies for later use.<br>\n",
    "- Intercept background [API](/apis.html) calls and combine browser automation with API calls. See [`selenium-wire`](https://pypi.org/project/selenium-wire/) as an example.<br>s\n",
    "- Signing in with one or more email addresses.<br>\n",
    "\n",
    "We may cover some or all of these topics in subsequent tutorials, but you should feel free to experiment.\n",
    "\n",
    "Let us know what you're interested in learning more about!"
   ]
  },
  {
   "cell_type": "markdown",
   "id": "15e4efe5",
   "metadata": {},
   "source": [
    "# Related Readings\n",
    "\n",
    "More tutorials on the same subject:\n",
    "\n",
    "- \"[Using real browsers](https://scrapism.lav.io/using-real-browsers/)\" - Sam Lavigne\n",
    "\n",
    "Notable investigations, audits, and tools using browser automation:\n",
    "\n",
    "<!-- - \"[Blacklight](https://themarkup.org/blacklight)\" - a investigative tool by Surya Mattu<br> -->\n",
    "- \"[TheirTube](https://www.their.tube/)\" - an art and advocacy project by Tomo Kihara<br>\n",
    "- \"[Worlds Apart](https://www.nrk.no/osloogviken/xl/tiktok-doesn_t-show-the-war-in-ukraine-to-russian-users-1.15921522)\" - a TikTok investigation by Henrik Bøe and Christian Nicolai Bjørke<br>\n",
    "- \"[WebSearcher](https://github.com/gitronald/WebSearcher)\" - A Python package by Ronald E. Robertson<br>\n",
    "- \"[Googling for Abortion](https://journalqd.org/article/view/2752)\" - Yelena Mejova, Tatiana Gracyk, and Ronald E. Robertson\n",
    "\n",
    "Please reach out with more examples to add."
   ]
  },
  {
   "cell_type": "markdown",
   "id": "79ee3e6d",
   "metadata": {},
   "source": [
    "# Citation\n",
    "\n",
    "To cite this chapter, please use the following BibTex entry:\n",
    "\n",
    "<pre>\n",
    "@incollection{inspect2023browser,\n",
    "  author    = {Sapiezynski, Piotr and Yin, Leon},\n",
    "  title     = {Browser Automation},\n",
    "  booktitle = {Inspect Element: A practitioner's guide to auditing algorithms and hypothesis-driven investigations},\n",
    "  year      = {2023},\n",
    "  editor    = {Yin, Leon and Sapiezynski, Piotr and Raji, Inioluwa Deborah},\n",
    "  note      = {\\url{https://inspectelement.org}}\n",
    "}\n",
    "</pre>\n"
   ]
  },
  {
   "cell_type": "code",
   "execution_count": null,
   "id": "e3ad6d67",
   "metadata": {},
   "outputs": [],
   "source": []
  }
 ],
 "metadata": {
  "kernelspec": {
   "display_name": "Python 3 (ipykernel)",
   "language": "python",
   "name": "python3"
  },
  "language_info": {
   "codemirror_mode": {
    "name": "ipython",
    "version": 3
   },
   "file_extension": ".py",
   "mimetype": "text/x-python",
   "name": "python",
   "nbconvert_exporter": "python",
   "pygments_lexer": "ipython3",
   "version": "3.9.7"
  }
 },
 "nbformat": 4,
 "nbformat_minor": 5
}
