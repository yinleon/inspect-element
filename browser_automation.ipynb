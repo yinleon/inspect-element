{
 "cells": [
  {
   "cell_type": "raw",
   "id": "aeaa0e9f",
   "metadata": {},
   "source": [
    "---\n",
    "title: \"Browser Automation\"\n",
    "pagetitle: \"Browser Automation\"\n",
    "description-meta: \"Introduction, case studies, and exercises for automating browsers.\"\n",
    "description-title: \"Introduction, case studies, and exercises for automating browsers.\"\n",
    "author: \"Piotr Sapiezynski, Leon Yin\"\n",
    "author-meta: Piotr Sapiezynski, Leon Yin\"\n",
    "date: \"06-07-2023\"\n",
    "date-modified: \"06-08-2023\"\n",
    "execute: \n",
    "  enabled: false\n",
    "keywords: data collection, web scraping, browser automation, algorithm audits, personalization\n",
    "twitter-card:\n",
    "  title: Browser Automation\n",
    "  description: Introduction, case studies, and exercises for automating browsers.\n",
    "  image: assets/inspect-element-logo.jpg\n",
    "open-graph:\n",
    "  title: Browser Automation\n",
    "  description: Introduction, case studies, and exercises for automating browsers.\n",
    "  locale: us_EN\n",
    "  site-name: Inspect Element\n",
    "  image: assets/inspect-element-logo.jpg\n",
    "href: browser_automation\n",
    "---"
   ]
  },
  {
   "cell_type": "code",
   "execution_count": 45,
   "id": "25b0e7ac",
   "metadata": {},
   "outputs": [
    {
     "data": {
      "text/markdown": [
       "\n",
       "<a type=\"button\" class=\"btn btn-outline-primary btn-sm\" target=\"_blank\" href=\"https://inspectelement.org/browser_automation\">📖 Read online</a>\n",
       "<a type=\"button\" class=\"btn btn-outline-primary btn-sm\" target=\"_blank\" href=\"https://colab.research.google.com/github/yinleon/inspect-element/blob/main/browser_automation.ipynb\">🖥️ Interactive version</a>\n",
       "<a type=\"button\" class=\"btn btn-outline-primary btn-sm\" target=\"_blank\" href=\"https://github.com/yinleon/inspect-element/blob/main/browser_automation.ipynb\">⚙️ GitHub</a>\n",
       "<a type=\"button\" class=\"btn btn-outline-primary btn-sm\" target=\"_self\" href=\"#citation\">❞ Citation</a>\n",
       "<br>\n"
      ],
      "text/plain": [
       "<IPython.core.display.Markdown object>"
      ]
     },
     "metadata": {},
     "output_type": "display_data"
    }
   ],
   "source": [
    "#| echo: false\n",
    "from utils import build_buttons\n",
    "from importlib import reload\n",
    "import utils\n",
    "reload(utils)\n",
    "utils.build_buttons(link= 'browser_automation', \n",
    "              github= 'https://github.com/yinleon/inspect-element/blob/main/browser_automation.ipynb',\n",
    "              citation= True)"
   ]
  },
  {
   "cell_type": "markdown",
   "id": "473b5055",
   "metadata": {},
   "source": [
    "# Intro\n",
    "\n",
    "Browser automation is used to programmatically interact with web applications. \n",
    "\n",
    "Its primary use is to test websites (internally) by simulating user behavior (mouse clicks, scrolling, etc), but it can also be used for web scraping.\n",
    "\n",
    "Browser automation isn’t always the best situation for building a dataset, but it is necessary when you need to:\n",
    "\n",
    "1. **Scrape rendered HTML**: browser automation lets you see what's on a website as a user would.\n",
    "1. **Simulate user behavior**: comes in handy when you want to experiment with personalization.\n",
    "1. **Wait for scripts and code to execute**: let's you retrieve information that requires a code to run behind the scenes.\n",
    "\n",
    "Some popular browser automation tools are [Puppeteer](https://pptr.dev/), [Playwright](https://playwright.dev/), and [Selenium](https://www.selenium.dev/documentation/webdriver/elements/). \n",
    "\n",
    "The tutorials in this section will use Selenium in Python.\n",
    "\n",
    "👉[Click here to jump to the tutorial](#tutorial).\n",
    "\n",
    "\n",
    "# Case Studies\n",
    "## Case Study 1: Google Search\n",
    "In the investigation “[Google the Giant](https://themarkup.org/google-the-giant/2020/07/28/google-search-results-prioritize-google-products-over-competitors),” The Markup wanted to measure how much a Google Search page is “Google.” Aside from the daunting task of classifying what is Google and what isn’t, the team of two investigative journalists; Adrianne Jeffries and Leon Yin (a co-author of this section) needed to measure real estate on a web page.\n",
    "\n",
    "The team developed a [targeted staining technique](https://themarkup.org/google-the-giant/2020/07/28/how-we-analyzed-google-search-results-web-assay-parsing-tool) inspired by the life sciences called an assay– commonly used to highlight the presence of chemicals, compounds, or cancers. \n",
    "\n",
    "<figure>\n",
    "<img src=\"assets/browser0_01_threestep1.png\"\n",
    "    alt=\"https://themarkup.org/google-the-giant/2020/07/28/how-we-analyzed-google-search-results-web-assay-parsing-tool#google-search-flow\" \n",
    "    width=\"600px\"/ >\n",
    "<p>Source: <a href=\"https://themarkup.org/google-the-giant/2020/07/28/how-we-analyzed-google-search-results-web-assay-parsing-tool\">\n",
    "    The Markup\n",
    "</a>\n",
    "</figure>\n",
    "\n",
    "The reporters created over [68 web parsers](https://github.com/the-markup/investigation-google-search-audit/blob/master/utils/parsers.py) to identify each element on a web page that was Google, along with three other categories. Once an element was identified, they could find the coordinates of each element along with its corresponding bounding box. Using the categorization and bounding box, reporters could see how many pixels were allocated to Google properties, as well as where they were placed on a page.\n",
    "\n",
    "<figure>\n",
    "<img src=\"assets/browser0_02_soup1.png\"\n",
    "    alt=\"https://themarkup.org/google-the-giant/2020/07/28/how-we-analyzed-google-search-results-web-assay-parsing-tool#google-search-flow\" \n",
    "    width=\"600px\"/ >\n",
    "<p>Source: <a href=\"https://themarkup.org/google-the-giant/2020/07/28/how-we-analyzed-google-search-results-web-assay-parsing-tool\">\n",
    "    The Markup\n",
    "</a>\n",
    "</figure>\n",
    "\n",
    "This analysis is only possible by **parsing the rendered HTML page** with a fixed window size (in their case an iPhone X). \n",
    "\n",
    "Using browser automation to investigate and audit real estate on a website provides an intuitive metric for self-preferencing and anti-competitive business practices. For example, this case study was placed above the others because one of the co-authors happened to work on it."
   ]
  },
  {
   "cell_type": "markdown",
   "id": "e05de692",
   "metadata": {},
   "source": [
    "## Case Study 2: Google's Ad Network\n",
    "Over two-thirds of the 1.3 million ad sellers on Google are anonymous.\n",
    "\n",
    "Watchdog organizations such as [Check My Ads](https://checkmyads.org/branded/google-ads-has-become-a-massive-dark-money-operation/) use methods of de-anonymizing ad buyers to hold Google accountable for funding individuals and organizations that promote hate and spread false information.\n",
    "\n",
    "In 2022, reporters from ProPublica automated this method using the browser automation tool PlayWright. \n",
    "\n",
    "TK HOW THEY DID THIS.\n",
    "\n",
    "## Case Study 3: TikTok Personalization\n",
    "An investigation conducted by the Wall Street Journal, \"[Inside TikTok's Algorithm](https://www.wsj.com/articles/tiktok-algorithm-video-investigation-11626877477)\" found that even when a user does not like, share, or follow any creators, TikTok still personalizes their \"For You Page\" based on how long they watch the recommended videos.\n",
    "\n",
    "In particular, the WSJ reporters found that users who watch content related to depression and skip other content are soon presented with mental health content and little else. Importantly, this effect happened even when the users did not explicitly like or share any videos, nor did they follow any creators. \n",
    "\n",
    "You can watch the WSJ's video showing how they mimick user behavior to study the effects of personalization:"
   ]
  },
  {
   "cell_type": "markdown",
   "id": "672d7fa3",
   "metadata": {
    "tags": []
   },
   "source": [
    "<figure>\n",
    "<iframe width=\"560\" height=\"315\" src=\"https://www.youtube.com/embed/nfczi2cI6Cs\"></iframe>\n",
    "<figcaption align = \"left\" style=\"font-size:80%;\"> Source: \"How Tiktok's Algorithm Figures You Out | WSJ\" on YouTube</figcaption>\n",
    "</figure>"
   ]
  },
  {
   "cell_type": "markdown",
   "id": "07b5a5ad",
   "metadata": {},
   "source": [
    "# Tutorial\n",
    "In the hands-on tutorial we will attempt to study personalization on TikTok. We’re going to teach you the basics of browser automation in Selenium, and similar principles could be used in studying any other service and with other automation tools.\n",
    "\n",
    "Through the next few tutorials we will try to replicate elements of this study and see if we can trigger personalization. In line with the WSJ investigation, we will use browser automation to watch all TikTok videos where the description mentions keywords of our choosing and skips all others. For this tutorial, we’ll use lighter topics than depression (the example chosen in the WSJ investigation.).\n",
    "\n",
    "::: {.callout-tip}\n",
    "#### Pro tip: Minimizing harms\n",
    "When developing your audits start with low-stakes themes, both to minimize your exposure to damaging content and to avoid boosting their popularity unnecessarily.\n",
    ":::\n",
    "\n",
    "\n",
    "In the tutorial you will learn the following practical skills:\n",
    "\n",
    "* Setting up the automated browser for use with Python\n",
    "* Hiding typical tell-tales of an automated browser to circumvent anti-bot protections\n",
    "* Finding particular elements on the screen, reading their content, and interacting with them\n",
    "* Scrolling\n",
    "* Taking screenshots\n",
    "    \n",
    "    \n",
    "[//]: # \"1. **Tutorial 2: Hardening the setup**\"\n",
    "[//]: # \"    * Setting up multiple email addresses for use with testing\"\n",
    "[//]: # \"    * Tracking the changing location of elements\"\n",
    "[//]: # \"    * Storing cookies for future use\"\n",
    "[//]: # \" \"\n",
    "[//]: # \"1. **Tutorial 3: Automated browsing and hidden APIs**\"\n",
    "[//]: # \"    * Intercepting the background API calls for improved data collection\"\n",
    "[//]: # \"    * Combining automated browsing with background API calls\"\n",
    "[//]: # \" \"   \n",
    "[//]: # \"1. **Tutorial 4: The complete setup**\"\n",
    "[//]: # \"    * Experiment design considerations\"\n",
    "[//]: # \"    * Data analysis\"\n",
    "\n",
    "Let's get started!"
   ]
  },
  {
   "cell_type": "markdown",
   "id": "76337c0b",
   "metadata": {},
   "source": [
    "## Step 1: Setting up the browser\n",
    "Our setup will consist of a real browser and an interface that will allow us to control that browser from python. We chose Google Chrome - not because it's our favorite but because using the most popular browser will help us blend in with real users.\n",
    "\n",
    "### 1.1 Installing Google Chrome\n",
    "We will do this tutorial using Google Chrome. Please download the most recent version from [here](https://www.google.com/chrome/).\n",
    "\n",
    "If you already have Google Chrome installed, please make sure it's at its newest version by opening Chrome and pasting this address in the address bar: [chrome://settings/help](chrome://settings/help) and verifying that there are no pending updates.\n",
    "\n",
    "![](assets/browser1_01_version1.png \"Google Chrome window showing the current version\")\n",
    "\n",
    "### 1.2 Installing the webdriver\n",
    "Webdriver is our interface between Python and the browser. It is specific to the browser (there are different webdrivers for Firefox, Safari, etc) and even to the particular version of the browser. It's easier to ensure we got the correct version by installing the webdriver that automatically detects the current version of Chrome. Run the code in the cell below to do that.\n",
    "\n",
    "::: {.callout-tip}\n",
    "#### Pro tip:\n",
    "Adding an exclamation mark before code in Jupyter notebook allows you to run commands as if you were in the terminal.\n",
    ":::"
   ]
  },
  {
   "cell_type": "code",
   "execution_count": 46,
   "id": "46928277",
   "metadata": {},
   "outputs": [
    {
     "name": "stdout",
     "output_type": "stream",
     "text": [
      "Requirement already satisfied: chromedriver-binary-auto in /Users/piotr/miniforge3/lib/python3.9/site-packages (0.2.6)\r\n",
      "Requirement already satisfied: selenium in /Users/piotr/miniforge3/lib/python3.9/site-packages (4.9.1)\r\n",
      "Requirement already satisfied: urllib3[socks]<3,>=1.26 in /Users/piotr/miniforge3/lib/python3.9/site-packages (from selenium) (1.26.7)\r\n",
      "Requirement already satisfied: trio~=0.17 in /Users/piotr/miniforge3/lib/python3.9/site-packages (from selenium) (0.20.0)\r\n",
      "Requirement already satisfied: trio-websocket~=0.9 in /Users/piotr/miniforge3/lib/python3.9/site-packages (from selenium) (0.9.2)\r\n",
      "Requirement already satisfied: certifi>=2021.10.8 in /Users/piotr/miniforge3/lib/python3.9/site-packages (from selenium) (2021.10.8)\r\n",
      "Requirement already satisfied: attrs>=19.2.0 in /Users/piotr/miniforge3/lib/python3.9/site-packages (from trio~=0.17->selenium) (21.4.0)\r\n",
      "Requirement already satisfied: sortedcontainers in /Users/piotr/miniforge3/lib/python3.9/site-packages (from trio~=0.17->selenium) (2.4.0)\r\n",
      "Requirement already satisfied: async-generator>=1.9 in /Users/piotr/miniforge3/lib/python3.9/site-packages (from trio~=0.17->selenium) (1.10)\r\n",
      "Requirement already satisfied: idna in /Users/piotr/miniforge3/lib/python3.9/site-packages (from trio~=0.17->selenium) (3.1)\r\n",
      "Requirement already satisfied: outcome in /Users/piotr/miniforge3/lib/python3.9/site-packages (from trio~=0.17->selenium) (1.1.0)\r\n",
      "Requirement already satisfied: sniffio in /Users/piotr/miniforge3/lib/python3.9/site-packages (from trio~=0.17->selenium) (1.2.0)\r\n",
      "Requirement already satisfied: wsproto>=0.14 in /Users/piotr/miniforge3/lib/python3.9/site-packages (from trio-websocket~=0.9->selenium) (1.1.0)\r\n",
      "Requirement already satisfied: PySocks!=1.5.7,<2.0,>=1.5.6 in /Users/piotr/miniforge3/lib/python3.9/site-packages (from urllib3[socks]<3,>=1.26->selenium) (1.7.1)\r\n",
      "Requirement already satisfied: h11<1,>=0.9.0 in /Users/piotr/miniforge3/lib/python3.9/site-packages (from wsproto>=0.14->trio-websocket~=0.9->selenium) (0.13.0)\r\n"
     ]
    }
   ],
   "source": [
    "!pip install chromedriver-binary-auto selenium"
   ]
  },
  {
   "cell_type": "markdown",
   "id": "e9da2a20",
   "metadata": {},
   "source": [
    "Let's see if the installation worked correctly! Run the cell below to import the correct webdriver and open a new Chrome window.\n"
   ]
  },
  {
   "cell_type": "code",
   "execution_count": 47,
   "id": "6e6374f5",
   "metadata": {},
   "outputs": [],
   "source": [
    "from selenium import webdriver\n",
    "import chromedriver_binary # adds the chromedriver binary to the path\n",
    "\n",
    "driver = webdriver.Chrome()"
   ]
  },
  {
   "cell_type": "markdown",
   "id": "7922bc1c",
   "metadata": {},
   "source": [
    "The `chrome-driver-auto` package should have installed a driver that's suitable for your current Chrome version running the line of code above should have opened a new Chrome window.\n",
    "\n",
    "This step is notoriously hard, and you might get a version mismatch error:\n",
    "\n",
    "```\n",
    "SessionNotCreatedException: Message: session not created: This version of ChromeDriver only supports Chrome version 112\n",
    "Current browser version is 113 with binary path /Applications/Google Chrome.app/Contents/MacOS/Google Chrome\n",
    "```\n",
    "It means that you probably updated your Chrome in the meantime. To fix it, reinstall the Python package:"
   ]
  },
  {
   "cell_type": "code",
   "execution_count": 4,
   "id": "583307ba",
   "metadata": {},
   "outputs": [
    {
     "name": "stdout",
     "output_type": "stream",
     "text": [
      "Collecting chromedriver-binary-auto\n",
      "  Using cached chromedriver_binary_auto-0.2.6-py3-none-any.whl\n",
      "Installing collected packages: chromedriver-binary-auto\n",
      "  Attempting uninstall: chromedriver-binary-auto\n",
      "    Found existing installation: chromedriver-binary-auto 0.2.6\n",
      "    Uninstalling chromedriver-binary-auto-0.2.6:\n",
      "      Successfully uninstalled chromedriver-binary-auto-0.2.6\n",
      "Successfully installed chromedriver-binary-auto-0.2.6\n"
     ]
    }
   ],
   "source": [
    "!pip install --upgrade --force-reinstall chromedriver-binary-auto"
   ]
  },
  {
   "cell_type": "markdown",
   "id": "efe33ae9",
   "metadata": {},
   "source": [
    "If everything works fine and you have the window open, our setup is complete and you can now close the Chrome window:"
   ]
  },
  {
   "cell_type": "code",
   "execution_count": 48,
   "id": "6630259a",
   "metadata": {},
   "outputs": [],
   "source": [
    "driver.close()"
   ]
  },
  {
   "cell_type": "markdown",
   "id": "eba6faef",
   "metadata": {},
   "source": [
    "## Step 2: Hiding typical tell-tales of an automated browser\n",
    "When you open Chrome with Selenium you'll notice that the window displays a warning about being an \"automated session\". \n",
    "Even though the warning is only displayed to you, the webdriver leaces behind other red flags that inform website administrators that you are using browser automation.\n",
    "The website admins will use these red flags to refuse service to your browser.\n",
    "\n",
    "Let's remove those!"
   ]
  },
  {
   "cell_type": "code",
   "execution_count": 52,
   "id": "2e08f4b4",
   "metadata": {},
   "outputs": [],
   "source": [
    "options = webdriver.ChromeOptions()\n",
    "options.add_argument(\"start-maximized\")\n",
    "\n",
    "# remove all signs of this being an automated browser\n",
    "options.add_argument('--disable-blink-features=AutomationControlled')\n",
    "options.add_experimental_option(\"excludeSwitches\", [\"enable-automation\"])\n",
    "options.add_experimental_option('useAutomationExtension', False)\n",
    "\n",
    "# open the browser with the new options\n",
    "driver = webdriver.Chrome(options=options)\n",
    "driver.get('https://tiktok.com/en')"
   ]
  },
  {
   "cell_type": "markdown",
   "id": "243a1a32",
   "metadata": {},
   "source": [
    "This should open a new window without those warnings and navigate to tiktok.com:\n",
    "\n",
    "![](assets/browser1_02_tiktok1.png \"tiktok main page\")\n",
    "\n",
    "\n"
   ]
  },
  {
   "cell_type": "markdown",
   "id": "4f7e66fd",
   "metadata": {},
   "source": [
    "## Step 3: Finding elements on page and interacting with them\n",
    "\n",
    "We will perform our first attempt at the experiment without logging in, but we will also learn how to create multiple accounts and how to log in later.\n",
    "\n",
    "Instead of logging in, our first interaction will be dismissing this login window. Doing this programmatically has two steps:\n",
    "\n",
    "1. We need to identify that \\[X\\] button in the page source \n",
    "2. And then click it\n",
    "\n",
    "Let's inspect the button:\n",
    "![](assets/browser1_03_dismiss1.png \"Inspecting the Dismiss button\")\n",
    "\n",
    "In my case, the particular element that the Developer Tools navigated to is just the graphic on the button, not the button itself, but you can still find the actual button by hovering your mouse over different elements in the source and seeing what elements on page are highlighted:\n",
    "\n",
    "![](assets/browser1_04_inspect1.png \"Inspecting the Dismiss button\")\n",
    "\n",
    "Our close button is a `<div>` element, whose `data-e2e` attribute is `\"modal-close-inner-button\"`. \n",
    "There are many ways to fish for the exact element you want, and [many of fhose methods](https://www.selenium.dev/documentation/webdriver/elements/locators/) are built into Selenium. One way to find it would be using a CSS_SELECTOR, like so:"
   ]
  },
  {
   "cell_type": "code",
   "execution_count": 53,
   "id": "3760f895",
   "metadata": {},
   "outputs": [
    {
     "data": {
      "text/plain": [
       "<selenium.webdriver.remote.webelement.WebElement (session=\"347dacb1ff10ca3831f6bf4851bbd288\", element=\"20C8A0C764C05A4A24B212FFF15DD4DC_element_75\")>"
      ]
     },
     "execution_count": 53,
     "metadata": {},
     "output_type": "execute_result"
    }
   ],
   "source": [
    "from selenium.webdriver.common.by import By\n",
    "\n",
    "close_button = driver.find_element(By.CSS_SELECTOR, '[data-e2e=\"modal-close-inner-button\"]')\n",
    "close_button"
   ]
  },
  {
   "cell_type": "markdown",
   "id": "00adc40a",
   "metadata": {},
   "source": [
    "When Selenium successfully finds an element, you’ll get a `WebElement` object of the first match.\n",
    "\n",
    "We seem to have found something, let's click it! `Web Element`s come equipped with special functions you can use to [interact](https://www.selenium.dev/documentation/webdriver/elements/interactions/) with them:"
   ]
  },
  {
   "cell_type": "code",
   "execution_count": 54,
   "id": "fc4d6ff1",
   "metadata": {},
   "outputs": [],
   "source": [
    "close_button.click()"
   ]
  },
  {
   "cell_type": "markdown",
   "id": "b9367f9a",
   "metadata": {},
   "source": [
    "Did you notice a change on the page? Congratulations! You just automated the browser to click something."
   ]
  },
  {
   "cell_type": "markdown",
   "id": "f4712233",
   "metadata": {},
   "source": [
    "## Step 4: Scrolling\n",
    "\n",
    "We now have a browser instance open and displaying the For You Page. Let's scroll through the videos.\n",
    "\n",
    "If you are a *real person* who (for whatever reason) visits TikTok on their computer, you could press the down key the keyboard to see new videos. We will do that programmatically instead:"
   ]
  },
  {
   "cell_type": "code",
   "execution_count": 55,
   "id": "3b581199",
   "metadata": {},
   "outputs": [],
   "source": [
    "from selenium.webdriver.common.action_chains import ActionChains\n",
    "from selenium.webdriver.common.keys import Keys\n",
    "\n",
    "actions = ActionChains(driver)\n",
    "actions.send_keys(Keys.ARROW_DOWN)\n",
    "actions.perform()"
   ]
  },
  {
   "cell_type": "markdown",
   "id": "77046b3d",
   "metadata": {},
   "source": [
    "When you run the cell above you will see that your browser scrolls down to the next video. You just automated scrolling!"
   ]
  },
  {
   "cell_type": "markdown",
   "id": "70dd4728",
   "metadata": {},
   "source": [
    "## Step 5: Finding videos on the page\n",
    "\n",
    "Now that the site loaded and you can browse it, let's find all the videos that are displayed and extract the meta information from each of them.\n",
    "\n",
    "1. Right click on the white space around a video and choose \"Inspect\".\n",
    "![Inspect Element](assets/browser1_05_inspect_tiktok_a1.png)\n",
    "1. Hover your mouse over the surrounding `<div>` elements and observe the highlighted elements on the page to see which ones correspond to each tiktok.\n",
    "![Inspect Element](assets/browser1_05_inspect_tiktok_b1.png)\n",
    "1. You will see that each video is in a separate `<div>` container but each of these containers has the same `data-e2e` attribute with the value of `recommend-list-item-container`.\n",
    "1. Similarly to how we found the close button, we can now use this to find all videos on page:"
   ]
  },
  {
   "cell_type": "code",
   "execution_count": 56,
   "id": "5d0b5ddb",
   "metadata": {},
   "outputs": [],
   "source": [
    "videos = driver.find_elements(By.CSS_SELECTOR, '[data-e2e=\"recommend-list-item-container\"]')"
   ]
  },
  {
   "cell_type": "markdown",
   "id": "2c207028",
   "metadata": {},
   "source": [
    "::: {.callout-tip}\n",
    "#### Pro tip:\n",
    "When we searched for the \"dismiss\" button we used the `driver.find_element()` function because we were only interested in the first element that matched our CSS selector.\n",
    "\n",
    "Now we're trying to find all videos on page, so we use the `driver.find_elements()` function instead - it returns the complete list of elements that match the selector.\n",
    ":::"
   ]
  },
  {
   "cell_type": "code",
   "execution_count": 57,
   "id": "59aa5039",
   "metadata": {},
   "outputs": [
    {
     "data": {
      "text/plain": [
       "[<selenium.webdriver.remote.webelement.WebElement (session=\"347dacb1ff10ca3831f6bf4851bbd288\", element=\"20C8A0C764C05A4A24B212FFF15DD4DC_element_50\")>,\n",
       " <selenium.webdriver.remote.webelement.WebElement (session=\"347dacb1ff10ca3831f6bf4851bbd288\", element=\"20C8A0C764C05A4A24B212FFF15DD4DC_element_96\")>,\n",
       " <selenium.webdriver.remote.webelement.WebElement (session=\"347dacb1ff10ca3831f6bf4851bbd288\", element=\"20C8A0C764C05A4A24B212FFF15DD4DC_element_97\")>,\n",
       " <selenium.webdriver.remote.webelement.WebElement (session=\"347dacb1ff10ca3831f6bf4851bbd288\", element=\"20C8A0C764C05A4A24B212FFF15DD4DC_element_98\")>,\n",
       " <selenium.webdriver.remote.webelement.WebElement (session=\"347dacb1ff10ca3831f6bf4851bbd288\", element=\"20C8A0C764C05A4A24B212FFF15DD4DC_element_99\")>,\n",
       " <selenium.webdriver.remote.webelement.WebElement (session=\"347dacb1ff10ca3831f6bf4851bbd288\", element=\"20C8A0C764C05A4A24B212FFF15DD4DC_element_100\")>,\n",
       " <selenium.webdriver.remote.webelement.WebElement (session=\"347dacb1ff10ca3831f6bf4851bbd288\", element=\"20C8A0C764C05A4A24B212FFF15DD4DC_element_101\")>]"
      ]
     },
     "execution_count": 57,
     "metadata": {},
     "output_type": "execute_result"
    }
   ],
   "source": [
    "videos"
   ]
  },
  {
   "cell_type": "markdown",
   "id": "80ae9b2b",
   "metadata": {},
   "source": [
    "## Step 6: Parsing a video post\n",
    "Now that we found all the videos on the page, let's extract the description from each - this is how we will decide whether to watch this video or to skip it.\n",
    "\n",
    "1. Pick any description, right click, Inspect. \n",
    "1. Let's locate the `<div>` that contains the whole description (including any hashtags) and make note of its `data-e2s` attribute.\n",
    "1. Now let's write the code that, extracts the description from a single video (note that you can get the text content of any element by calling `element.text`)"
   ]
  },
  {
   "cell_type": "code",
   "execution_count": 58,
   "id": "0e3d878c",
   "metadata": {},
   "outputs": [
    {
     "name": "stdout",
     "output_type": "stream",
     "text": [
      "#fun #funny #funnyvideos #prank #snake #scareprank #fail #failarmy #fyp #foryou #trending #failvideo #learnontiktok\n",
      "it's not always a matter of strength 💪🏿 #learnfromkhaby #comic #gym\n",
      "Best ritual for Baizhu pulls #genshin #genshinimpact #genshintok #genshinmeme #baizhu #hoyocreators\n",
      "I know some of yall can relate .. shit sucks bro 💔😞 #paintok #sadtiktok #fyp #foryoupage\n",
      "Mayyas' Breathtaking\n",
      "Audition Captivates Sofia Vergara/ AGT 2022 #AGT #fyp #foryou #THEVOICEKIDS #fypシ゚viral #fpy_tiktok_viral #BGT #THEVOICE #AGTALLSTARS\n",
      "We’re OBSESSED with this method of cooking our eggs 🤯🍳🔥\n",
      "\n",
      "Have you tried it? 🤷🏽‍♂️\n",
      "\n",
      "#fyp #foryou #eggs #foodporn #food\n",
      "#أم_خالد ينفع اللي مرات ابويا بتعمله معايا ده 🥹\n"
     ]
    }
   ],
   "source": [
    "for video in videos:\n",
    "    print(video.find_element(By.CSS_SELECTOR, '[data-e2e=\"video-desc\"]').text)"
   ]
  },
  {
   "cell_type": "markdown",
   "id": "3430ecc7",
   "metadata": {},
   "source": [
    "::: {.callout-tip}\n",
    "#### Pro tip:\n",
    "We previously searched for elements using `driver.find_element()` and `driver.find_elements()`. That allowed us to search the whole page. Notice that here, instead of `driver`, we're using `video`: this way we can search for elements **within a particular element**, rather than on the whole page.\n",
    ":::"
   ]
  },
  {
   "cell_type": "markdown",
   "id": "06ef5b15",
   "metadata": {},
   "source": [
    "## Step 7: Finding the video that's currently playing\n",
    "We know how to scroll to the next video, and we know how to find all videos that are loaded.\n",
    "At this point we could either:\n",
    "1) Assume that at the beginning, the 0th video is playing, and then every time we press arrow down, the next video is being displayed\n",
    "2) Assume that the arrow down does not always work and each time verify which video is actually playing\n",
    "\n",
    "The problem with the first approach is that even if scrolling fails even just once, our experiment will be compromised - after it happens we will be watching and skipping different videos that our math tells us. This is why we will go with the second approach and veriy which video is actually playing. Back to our favorite tool - inspect element!\n",
    "\n",
    "When you right click on the playing video, you will see that instead of our familiar UI we get a custom TikTok menu, so that won't work. Try right-clicking on the description of the video instead, then hovering over different elements in the inspector and expanding the one that highlights the video in the browser. Dig deep until you get to the `div` that only contains the video. \n",
    "\n",
    "\n",
    "Still in the inspector try looking at the video below. You will see that the `div` that contains the video is missing and there is no element with the tag name `video`. That's how we can find if the video is currently playing - its `div` will contain the `video` element that we can find by `TAG_NAME`:"
   ]
  },
  {
   "cell_type": "code",
   "execution_count": 59,
   "id": "5417c853",
   "metadata": {},
   "outputs": [
    {
     "name": "stdout",
     "output_type": "stream",
     "text": [
      "not playing #fun #funny #funnyvideos #prank #snake #scareprank #fail #failarmy #fyp #foryou #trending #failvideo #learnontiktok\n",
      "playing it's not always a matter of strength 💪🏿 #learnfromkhaby #comic #gym\n",
      "not playing Best ritual for Baizhu pulls #genshin #genshinimpact #genshintok #genshinmeme #baizhu #hoyocreators\n",
      "not playing I know some of yall can relate .. shit sucks bro 💔😞 #paintok #sadtiktok #fyp #foryoupage\n",
      "not playing Mayyas' Breathtaking\n",
      "Audition Captivates Sofia Vergara/ AGT 2022 #AGT #fyp #foryou #THEVOICEKIDS #fypシ゚viral #fpy_tiktok_viral #BGT #THEVOICE #AGTALLSTARS\n",
      "not playing We’re OBSESSED with this method of cooking our eggs 🤯🍳🔥\n",
      "\n",
      "Have you tried it? 🤷🏽‍♂️\n",
      "\n",
      "#fyp #foryou #eggs #foodporn #food\n",
      "not playing #أم_خالد ينفع اللي مرات ابويا بتعمله معايا ده 🥹\n"
     ]
    }
   ],
   "source": [
    "for video in videos:\n",
    "    description = video.find_element(By.CSS_SELECTOR, '[data-e2e=\"video-desc\"]').text\n",
    "    if video.find_elements(By.TAG_NAME, 'video'):\n",
    "        playing = 'playing'\n",
    "    else:\n",
    "        playing = 'not playing'\n",
    "    print(playing, description)"
   ]
  },
  {
   "cell_type": "markdown",
   "id": "4f5ef981",
   "metadata": {},
   "source": [
    "## Step 8: Taking screenshots\n",
    "The presentation of your results might be more compelling, when its accompanied by screenshots, rather than just data. Selenium allows you to take screenshots of the whole screen, or just a particular element (though the latter is a bit cumbersome):"
   ]
  },
  {
   "cell_type": "code",
   "execution_count": 60,
   "id": "f9f692fc",
   "metadata": {},
   "outputs": [],
   "source": [
    "# take a screenshot of the whole browser\n",
    "driver.save_screenshot('full_screenshot.png')\n",
    "\n",
    "# take a screenshot of just one video\n",
    "screenshot = video.screenshot_as_png\n",
    "with open('element_screenshot.png', 'wb') as output:\n",
    "    output.write(screenshot)"
   ]
  },
  {
   "cell_type": "markdown",
   "id": "1b60adb6",
   "metadata": {},
   "source": [
    "## Step 9: Putting it all together\n",
    "We now can read the descriptions of videos and move between them. \n",
    "That's most of the setup we need to try a very simple measurement - let's watch all videos that mention cooking in their description and skip all those that don't. After a few hundred, we will see whether we are served more cooking videos over time.\n",
    "\n",
    "::: {.callout-tip}\n",
    "#### Pro tip: Use functions!\n",
    "So far we coded up all the functionality like opening the browser, closing the dialog, finding videos as separate cells in the notebook. We could just copy that code over here to use it, but it will be much easier to understand and maintain the code if we keep the code as functions with easy to understand names\n",
    ":::"
   ]
  },
  {
   "cell_type": "code",
   "execution_count": 63,
   "id": "7625193f",
   "metadata": {},
   "outputs": [],
   "source": [
    "def open_browser():\n",
    "    \"\"\"\n",
    "    Opens a new automated browser window with all tell-tales of automated browser disabled\n",
    "    \"\"\"\n",
    "    options = webdriver.ChromeOptions()\n",
    "    options.add_argument(\"start-maximized\")\n",
    "\n",
    "    # remove all signs of this being an automated browser\n",
    "    options.add_argument('--disable-blink-features=AutomationControlled')\n",
    "    options.add_experimental_option(\"excludeSwitches\", [\"enable-automation\"])\n",
    "    options.add_experimental_option('useAutomationExtension', False)\n",
    "\n",
    "    # open the browser with the new options\n",
    "    driver = webdriver.Chrome(options=options)\n",
    "    driver.get('https://tiktok.com/en')\n",
    "    return driver\n",
    "\n",
    "def close_login_dialog(driver):\n",
    "    \"\"\"\n",
    "    Finds and closes the login dialog\n",
    "    \"\"\"\n",
    "    close_button = driver.find_element(By.CSS_SELECTOR, '[data-e2e=\"modal-close-inner-button\"]')\n",
    "    close_button.click()\n",
    "\n",
    "def arrow_down(driver):\n",
    "    \"\"\"\n",
    "    Sends the ARROW_DOWN key to a webdriver instance.\n",
    "    \"\"\"\n",
    "    actions = ActionChains(driver)\n",
    "    actions.send_keys(Keys.ARROW_DOWN)\n",
    "    actions.perform()\n",
    "    \n",
    "def find_videos(driver):\n",
    "    \"\"\"\n",
    "    Finds all videos loaded in the browser\n",
    "    \"\"\"\n",
    "    videos = driver.find_elements(By.CSS_SELECTOR, '[data-e2e=\"recommend-list-item-container\"]')\n",
    "    return videos\n",
    "\n",
    "def get_description(video):\n",
    "    \"\"\"\n",
    "    Extracts the video description along with any hashtags\n",
    "    \"\"\"\n",
    "    try:\n",
    "        description = video.find_element(By.CSS_SELECTOR, '[data-e2e=\"video-desc\"]').text\n",
    "    except:\n",
    "        description = ''\n",
    "    return description\n",
    "\n",
    "def get_current(videos):\n",
    "    \"\"\"\n",
    "    Given the list of videos it returns the one that's currently playing\n",
    "    \"\"\"\n",
    "    for video in videos:\n",
    "        if video.find_elements(By.TAG_NAME, 'video'):\n",
    "            # this one has the video, we can return it and that ends the function.\n",
    "            return video\n",
    "    \n",
    "    return None\n",
    "\n",
    "def is_target_video(description, keywords):\n",
    "    \"\"\"\n",
    "    Looks for keywords in the given description. Returns true if there are any\n",
    "    or false when there are none.\n",
    "    \"\"\"\n",
    "    \n",
    "    # check in any of the keywords is in the description\n",
    "    for keyword in keywords:\n",
    "        if keyword in description:\n",
    "            # we have a video of interest, let's watch it \n",
    "            return True\n",
    "    \n",
    "    # if we're still here it means no keywords were found\n",
    "    return False\n",
    "\n",
    "def screenshot(video, filename=\"screenshot.png\"):\n",
    "    \"\"\"\n",
    "    Saves a screenshot of a given video to a specified file\n",
    "    \"\"\"\n",
    "    screenshot = video.screenshot_as_png\n",
    "    with open(filename, 'wb') as output:\n",
    "        output.write(screenshot)\n",
    "    "
   ]
  },
  {
   "cell_type": "markdown",
   "id": "6c40cc14",
   "metadata": {},
   "source": [
    "Ok, with that out of the way, let's set up our first data collection!"
   ]
  },
  {
   "cell_type": "code",
   "execution_count": 67,
   "id": "6ce15737",
   "metadata": {},
   "outputs": [
    {
     "name": "stdout",
     "output_type": "stream",
     "text": [
      "0 False #giadinhbadao #funnyvideos #foryou #xuhuong #meme #fyp\n",
      "1 False it's not always a matter of strength 💪🏿 #learnfromkhaby #comic #gym\n",
      "2 False I know some of yall can relate .. shit sucks bro 💔😞 #paintok #sadtiktok #fyp #foryoupage\n",
      "3 False اول مره اعمل فديوهات من دى اعمل منها الفتره الجايه #fyp #غيمه_ورديه #fatma_khaled2\n",
      "4 False ညီမလေးကို မလုပ်ရက်ဘူး ပြေးပါ #fypage #airstyleglobal1 #mobilelegends #mlbb #foryoupage #tiktokuni #mlbbmyanmartiktok #zxybca #foryou\n",
      "5 True The perfect pizza doesn’t exi-\n",
      "6 False Messi 💙❤️🧐 || #messi #pxblitocule #football #futbol #leomessi #fyp #viral #edit #crzgf #zyxcba #tiktokviral #LM10\n",
      "7 False يلا ميكب للعروسهههه❤️🥰🥰🥰@روووح-Roooh 🦐🔥 ايه رايكو؟❤️🫶🏻 #صاحبه_قلم_الروج_الاحمر #trust_mayar_emad\n",
      "8 False #movie #film #fyp\n",
      "9 False \n",
      "10 False Bro saw the baddies and turned into prime MJ 😂 (@hoops.editss )\n",
      "11 False Amazing!! #thevoice #acdc #fyp #foryoupage #foryou #thevoicekids #music #singersoftiktok #talentshow\n",
      "12 False Chiếc đệm diệu kì 🥹 #GETNET\n",
      "13 True Wagyu Steak Sandwich 😍🥩 #wagyu #steak #easyrecipe #easyrecipes #asmrfood #steaktiktok #sandwich #chimichurri #butter #foodtok #dinnerwithme #snack #dinnerideas #homecook #cooktok\n",
      "14 False ඔයයි මායි වගේ නේ.. 👉👀👈🤭.\n",
      "[Background music - Hari Lassnai (හරි ලස්සනයි) | Evoke Music |OUT NOW] ❤️.\n",
      ".\n",
      "15 False #pov they met in a bar two weeks ago and they keep going back\n",
      "16 False Voces ja comeram arroz frito! Chefjack arrazou kkkk\n",
      "17 False this is my new outfit. If you would like to buy it please contact me in DM! #learnfromkhaby #comic\n",
      "18 False why have we never thought of this before\n",
      "19 True #tiktokfood #asmr\n",
      "20 False ندى 🤣⚡️ #fyp #foryou #foryoupage #explore #viral\n",
      "21 True It started off well and by 4:30 I was watching the clock waiting for dada to get home🤍 Then he got home and took the girls outside while I made dinner and now we are going to put them to bed. Goodnight🫶🏻\n",
      "\n",
      "#momtok #momsoftiktok #babytok #babiesoftiktok #toddler\n",
      "22 False اشغال يدوية🪔👍#اشغال_يدوية💗 #greenscreen #fyp #fyppppppppppppppppppppppp #foryou\n",
      "23 False •• sobre paciência\n",
      "24 False The bills were due 🤷🏾‍♂️ #fyp #thevoiceusa #thevoiceglobal #thevoiceuk #thevoicekids #thevoice #church #foru #fypシ #fypシ゚viral #xyzbca #foryou #trending #blacktiktok #foryoupage #viral #foryourpage #singing #foryoupageofficiall #for\n",
      "25 False Pluto version of Toca Toca😝\n",
      "#邊境牧羊犬布布 #bordercollie #寵物熱門 #汪星人 #狗狗 #會跳舞的狗狗 #dogdance #ボーダーコリー #tocaboca\n",
      "26 False Lần đầu ăn thử “Chân Gà Rút Xương “ Ngon nhất Việt Nam 🤣😂😅 #learnontikok #phamductuanofficial #ancungtiktok #reviewanngon\n",
      "27 False \n",
      "28 False \n",
      "29 False \n",
      "30 False \n",
      "31 False \n",
      "32 False \n",
      "33 False \n",
      "34 False \n",
      "35 False \n",
      "36 False \n",
      "37 False \n",
      "38 False \n",
      "39 False \n",
      "40 False \n",
      "41 False \n",
      "42 False \n",
      "43 False \n",
      "44 False \n",
      "45 False \n",
      "46 False \n",
      "47 False \n",
      "48 False \n",
      "49 False \n",
      "50 False \n",
      "51 False \n",
      "52 False \n",
      "53 False \n",
      "54 False \n",
      "55 False \n",
      "56 False \n",
      "57 False \n",
      "58 False \n",
      "59 False \n",
      "60 False \n",
      "61 False \n",
      "62 False \n",
      "63 False \n",
      "64 False \n",
      "65 False \n",
      "66 False \n",
      "67 False \n",
      "68 False \n",
      "69 False \n",
      "70 False \n",
      "71 False \n",
      "72 False \n",
      "73 False \n",
      "74 False \n",
      "75 False \n",
      "76 False \n",
      "77 False \n",
      "78 False \n",
      "79 False \n",
      "80 False \n",
      "81 False \n",
      "82 False \n",
      "83 False \n",
      "84 False \n",
      "85 False \n",
      "86 False \n",
      "87 False \n",
      "88 False \n",
      "89 False \n",
      "90 False \n",
      "91 False \n",
      "92 False \n",
      "93 False \n",
      "94 False \n",
      "95 False \n",
      "96 False \n",
      "97 False \n",
      "98 False \n",
      "99 False \n",
      "100 False \n",
      "101 False \n",
      "102 False \n",
      "103 False \n",
      "104 False \n",
      "105 False \n",
      "106 False \n",
      "107 False \n",
      "108 False \n",
      "109 False \n",
      "110 False \n",
      "111 False \n",
      "112 False \n",
      "113 False \n",
      "114 False \n",
      "115 False \n",
      "116 False \n",
      "117 False \n",
      "118 False \n",
      "119 False \n",
      "120 False \n",
      "121 False \n",
      "122 False \n",
      "123 False \n",
      "124 False \n",
      "125 False \n",
      "126 False \n",
      "127 False \n",
      "128 False \n",
      "129 False \n",
      "130 False \n",
      "131 False \n",
      "132 False \n",
      "133 False \n",
      "134 False \n",
      "135 False \n",
      "136 False \n",
      "137 False \n",
      "138 False \n",
      "139 False \n",
      "140 False \n",
      "141 False \n",
      "142 False \n",
      "143 False \n",
      "144 False \n",
      "145 False \n",
      "146 False \n",
      "147 False \n",
      "148 False \n",
      "149 False \n",
      "150 False \n",
      "151 False \n",
      "152 False \n",
      "153 False \n",
      "154 False \n",
      "155 False \n",
      "156 False \n",
      "157 False \n",
      "158 False \n",
      "159 False \n",
      "160 False \n",
      "161 False \n",
      "162 False \n",
      "163 False \n",
      "164 False \n",
      "165 False \n",
      "166 False \n",
      "167 False \n",
      "168 False \n",
      "169 False \n",
      "170 False \n",
      "171 False \n",
      "172 False \n",
      "173 False \n",
      "174 False \n",
      "175 False \n",
      "176 False \n",
      "177 False \n",
      "178 False \n",
      "179 False \n",
      "180 False \n",
      "181 False \n",
      "182 False \n",
      "183 False \n",
      "184 False \n",
      "185 False \n",
      "186 False \n",
      "187 False \n",
      "188 False \n",
      "189 False \n",
      "190 False \n",
      "191 False \n",
      "192 False \n",
      "193 False \n",
      "194 False \n",
      "195 False \n",
      "196 False \n",
      "197 False \n",
      "198 False \n",
      "199 False \n"
     ]
    }
   ],
   "source": [
    "import time\n",
    "\n",
    "# if the description has any one these words, we will watch the video\n",
    "keywords = ['food', 'dish', 'cook', 'pizza', 'recipe', 'mukbang', 'dinner']\n",
    "\n",
    "# this is where will we store decisions we take\n",
    "decisions = []\n",
    "\n",
    "driver = open_browser()\n",
    "\n",
    "close_login_dialog(driver)\n",
    "\n",
    "for video_index in range(0, 200):\n",
    "    \n",
    "    # get all \n",
    "    videos = find_videos(driver)\n",
    "    \n",
    "    # the current video is the one that's currently showing the video player\n",
    "    current_video = get_current(videos)\n",
    "    \n",
    "    if current_video is None:\n",
    "        print('no more videos')\n",
    "        break\n",
    "              \n",
    "    # read the description of the video\n",
    "    description = get_description(current_video)\n",
    "    \n",
    "    # make a decision and remember it\n",
    "    decision = is_target_video(description, keywords)\n",
    "    decisions.append(decision)\n",
    "            \n",
    "    print(video_index, decision, description)\n",
    "    \n",
    "    if decision:\n",
    "        # we have a video of interest, let's take a screenshot\n",
    "        screenshot(current_video, f\"screenshot_{video_index:05}.png\")\n",
    "        # and now watch it for 30 seconds\n",
    "        time.sleep(30)\n",
    "    \n",
    "    # move to the next video\n",
    "    arrow_down(driver)\n",
    "    time.sleep(2)\n",
    "    \n",
    "driver.close()"
   ]
  },
  {
   "cell_type": "code",
   "execution_count": 65,
   "id": "359c08c4",
   "metadata": {},
   "outputs": [],
   "source": [
    "import matplotlib.pyplot as plt"
   ]
  },
  {
   "cell_type": "code",
   "execution_count": 66,
   "id": "45a5810f",
   "metadata": {},
   "outputs": [
    {
     "data": {
      "image/png": "[encoded data removed]",
      "text/plain": [
       "<Figure size 432x288 with 1 Axes>"
      ]
     },
     "metadata": {
      "needs_background": "light"
     },
     "output_type": "display_data"
    }
   ],
   "source": [
    "plt.plot(decisions, ds='steps')\n",
    "plt.xlabel('Video')\n",
    "plt.ylabel('Watched')\n",
    "plt.yticks([0, 1], ['False', 'True']);"
   ]
  },
  {
   "cell_type": "markdown",
   "id": "d5c428e3",
   "metadata": {},
   "source": [
    "### Results\n",
    "The figure above shows the frequency of the appearance of target videos during our 100-videos-long session. You can verify in the folder where this notebook is located if the videos we watched were really food related because of the screenshots we saved. If the feed was indeed increasingly filled with food videos, we would see more an more lines towards the right of the graph. At least here it does not appear to be the case. \n",
    "\n",
    "Does it mean that the WSJ audit was wrong or that TikTok stopped personalizing content? No, for a number of reasons: \n",
    "\n",
    "1. We only scrolled through 100 videos, this is likely too few to observe any effects. Try re-running with a higher number!\n",
    "1. When studying personalization you should use an account per profile and make sure you're logged in, rather than relying on a fresh browser. So, instead of closing the login dialog, try actually logging in! You know how to find and click buttons, and [this is how you put text in text fields](https://www.geeksforgeeks.org/send_keys-element-method-selenium-python/).\n",
    "1. When you're not logged in, you will be presented with content from all over the world, in all languages. If your filters keywords in one language only, you will miss plenty of target content in other languages.\n",
    "1. You should always have a baseline to compare to. In this case, you should probably run two accounts at the same time - one that watches food videos and one that doesn't. Then you compare the prevalence of food videos between these two.\n",
    "1. The WSJ audit was run on the mobile app rathern than on a desktop browser. Perhaps personalization works differently depending on which platform you're running your study."
   ]
  },
  {
   "cell_type": "markdown",
   "id": "f0928ba8",
   "metadata": {},
   "source": [
    "## Advanced Usage\n",
    "\n",
    "Above we highlighted some ideas to make your investigation or study more robust, some are methodoligical choices, but others are technical.\n",
    "\n",
    "There are some advanced use-cases and tasks you can perform with browser automation that include\n",
    "- X\n",
    "- Y\n",
    "- Z\n",
    "\n",
    "We may cover some or all of these topics in subsequent tutorials.\n",
    "\n",
    "Let us know what you're interested in learning more about!"
   ]
  },
  {
   "cell_type": "markdown",
   "id": "2fff2994",
   "metadata": {},
   "source": [
    "# Related Readings\n",
    "\n",
    "More tutorials on the same subject:<br>\n",
    "- \"[Using real browsers](https://scrapism.lav.io/using-real-browsers/)\" - Sam Lavigne\n",
    "\n",
    "Notable investigations and audits using browser automation:<br>\n",
    "- \"[Blacklight](https://themarkup.org/blacklight)\" - a tool by investigative journalist Surya Mattu<br>\n",
    "- \"[TheirTube](https://www.their.tube/)\" - an art and advocacy project by Tomo Kihara<br>\n",
    "- \"[Worlds Apart](https://www.nrk.no/osloogviken/xl/tiktok-doesn_t-show-the-war-in-ukraine-to-russian-users-1.15921522)\" - an investigation into TikTok by Henrik Bøe and Christian Nicolai Bjørke<br>\n",
    "- \"[WebSearcher](https://github.com/gitronald/WebSearcher)\" - A Python package by Ronald E. Robertson<br>\n",
    "- \"[Googling for Abortion](https://journalqd.org/article/view/2752)\" - Yelena Mejova, Tatiana Gracyk, and Ronald E. Robertson\n",
    "\n",
    "Please reach out with more examples to add."
   ]
  },
  {
   "cell_type": "markdown",
   "id": "a1db7cd9",
   "metadata": {},
   "source": [
    "# Citation\n",
    "\n",
    "To cite this chapter, please use the following BibTex entry:\n",
    "\n",
    "<pre>\n",
    "@incollection{inspect2023browser,\n",
    "  author    = {Sapiezynski, Piotr and Yin, Leon},\n",
    "  title     = {Browser Automation},\n",
    "  booktitle = {Inspect Element: A practitioner's guide to auditing algorithms and hypothesis-driven investigations},\n",
    "  year      = {2023},\n",
    "  editor    = {Yin, Leon and Sapiezynski, Piotr and Raji, Inioluwa Deborah},\n",
    "  note      = {\\url{https://inspectelement.org}}\n",
    "}\n",
    "</pre>\n"
   ]
  }
 ],
 "metadata": {
  "kernelspec": {
   "display_name": "Python 3 (ipykernel)",
   "language": "python",
   "name": "python3"
  },
  "language_info": {
   "codemirror_mode": {
    "name": "ipython",
    "version": 3
   },
   "file_extension": ".py",
   "mimetype": "text/x-python",
   "name": "python",
   "nbconvert_exporter": "python",
   "pygments_lexer": "ipython3",
   "version": "3.9.7"
  }
 },
 "nbformat": 4,
 "nbformat_minor": 5
}
