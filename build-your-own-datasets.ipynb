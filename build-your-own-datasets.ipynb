{
 "cells": [
  {
   "cell_type": "markdown",
   "id": "9cf5f22f",
   "metadata": {},
   "source": [
    "---\n",
    "title: \"Build your own datasets\"\n",
    "date-modified: \"03-10-2023\"\n",
    "href: data\n",
    "---"
   ]
  },
  {
   "cell_type": "markdown",
   "id": "525b9d65",
   "metadata": {},
   "source": [
    "Building your own dataset will enable you to \n",
    "\n",
    "This section of the guide will cover various strategies to collect datasets, as well as best-practices learned from data engineering-- the professionalized version of data collection."
   ]
  },
  {
   "cell_type": "code",
   "execution_count": null,
   "id": "64df06fd",
   "metadata": {},
   "outputs": [],
   "source": []
  }
 ],
 "metadata": {
  "kernelspec": {
   "display_name": "Python 3",
   "language": "python",
   "name": "python3"
  },
  "language_info": {
   "codemirror_mode": {
    "name": "ipython",
    "version": 3
   },
   "file_extension": ".py",
   "mimetype": "text/x-python",
   "name": "python",
   "nbconvert_exporter": "python",
   "pygments_lexer": "ipython3",
   "version": "3.7.3"
  }
 },
 "nbformat": 4,
 "nbformat_minor": 5
}
