{
 "cells": [
  {
   "cell_type": "markdown",
   "id": "14dbb3e2",
   "metadata": {},
   "source": [
    "---\n",
    "title: \"Build your own datasets\"\n",
    "date-modified: \"06-26-2023\"\n",
    "href: data\n",
    "---"
   ]
  },
  {
   "cell_type": "markdown",
   "id": "3ab5cb24",
   "metadata": {},
   "source": [
    "\"Finding stories in datasets\" is a misnomer in data journalism. Most open source datasets were created with a use case in mind. Seldom is that original use case compatible with a hypothesis you'll want to test, let alone a source that could lead any form of accountability.\n",
    "\n",
    "The same can be said for the academy. Analyzing existing datasets will not lead to drastically different conclusions, and can disproportionately inflate the importance of a topic, just because the data is readily available.\n",
    "\n",
    "Instead, you can build your own datasets by synthesizing publicly available data and records obtained from records requests.\n",
    "\n",
    "\n",
    "## Public data sources explained\n",
    "\n",
    "There's a difference between \"open data\" and \"publicly available data\":\n",
    "\n",
    "- **Open data** is typically already combined into a spreadsheet or database. Additionally, open data is usually documented, and easily available for the public to use. See for example, [climate data from NOAA](https://www.ncei.noaa.gov/cdo-web/), or the U.S. Census Bureau's [American Community Survey](https://www.census.gov/programs-surveys/acs/technical-documentation/code-lists.html).\n",
    "\n",
    "- **Publicly available data** lives on the open web, but has yet to be synthesized into a cohesive data set. It's up to you to collect these data points, responsibly. Search engines and many other technology companies (such as AI developers) depend on \"crawling\" these sources. \n",
    "\n",
    "At a minimum: only collect data with intention, do not overload websites' servers, and abstain from collecting personally identifiable information without user consent.\n",
    "\n",
    "## What to expect in this section?\n",
    "\n",
    "Publicly available data is a useful tool to audit and investigate technologies and their underlying business practices.\n",
    "\n",
    "The following sections will cover programmatic data collection and best-practices.\n",
    "\n",
    "We'll discuss data collection techniques such as:\n",
    "\n",
    "- [Finding undocumented APIs](/apis.html)<br>\n",
    "- [Browser automation](/browser_automation.html)<br>\n",
    "- App automation<br>\n",
    "- Parsing HTML and JSON\n",
    "\n",
    "Use these techniques to build datasets that allow you to test original hypotheses, design clear experiments, and understand the limitations that come along with the decisions you make."
   ]
  },
  {
   "cell_type": "markdown",
   "id": "6da08a7f",
   "metadata": {},
   "source": [
    "## Scraping is not a crime\n",
    "\n",
    "Although big tech giants and data brokers often [depend on web scraping](https://www.bloomberg.com/news/articles/2023-02-02/meta-was-scraping-sites-for-years-while-fighting-the-practice#xj4y7vzkg) for their business models, they seldom use that data in the public interest or release data that could be used to hold themselves accountable. \n",
    "\n",
    "This guide exists to teach you how to build evidence that leads to accountability. However, know that using data to investigate powerful entities is not without risks. \n",
    "\n",
    "If you're in the United States: know what violates the **Computer Fraud and Abuses Act (CFAA)**, which primarily prohibits unauthorized access to a computer network.\n",
    "\n",
    "Recent cases such as *[Van Buren v. United States](https://www.supremecourt.gov/opinions/20pdf/19-783_k53l.pdf)*, *[hiQ v Linkedin](https://www.fbm.com/publications/what-recent-rulings-in-hiq-v-linkedin-and-other-cases-say-about-the-legality-of-data-scraping/)*, and *[Sandvig v. Barr](https://www.aclu.org/documents/sandvig-v-barr-memorandum-opinion)* helped shape interpretations of CFAA for collecting public data with automated means, such as web scraping.\n",
    "\n",
    "Although the [legal landscape](https://www.eff.org/deeplinks/2022/04/scraping-public-websites-still-isnt-crime-court-appeals-declares) is changing to favor [web scraping in the public interest](https://themarkup.org/news/2020/12/03/why-web-scraping-is-vital-to-democracy), we still see governments and industry titans attempt to shut down accountability efforts. Take for example:\n",
    "\n",
    "- A journalist in Missouri was called a hacker by the governor and threatened prosecution for identifying a flaw that revealed social security numbers of school employees after [inspecting the page source](https://arstechnica.com/tech-policy/2021/10/viewing-website-html-code-is-not-illegal-or-hacking-prof-tells-missouri-gov/).\n",
    "- Academic researchers at NYU received a cease-and-desist notice [for crowdsourcing Political ads from Facebook](https://knightcolumbia.org/content/researchers-nyu-knight-institute-condemn-facebooks-effort-to-squelch-independent-research-about-misinformation).\n",
    "\n",
    "::: {.callout-note}\n",
    "Even if your activity does not fall within CFAA’s purview or violate any other law, online services can suspend your account(s) for breaking their terms of service. For that reason, be careful involving your personal/institutional accounts in web scraping, and volunteers' if you're crowdsourcing data.\n",
    ":::\n",
    "\n",
    "If you want more information on the topic, several of the field's top researchers explore the legal and ethical considerations in Section 4.1 of @Metaxa-book.\n",
    "\n",
    "**This is NOT legal advice.** Discuss your intentions and your plan to collect data with your editor and legal counsel (if you're a journalist), or your advisor and ethics board (if you're a researcher). \n",
    "\n",
    "Having institutional support is essential to make sure you are protected, and that you and your superiors are well-informed about the risks."
   ]
  },
  {
   "cell_type": "markdown",
   "id": "62642cb1",
   "metadata": {},
   "source": [
    "\n",
    "### Aaron Swartz\n",
    "\n",
    "Contemporary legal interpretations of CFAA and web scraping can be traced back to the late activist and engineer Aaron Swartz.\n",
    "\n",
    "In 2008, Swartz was investigated by the F.B.I. for [scraping 2.7 million public court records](https://www.aaronswartzday.org/pacer-project-explained/) from PACER and sharing it with the public. Swartz redistributed information that is in the public domain, but hosted by a central entity that charges fees for accessing that public information.\n",
    "\n",
    "The bureau concluded that Swartz did not violate any laws, but three years later, Swartz was arrested and [federally indicted](https://www.documentcloud.org/documents/217117-united-states-of-america-v-aaron-swartz) for mass-downloading academic articles from JSTOR using a laptop stored in an MIT closet.  Although neither JSTOR, MIT, nor state prosecutors chose to litigate, [federal prosecutors](https://en.wikipedia.org/wiki/Carmen_Ortiz#Prosecution_of_Aaron_Swartz) sought maximal penalties: Swartz faced $1 million in fees and 35 years in prison– charges that were deeply criticized by [lawyers](https://www.wbur.org/news/2013/01/16/gertner-criticizes-ortiz-swartz) and [experts](https://unhandled.com/2013/01/12/the-truth-about-aaron-swartzs-crime/). \n",
    "\n",
    "Swartz's prosecution and [untimely passing](https://boingboing.net/2013/01/12/rip-aaron-swartz.html) would have a chilling effect on web scraping in the academy for years to come. But attitudes are changing slowly, with journalists, researchers, and other public interest technologists receiving more legal and institutional protections to collect publicly available data.\n",
    "\n",
    "You can learn more about Aaron Swartz in the documentary “[The Internet’s Own Boy](https://archive.org/details/TheInternetsOwnBoyTheStoryOfAaronSwartz),“ directed by Brian Knappenberger, and on the website [AaronSwartzDay.org](https://www.aaronswartzday.org/about/)."
   ]
  },
  {
   "cell_type": "code",
   "execution_count": null,
   "id": "fbf68a47",
   "metadata": {},
   "outputs": [],
   "source": []
  }
 ],
 "metadata": {
  "kernelspec": {
   "display_name": "Python 3",
   "language": "python",
   "name": "python3"
  },
  "language_info": {
   "codemirror_mode": {
    "name": "ipython",
    "version": 3
   },
   "file_extension": ".py",
   "mimetype": "text/x-python",
   "name": "python",
   "nbconvert_exporter": "python",
   "pygments_lexer": "ipython3",
   "version": "3.7.3"
  }
 },
 "nbformat": 4,
 "nbformat_minor": 5
}
