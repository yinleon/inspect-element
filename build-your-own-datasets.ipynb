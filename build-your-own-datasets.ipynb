{
 "cells": [
  {
   "cell_type": "markdown",
   "id": "eb3bc74e",
   "metadata": {},
   "source": [
    "---\n",
    "title: \"Build your own datasets\"\n",
    "date-modified: \"02-14-2023\"\n",
    "href: data\n",
    "---"
   ]
  },
  {
   "cell_type": "markdown",
   "id": "c9826e98",
   "metadata": {},
   "source": [
    "This section of the guide will cover programmatic data collection and best-practices.\n",
    "\n",
    "Whether you're doing a one-time \"snapshot\" data collection, or a longer \"persistent\" collection effort, the methods in this section and the accompanying housekeeping tips will keep data flowin.\n",
    "\n",
    "We'll discuss various web scraping techniquies such as:\n",
    "\n",
    "- [Finding hidden APIs](/apis.html)<br>\n",
    "- Headless browsing<br>\n",
    "- Parsing HTML<br>"
   ]
  },
  {
   "cell_type": "code",
   "execution_count": null,
   "id": "085584f5",
   "metadata": {},
   "outputs": [],
   "source": []
  }
 ],
 "metadata": {
  "kernelspec": {
   "display_name": "Python 3",
   "language": "python",
   "name": "python3"
  },
  "language_info": {
   "codemirror_mode": {
    "name": "ipython",
    "version": 3
   },
   "file_extension": ".py",
   "mimetype": "text/x-python",
   "name": "python",
   "nbconvert_exporter": "python",
   "pygments_lexer": "ipython3",
   "version": "3.7.3"
  }
 },
 "nbformat": 4,
 "nbformat_minor": 5
}
