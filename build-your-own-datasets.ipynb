{
 "cells": [
  {
   "cell_type": "markdown",
   "id": "b9b84b88",
   "metadata": {},
   "source": [
    "---\n",
    "title: \"Build your own datasets\"\n",
    "date-modified: \"03-10-2023\"\n",
    "href: data\n",
    "---"
   ]
  },
  {
   "cell_type": "markdown",
   "id": "706de74d",
   "metadata": {},
   "source": [
    "This section of the guide will cover programmatic data collection, and best-practices.\n",
    "\n",
    "Whether you're doing a one-time \"snapshot\" collection for a small window of time, or a longer \"persistent\" collection effort, the methods of this section and housekeeping tips will help keep the data flowing into neat rows.\n",
    "\n",
    "We'll discuss various web scraping techniquies such as:\n",
    "\n",
    "- [Finding undocumented APIs](/undocumented-apis.html)<br>\n",
    "- Headless browsing<br>\n",
    "- Parsing HTML<br>"
   ]
  },
  {
   "cell_type": "code",
   "execution_count": null,
   "id": "6c16f4af",
   "metadata": {},
   "outputs": [],
   "source": []
  }
 ],
 "metadata": {
  "kernelspec": {
   "display_name": "Python 3",
   "language": "python",
   "name": "python3"
  },
  "language_info": {
   "codemirror_mode": {
    "name": "ipython",
    "version": 3
   },
   "file_extension": ".py",
   "mimetype": "text/x-python",
   "name": "python",
   "nbconvert_exporter": "python",
   "pygments_lexer": "ipython3",
   "version": "3.7.3"
  }
 },
 "nbformat": 4,
 "nbformat_minor": 5
}
