{
 "cells": [
  {
   "cell_type": "raw",
   "id": "935c1c01",
   "metadata": {
    "vscode": {
     "languageId": "raw"
    }
   },
   "source": [
    "---\n",
    "title: \"Live Scraping With R\"\n",
    "pagetitle: \"Live Scraping With R\"\n",
    "description-meta: \"Introduction and simple examples for live web scraping in R.\"\n",
    "description-title: \"Introduction and simple examples for live web scraping in R.\"\n",
    "author: \"Declan Bradley\"\n",
    "author-meta: \"Declan Bradley\"\n",
    "date: \"10-04-2024\"\n",
    "date-modified: \"10-04-2024\"\n",
    "execute: \n",
    "  enabled: false\n",
    "keywords: data collection, web scraping, browser automation\n",
    "twitter-card:\n",
    "  title: Live Scraping With R\n",
    "  description: Introduction and simple examples for live web scraping in R.\n",
    "  image: assets/inspect-element-logo.jpg\n",
    "open-graph:\n",
    "  title: Live Scraping With R\n",
    "  description: Introduction, case studies, and exercises for automating browsers.\n",
    "  locale: us_EN\n",
    "  site-name: Inspect Element\n",
    "  image: assets/inspect-element-logo.jpg\n",
    "href: live_scraping\n",
    "---"
   ]
  },
  {
   "cell_type": "code",
   "execution_count": null,
   "id": "0b1cac78",
   "metadata": {
    "vscode": {
     "languageId": "r"
    }
   },
   "outputs": [],
   "source": [
    "#| echo: false\n",
    "from utils import build_buttons\n",
    "from importlib import reload\n",
    "import utils\n",
    "reload(utils)\n",
    "utils.build_buttons(link= 'live_scraping', \n",
    "                    github= 'https://github.com/yinleon/inspect-element/blob/main/browser_automation.ipynb',\n",
    "                    colab = False,\n",
    "                    citation= True)"
   ]
  },
  {
   "cell_type": "markdown",
   "id": "78d95dbb",
   "metadata": {},
   "source": [
    "Live web scraping is a handy tool in any data journalist's toolbox — one more powerful than traditional scraping, but easier to implement than browser automation with Selenium or Playwright.\n",
    "\n",
    "In this tutorial, I'll cover simple live scraping techniques using the [rvest](https://rvest.tidyverse.org/reference/read_html_live.html) library of the R programming language. No knowledge of R is assumed, but those without any prior familiarity with the language may consider starting with Python-based browser automation.\n",
    "\n",
    "::: {.callout-note}\n",
    "The R language can be more difficult than Python for beginning scrapers, and parts of the rvest library covered here are currently in the **experimental** stage of their lifecycle — meaning that they are actively under development and may contain bugs. While I find the tools they provide elegant and powerful compared to their Python equivalents, everything done here can be done equally using Leon's excellent [browser automation tutorial](https://inspectelement.org/browser_automation.html).\n",
    ":::"
   ]
  },
  {
   "cell_type": "markdown",
   "id": "3ba5c004",
   "metadata": {},
   "source": [
    "# Intro\n",
    "Browser automation can feel like magic, but it often requires thinking about a page from the perspective of a browser. R takes a human-centered approach. Behind the scenes, the code we write here will run an automated browser much like those demonstrated in the [browser automation tutorial](https://inspectelement.org/browser_automation.html). But, unless called for, it will remain invisible, and we'll be able to read in data more intuitively.\n",
    "\n",
    "## Installations\n",
    "Before getting started, make sure you have a copy of the Google Chrome browser installed in order to run Chromote. If using the R language for the first time, install the latest version of R [here](https://www.r-project.org/). I recommend also installing [RStudio](https://posit.co/download/rstudio-desktop/), an R-focused IDE."
   ]
  },
  {
   "cell_type": "markdown",
   "id": "91ebd987",
   "metadata": {},
   "source": [
    "# Building a Scraper\n",
    "## Getting Started\n",
    "To get started, do one of the following:\n",
    "\n",
    "1) Open RStudio (recommended) \n",
    "\n",
    "    - Create a new project titled live-scraping-demo \n",
    "\n",
    "    - Create an R script called scrape.R\n",
    "\n",
    "2) Or, open a new Jupyter Notebook and create an R cell\n",
    "\n",
    "3) Or, (Mac users) open an R session from the Terminal by typing the 'R' command\n",
    "\n",
    "We're now ready to run our first commands, which will install the libraries we need to complete the rest of the project. These libraries are large packages of pre-written code, largely created by Posit Chief Scientist and R developer Hadley Wickham. This tutorial is in part based on Hadley's excellent NICAR session on live scraping, which you can find [here](https://github.com/hadley/web-scraping)."
   ]
  },
  {
   "cell_type": "code",
   "execution_count": null,
   "id": "eef46c0b",
   "metadata": {
    "vscode": {
     "languageId": "r"
    }
   },
   "outputs": [],
   "source": [
    "# General tools for the R language\n",
    "install.packages(\"tidyverse\")\n",
    "# Web scraping tools\n",
    "install.packages(\"rvest\")"
   ]
  },
  {
   "cell_type": "markdown",
   "id": "2e3af12d",
   "metadata": {},
   "source": [
    "To access these libraries, we'll have to call them from the body of our R script. Add these lines to your scrape.R file."
   ]
  },
  {
   "cell_type": "code",
   "execution_count": null,
   "id": "0a776fe4",
   "metadata": {
    "vscode": {
     "languageId": "r"
    }
   },
   "outputs": [],
   "source": [
    "library(tidyverse)\n",
    "library(rvest)"
   ]
  },
  {
   "cell_type": "markdown",
   "id": "2450a5f0",
   "metadata": {},
   "source": [
    "Now that we have the libraries we need, we're ready to start scraping. For demonstration purposes, we'll be collecting data from the [*Forbes* rankings of U.S. colleges](https://www.forbes.com/top-colleges/), but these same techniques can be applied to a wide range of sites. Let's start with the simplest possible scraper: specifying a URL, and reading in that page so that we can work with it. We'll progressively revise this code throughout the tutorial until we've collected all the data we need."
   ]
  },
  {
   "cell_type": "code",
   "execution_count": 137,
   "id": "67fe6205",
   "metadata": {
    "vscode": {
     "languageId": "r"
    }
   },
   "outputs": [],
   "source": [
    "# retrieve the page\n",
    "page <- read_html(\"https://www.forbes.com/top-colleges/\")"
   ]
  },
  {
   "cell_type": "markdown",
   "id": "f0535f03",
   "metadata": {},
   "source": [
    "Let's print out the first few lines of the page to verify that we have the right one."
   ]
  },
  {
   "cell_type": "code",
   "execution_count": 138,
   "id": "6c6349b4",
   "metadata": {
    "vscode": {
     "languageId": "r"
    }
   },
   "outputs": [
    {
     "data": {
      "text/plain": [
       "{html_document}\n",
       "<html>\n",
       "[1] <head>\\n<meta http-equiv=\"Content-Type\" content=\"text/html; charset=UTF-8 ...\n",
       "[2] <body>\\n<div id=\"__next\">\\n<div class=\"ForbesHeader_mainHeader__XuFcZ\"><h ..."
      ]
     },
     "metadata": {},
     "output_type": "display_data"
    }
   ],
   "source": [
    "page"
   ]
  },
  {
   "cell_type": "markdown",
   "id": "0dd46d2f",
   "metadata": {},
   "source": [
    "Everything looks good here. Time to start retrieving our data.\n",
    "\n",
    "## Retrieving the First Table\n",
    "Before writing any more code, we'll need to identify the HTML elements that contain our data. Open your browser's developer tools. (In most standard browsers, this can be done by clicking the dot menu in the upper right and selecting \"Developer Tools.\") I recommend keeping the developer panel open in a split-screen window in order to compare the page source to its visible elements. Using the selector tool in the upper left, click on the central table that contains college listings.\n",
    "\n",
    "<figure>\n",
    "<img src=\"assets/forbes_table-selection.png\"\n",
    "    alt=\"https://themarkup.org/google-the-giant/2020/07/28/how-we-analyzed-google-search-results-web-assay-parsing-tool#google-search-flow\" \n",
    "     style=\"width:100%\" \n",
    "    />\n",
    "</figure>\n",
    "\n",
    "The table we want has the class `ListTable_listTable__-N5U5`. Typically, it's best practice to use the most specific tag available when selecting elements to avoid mixups. There are tradeoffs to that approach, however. The designation `-N5U5` looks largely random — if Forbes updates this page to use some other signifier, our code will stop working. \n",
    "\n",
    "Instead, I'll recommend a simpler approach. Since the table we're interested in is the only one on the page (that we can see), we can simply select the tag `table`. Let's try it."
   ]
  },
  {
   "cell_type": "code",
   "execution_count": 139,
   "id": "11ba83f3",
   "metadata": {
    "vscode": {
     "languageId": "r"
    }
   },
   "outputs": [
    {
     "data": {
      "text/plain": [
       "{xml_nodeset (0)}"
      ]
     },
     "metadata": {},
     "output_type": "display_data"
    }
   ],
   "source": [
    "page |> html_nodes(\"table\")"
   ]
  },
  {
   "cell_type": "markdown",
   "id": "87491506",
   "metadata": {},
   "source": [
    "The code returns no results. Why? Despite the fact that we can see the table in the browser, it's not present in the HTML we accessed with the read_html command. That's because this is a \"live\", or dynamic, page, one that renders significant parts of its layout — including our data — using JavaScript. Normally, scraping such a page would require browser automation. But the power of rvest will allow us to fix the problem by changing only one command."
   ]
  },
  {
   "cell_type": "code",
   "execution_count": 140,
   "id": "f85af4f5",
   "metadata": {
    "vscode": {
     "languageId": "r"
    }
   },
   "outputs": [
    {
     "data": {
      "text/plain": [
       "{xml_nodeset (1)}\n",
       "[1] <table class=\"ListTable_listTable__-N5U5\">\\n<thead><tr>\\n<th class=\"ListT ..."
      ]
     },
     "metadata": {},
     "output_type": "display_data"
    }
   ],
   "source": [
    "page <- read_html_live(\"https://www.forbes.com/top-colleges/\")\n",
    "page |> html_nodes(\"table\")"
   ]
  },
  {
   "cell_type": "markdown",
   "id": "2c036096",
   "metadata": {},
   "source": [
    "When we use the experimental read_html_live command instead of the traditional read_html, the code works as expected. We can now access the table, and all other data on this dynamic page, as a human user would. Let's save the data we retrieved as an R dataframe."
   ]
  },
  {
   "cell_type": "code",
   "execution_count": 141,
   "id": "2eeded50",
   "metadata": {
    "vscode": {
     "languageId": "r"
    }
   },
   "outputs": [],
   "source": [
    "df <- page |> html_node(\"table\") |> html_table()"
   ]
  },
  {
   "cell_type": "markdown",
   "id": "fbffa144",
   "metadata": {},
   "source": [
    "We've now retrieved the data we set out to obtain in only five lines. The complete code for this scraper can be written as:"
   ]
  },
  {
   "cell_type": "code",
   "execution_count": 142,
   "id": "6e72fddc",
   "metadata": {
    "vscode": {
     "languageId": "r"
    }
   },
   "outputs": [],
   "source": [
    "library(tidyverse)\n",
    "library(rvest)\n",
    "page <- read_html_live(\"https://www.forbes.com/top-colleges/\")\n",
    "Sys.sleep(1)\n",
    "df <- page |> html_node(\"table\") |> html_table()"
   ]
  },
  {
   "cell_type": "markdown",
   "id": "758db755",
   "metadata": {},
   "source": [
    "## Data Cleaning\n",
    "Unfortunately, the table we've retrieved isn't easy to work with. While largely correct, it contains the long-form callouts that *Forbes* includes for some institutions, such as Princeton. While these are interesting, they don't belong in our dataframe. Let's filter them out.\n",
    "\n",
    "There are many possible approaches to removing junk data, but we'll seek the simplest. By closely examining the table, we can see that the listings we're interested in all have a numeric rank in the 'Rank' column, while the callout has a rank of NA. Let's filter the dataframe to only include listings with a non-NA rank. We'll use the filter command, which returns the rows of a dataframe for which the provided expression is `True`. We'll specify the Rank column, and require that the Rank value for each row evaluate to some non-NA value."
   ]
  },
  {
   "cell_type": "code",
   "execution_count": 143,
   "id": "b329f738",
   "metadata": {
    "vscode": {
     "languageId": "r"
    }
   },
   "outputs": [],
   "source": [
    "df <- df |> filter(!is.na(Rank))"
   ]
  },
  {
   "cell_type": "markdown",
   "id": "eadd5404",
   "metadata": {},
   "source": [
    "## Retrieving all the Tables\n",
    "Our data table is now complete. Unfortunately, we've only collected the first 50 entries from *Forbes'* list. The *Forbes* site is paginated, meaning we'll have to click to a new page to get more data. Luckily, rvest provides a simple syntax for this."
   ]
  },
  {
   "cell_type": "code",
   "execution_count": 144,
   "id": "c04aa31f",
   "metadata": {
    "vscode": {
     "languageId": "r"
    }
   },
   "outputs": [],
   "source": [
    "page$click('button[aria-label=\"Next\"]')"
   ]
  },
  {
   "cell_type": "markdown",
   "id": "669597e8",
   "metadata": {},
   "source": [
    "With only one line of code, we can select the 'Next' button at the bottom of the page and click it. If we rerun our code for scraping the data table, we'll see that we're now collecting the next page of data."
   ]
  },
  {
   "cell_type": "code",
   "execution_count": 145,
   "id": "eb033bb6",
   "metadata": {
    "vscode": {
     "languageId": "r"
    }
   },
   "outputs": [
    {
     "data": {
      "text/html": [
       "<table class=\"dataframe\">\n",
       "<caption>A tibble: 6 × 8</caption>\n",
       "<thead>\n",
       "\t<tr><th scope=col>Rank</th><th scope=col>Name</th><th scope=col>State</th><th scope=col>Type</th><th scope=col>Av. Grant Aid</th><th scope=col>Av. Debt</th><th scope=col>Median 10-year Salary</th><th scope=col>Financial Grade</th></tr>\n",
       "\t<tr><th scope=col>&lt;int&gt;</th><th scope=col>&lt;chr&gt;</th><th scope=col>&lt;chr&gt;</th><th scope=col>&lt;chr&gt;</th><th scope=col>&lt;chr&gt;</th><th scope=col>&lt;chr&gt;</th><th scope=col>&lt;chr&gt;</th><th scope=col>&lt;chr&gt;</th></tr>\n",
       "</thead>\n",
       "<tbody>\n",
       "\t<tr><td>51</td><td>Middlebury College </td><td>VT</td><td>Private not-for-profit</td><td>$56,639</td><td>$8,541 </td><td>$139,500</td><td>A-</td></tr>\n",
       "\t<tr><td>52</td><td>Tufts University   </td><td>MA</td><td>Private not-for-profit</td><td>$51,613</td><td>$7,034 </td><td>$144,400</td><td>B+</td></tr>\n",
       "\t<tr><td>53</td><td>Boston University  </td><td>MA</td><td>Private not-for-profit</td><td>$51,565</td><td>$10,425</td><td>$144,400</td><td>B </td></tr>\n",
       "\t<tr><td>54</td><td>Wesleyan University</td><td>CT</td><td>Private not-for-profit</td><td>$59,825</td><td>$9,716 </td><td>$149,200</td><td>B+</td></tr>\n",
       "\t<tr><td>55</td><td><span style=white-space:pre-wrap>William &amp; Mary     </span></td><td>VA</td><td><span style=white-space:pre-wrap>Public                </span></td><td>$15,134</td><td>$8,882 </td><td>$134,200</td><td><span style=white-space:pre-wrap>  </span></td></tr>\n",
       "\t<tr><td>56</td><td>Barnard College    </td><td>NY</td><td>Private not-for-profit</td><td>$53,817</td><td>$7,339 </td><td>$149,300</td><td>A-</td></tr>\n",
       "</tbody>\n",
       "</table>\n"
      ],
      "text/latex": [
       "A tibble: 6 × 8\n",
       "\\begin{tabular}{llllllll}\n",
       " Rank & Name & State & Type & Av. Grant Aid & Av. Debt & Median 10-year Salary & Financial Grade\\\\\n",
       " <int> & <chr> & <chr> & <chr> & <chr> & <chr> & <chr> & <chr>\\\\\n",
       "\\hline\n",
       "\t 51 & Middlebury College  & VT & Private not-for-profit & \\$56,639 & \\$8,541  & \\$139,500 & A-\\\\\n",
       "\t 52 & Tufts University    & MA & Private not-for-profit & \\$51,613 & \\$7,034  & \\$144,400 & B+\\\\\n",
       "\t 53 & Boston University   & MA & Private not-for-profit & \\$51,565 & \\$10,425 & \\$144,400 & B \\\\\n",
       "\t 54 & Wesleyan University & CT & Private not-for-profit & \\$59,825 & \\$9,716  & \\$149,200 & B+\\\\\n",
       "\t 55 & William \\& Mary      & VA & Public                 & \\$15,134 & \\$8,882  & \\$134,200 &   \\\\\n",
       "\t 56 & Barnard College     & NY & Private not-for-profit & \\$53,817 & \\$7,339  & \\$149,300 & A-\\\\\n",
       "\\end{tabular}\n"
      ],
      "text/markdown": [
       "\n",
       "A tibble: 6 × 8\n",
       "\n",
       "| Rank &lt;int&gt; | Name &lt;chr&gt; | State &lt;chr&gt; | Type &lt;chr&gt; | Av. Grant Aid &lt;chr&gt; | Av. Debt &lt;chr&gt; | Median 10-year Salary &lt;chr&gt; | Financial Grade &lt;chr&gt; |\n",
       "|---|---|---|---|---|---|---|---|\n",
       "| 51 | Middlebury College  | VT | Private not-for-profit | $56,639 | $8,541  | $139,500 | A- |\n",
       "| 52 | Tufts University    | MA | Private not-for-profit | $51,613 | $7,034  | $144,400 | B+ |\n",
       "| 53 | Boston University   | MA | Private not-for-profit | $51,565 | $10,425 | $144,400 | B  |\n",
       "| 54 | Wesleyan University | CT | Private not-for-profit | $59,825 | $9,716  | $149,200 | B+ |\n",
       "| 55 | William &amp; Mary      | VA | Public                 | $15,134 | $8,882  | $134,200 | <!----> |\n",
       "| 56 | Barnard College     | NY | Private not-for-profit | $53,817 | $7,339  | $149,300 | A- |\n",
       "\n"
      ],
      "text/plain": [
       "  Rank Name                State Type                   Av. Grant Aid Av. Debt\n",
       "1 51   Middlebury College  VT    Private not-for-profit $56,639       $8,541  \n",
       "2 52   Tufts University    MA    Private not-for-profit $51,613       $7,034  \n",
       "3 53   Boston University   MA    Private not-for-profit $51,565       $10,425 \n",
       "4 54   Wesleyan University CT    Private not-for-profit $59,825       $9,716  \n",
       "5 55   William & Mary      VA    Public                 $15,134       $8,882  \n",
       "6 56   Barnard College     NY    Private not-for-profit $53,817       $7,339  \n",
       "  Median 10-year Salary Financial Grade\n",
       "1 $139,500              A-             \n",
       "2 $144,400              B+             \n",
       "3 $144,400              B              \n",
       "4 $149,200              B+             \n",
       "5 $134,200                             \n",
       "6 $149,300              A-             "
      ]
     },
     "metadata": {},
     "output_type": "display_data"
    }
   ],
   "source": [
    "page |> html_node(\"table\") |> html_table() |> filter(!is.na(Rank)) |> head()"
   ]
  },
  {
   "cell_type": "markdown",
   "id": "6e4bcf86",
   "metadata": {},
   "source": [
    "Unfortunately, our new data table has the same data quality problems as the first one. Let's define a simple function for collecting ranking data from a page so that we don't have to repeat ourselves."
   ]
  },
  {
   "cell_type": "code",
   "execution_count": 146,
   "id": "5bf30c45",
   "metadata": {
    "vscode": {
     "languageId": "r"
    }
   },
   "outputs": [
    {
     "data": {
      "text/html": [
       "<table class=\"dataframe\">\n",
       "<caption>A tibble: 6 × 8</caption>\n",
       "<thead>\n",
       "\t<tr><th scope=col>Rank</th><th scope=col>Name</th><th scope=col>State</th><th scope=col>Type</th><th scope=col>Av. Grant Aid</th><th scope=col>Av. Debt</th><th scope=col>Median 10-year Salary</th><th scope=col>Financial Grade</th></tr>\n",
       "\t<tr><th scope=col>&lt;int&gt;</th><th scope=col>&lt;chr&gt;</th><th scope=col>&lt;chr&gt;</th><th scope=col>&lt;chr&gt;</th><th scope=col>&lt;chr&gt;</th><th scope=col>&lt;chr&gt;</th><th scope=col>&lt;chr&gt;</th><th scope=col>&lt;chr&gt;</th></tr>\n",
       "</thead>\n",
       "<tbody>\n",
       "\t<tr><td>51</td><td>Middlebury College </td><td>VT</td><td>Private not-for-profit</td><td>$56,639</td><td>$8,541 </td><td>$139,500</td><td>A-</td></tr>\n",
       "\t<tr><td>52</td><td>Tufts University   </td><td>MA</td><td>Private not-for-profit</td><td>$51,613</td><td>$7,034 </td><td>$144,400</td><td>B+</td></tr>\n",
       "\t<tr><td>53</td><td>Boston University  </td><td>MA</td><td>Private not-for-profit</td><td>$51,565</td><td>$10,425</td><td>$144,400</td><td>B </td></tr>\n",
       "\t<tr><td>54</td><td>Wesleyan University</td><td>CT</td><td>Private not-for-profit</td><td>$59,825</td><td>$9,716 </td><td>$149,200</td><td>B+</td></tr>\n",
       "\t<tr><td>55</td><td><span style=white-space:pre-wrap>William &amp; Mary     </span></td><td>VA</td><td><span style=white-space:pre-wrap>Public                </span></td><td>$15,134</td><td>$8,882 </td><td>$134,200</td><td><span style=white-space:pre-wrap>  </span></td></tr>\n",
       "\t<tr><td>56</td><td>Barnard College    </td><td>NY</td><td>Private not-for-profit</td><td>$53,817</td><td>$7,339 </td><td>$149,300</td><td>A-</td></tr>\n",
       "</tbody>\n",
       "</table>\n"
      ],
      "text/latex": [
       "A tibble: 6 × 8\n",
       "\\begin{tabular}{llllllll}\n",
       " Rank & Name & State & Type & Av. Grant Aid & Av. Debt & Median 10-year Salary & Financial Grade\\\\\n",
       " <int> & <chr> & <chr> & <chr> & <chr> & <chr> & <chr> & <chr>\\\\\n",
       "\\hline\n",
       "\t 51 & Middlebury College  & VT & Private not-for-profit & \\$56,639 & \\$8,541  & \\$139,500 & A-\\\\\n",
       "\t 52 & Tufts University    & MA & Private not-for-profit & \\$51,613 & \\$7,034  & \\$144,400 & B+\\\\\n",
       "\t 53 & Boston University   & MA & Private not-for-profit & \\$51,565 & \\$10,425 & \\$144,400 & B \\\\\n",
       "\t 54 & Wesleyan University & CT & Private not-for-profit & \\$59,825 & \\$9,716  & \\$149,200 & B+\\\\\n",
       "\t 55 & William \\& Mary      & VA & Public                 & \\$15,134 & \\$8,882  & \\$134,200 &   \\\\\n",
       "\t 56 & Barnard College     & NY & Private not-for-profit & \\$53,817 & \\$7,339  & \\$149,300 & A-\\\\\n",
       "\\end{tabular}\n"
      ],
      "text/markdown": [
       "\n",
       "A tibble: 6 × 8\n",
       "\n",
       "| Rank &lt;int&gt; | Name &lt;chr&gt; | State &lt;chr&gt; | Type &lt;chr&gt; | Av. Grant Aid &lt;chr&gt; | Av. Debt &lt;chr&gt; | Median 10-year Salary &lt;chr&gt; | Financial Grade &lt;chr&gt; |\n",
       "|---|---|---|---|---|---|---|---|\n",
       "| 51 | Middlebury College  | VT | Private not-for-profit | $56,639 | $8,541  | $139,500 | A- |\n",
       "| 52 | Tufts University    | MA | Private not-for-profit | $51,613 | $7,034  | $144,400 | B+ |\n",
       "| 53 | Boston University   | MA | Private not-for-profit | $51,565 | $10,425 | $144,400 | B  |\n",
       "| 54 | Wesleyan University | CT | Private not-for-profit | $59,825 | $9,716  | $149,200 | B+ |\n",
       "| 55 | William &amp; Mary      | VA | Public                 | $15,134 | $8,882  | $134,200 | <!----> |\n",
       "| 56 | Barnard College     | NY | Private not-for-profit | $53,817 | $7,339  | $149,300 | A- |\n",
       "\n"
      ],
      "text/plain": [
       "  Rank Name                State Type                   Av. Grant Aid Av. Debt\n",
       "1 51   Middlebury College  VT    Private not-for-profit $56,639       $8,541  \n",
       "2 52   Tufts University    MA    Private not-for-profit $51,613       $7,034  \n",
       "3 53   Boston University   MA    Private not-for-profit $51,565       $10,425 \n",
       "4 54   Wesleyan University CT    Private not-for-profit $59,825       $9,716  \n",
       "5 55   William & Mary      VA    Public                 $15,134       $8,882  \n",
       "6 56   Barnard College     NY    Private not-for-profit $53,817       $7,339  \n",
       "  Median 10-year Salary Financial Grade\n",
       "1 $139,500              A-             \n",
       "2 $144,400              B+             \n",
       "3 $144,400              B              \n",
       "4 $149,200              B+             \n",
       "5 $134,200                             \n",
       "6 $149,300              A-             "
      ]
     },
     "metadata": {},
     "output_type": "display_data"
    }
   ],
   "source": [
    "get_college_rankings <- function(page) {\n",
    "    df <- page |> html_node(\"table\") |> html_table()\n",
    "    df <- df |> filter(!is.na(Rank))\n",
    "    return(df)\n",
    "}\n",
    "get_college_rankings(page) |> head()"
   ]
  },
  {
   "cell_type": "markdown",
   "id": "f285e443",
   "metadata": {},
   "source": [
    "We can now retrieve data from each page of results with only one command. Let's use that new shortcut to scrape in all ten pages of data. Start by scraping in the first page."
   ]
  },
  {
   "cell_type": "code",
   "execution_count": 109,
   "id": "1cfc0f24",
   "metadata": {
    "vscode": {
     "languageId": "r"
    }
   },
   "outputs": [],
   "source": [
    "page <- read_html_live(\"https://www.forbes.com/top-colleges/\")\n",
    "Sys.sleep(1)\n",
    "df <- get_college_rankings(page)"
   ]
  },
  {
   "cell_type": "markdown",
   "id": "b39c50d0",
   "metadata": {},
   "source": [
    "Now, we'll loop through the remaining pages, adding each new dataset to the main table before clicking the next button. We'll stop the first time we find that the next button has been disabled, indicating that there are no more pages available."
   ]
  },
  {
   "cell_type": "code",
   "execution_count": 147,
   "id": "3498f2ad",
   "metadata": {
    "vscode": {
     "languageId": "r"
    }
   },
   "outputs": [],
   "source": [
    "while (is.na(page |> html_node('button[aria-label=\"Next\"]') |> html_attr(\"disabled\"))) {\n",
    "    page$click('button[aria-label=\"Next\"]')\n",
    "    Sys.sleep(1)\n",
    "    df <- rbind(df, get_college_rankings(page))\n",
    "}"
   ]
  },
  {
   "cell_type": "markdown",
   "id": "731c0676",
   "metadata": {},
   "source": [
    "As a final step, we'll export the data we collected to a CSV file for later use. Our complete program for scraping the *Forbes* college rankings can be written in only fifteen lines:"
   ]
  },
  {
   "cell_type": "code",
   "execution_count": 132,
   "id": "1ef779ba",
   "metadata": {
    "vscode": {
     "languageId": "r"
    }
   },
   "outputs": [],
   "source": [
    "library(tidyverse)\n",
    "library(rvest)\n",
    "\n",
    "get_college_rankings <- function(page) {\n",
    "    df <- page |> html_node(\"table\") |> html_table()\n",
    "    df <- df |> filter(!is.na(Rank))\n",
    "    return(df)\n",
    "}\n",
    "\n",
    "page <- read_html_live(\"https://www.forbes.com/top-colleges/\")\n",
    "Sys.sleep(1)\n",
    "df <- get_college_rankings(page)\n",
    "\n",
    "while (is.na(page |> html_node('button[aria-label=\"Next\"]') |> html_attr(\"disabled\"))) {\n",
    "    page$click('button[aria-label=\"Next\"]')\n",
    "    Sys.sleep(1)\n",
    "    df <- rbind(df, get_college_rankings(page))\n",
    "}\n",
    "\n",
    "write_csv(df,\"forbes-rankings.csv\")"
   ]
  },
  {
   "cell_type": "markdown",
   "id": "a7359b5c",
   "metadata": {},
   "source": [
    "As I wrote above, read_html_live is an experimental tool, and more features are in active development. For more information, see Hadley Wickham's documentation, including [a summary of live scraping in rvest](https://rvest.tidyverse.org/reference/read_html_live.html) and [an overview of commands for interacting with a live page's UI](https://rvest.tidyverse.org/reference/LiveHTML.html). Feel free to reach out to me at [declanrjb@gmail.com](mailto:declanrjb@gmail.com) with any questions or suggestions for future tutorials."
   ]
  },
  {
   "cell_type": "markdown",
   "id": "0a3fea01",
   "metadata": {},
   "source": [
    "# Citation\n",
    "\n",
    "To cite this chapter, please use the following BibTex entry:\n",
    "\n",
    "<pre>\n",
    "@incollection{inspect2023browser,\n",
    "  author    = {Bradley, Declan},\n",
    "  title     = {Live Scraping With R},\n",
    "  booktitle = {Inspect Element: A practitioner's guide to auditing algorithms and hypothesis-driven investigations},\n",
    "  year      = {2024},\n",
    "  editor    = {Yin, Leon and Sapiezynski, Piotr and Raji, Inioluwa Deborah},\n",
    "  note      = {\\url{https://inspectelement.org}}\n",
    "}\n",
    "</pre>\n",
    "\n",
    "## Acknowledgements\n",
    "\n",
    "Thank you to Leon Yin for publishing this tutorial, and to Hadley Wickham for developing these tools and taking the time to teach journalists like me how to use them."
   ]
  }
 ],
 "metadata": {
  "kernelspec": {
   "display_name": "R",
   "language": "R",
   "name": "ir"
  },
  "language_info": {
   "codemirror_mode": "r",
   "file_extension": ".r",
   "mimetype": "text/x-r-source",
   "name": "R",
   "pygments_lexer": "r",
   "version": "4.4.1"
  }
 },
 "nbformat": 4,
 "nbformat_minor": 5
}
