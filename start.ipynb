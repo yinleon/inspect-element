{
 "cells": [
  {
   "cell_type": "markdown",
   "id": "b359e27a",
   "metadata": {},
   "source": [
    "---\n",
    "title: \"Planning Data Investigations\"\n",
    "pagetitle: \"Planning Data Investigations\"\n",
    "description-meta: \"Start here\"\n",
    "description-title: \"Start here\"\n",
    "author: \"Leon Yin\"\n",
    "author-meta: \"Leon Yin\"\n",
    "date: \"08-13-2023\"\n",
    "bibliography: references.bib\n",
    "execute: \n",
    "  enabled: false\n",
    "keywords: pitching stories, experiment planning\n",
    "twitter-card:\n",
    "  title: \"Planning Data Investigations\"\n",
    "  description: \"How to keep tabs on a complicated data experiment\"\n",
    "  image: assets/inspect-element-logo.jpg\n",
    "open-graph:\n",
    "  title: \"Planning Data Investigations\"\n",
    "  description: \"How to keep tabs on a complicated data experiment\"\n",
    "  locale: us_EN\n",
    "  site-name: Inspect Element\n",
    "  image: assets/inspect-element-logo.jpg\n",
    "href: start\n",
    "---"
   ]
  },
  {
   "cell_type": "markdown",
   "id": "4e735c84",
   "metadata": {},
   "source": [
    "Data investigations can get complicated and you might not know where to start.\n",
    "\n",
    "In this section we'll introduce you to a planning checklist that we use for our own investigations.\n",
    "\n",
    "The checklist will help you choose an accountability angle, identify tangible harms, and form a testable hypothesis. \n",
    "\n",
    "Most importantly, the checklist covers questions you'll need to answer in order to develop a defensible methodology and a bullet-proof story. \n",
    "\n",
    "Your readers and future self will thank you for being forthright about your investigation's vulnerabilities. Moreover, you'll get a sense of the experiment's feasibility before you invest too much time into it.\n",
    "\n",
    "Although grim, the checklist can help expedite the decision to kill a story. Killing a story is a difficult process-- there's even a podcast on the topic called _[Killed Stories](https://killedstories.com/)_, but it's better to catch fatal flaws and irreconcilable uncertainties early. Trust that doing this efficiently is a gift to yourself and your colleagues. \n",
    "\n",
    "The questions in the checklist cover fundamental topics we'll discuss throughout the practitioner's guide such as:\n",
    "\n",
    "1. [Data collection](/build-your-own-datasets.html)<br>\n",
    "2. Viability (minimal viable) analyses<br>\n",
    "3. Classification<br>\n",
    "4. Statistical tests<br>\n",
    "5. Limitations<br>\n",
    "6. Communicating findings for a general audience<br>\n",
    "\n",
    "You won't need to fill out a checklist for every story, but it is **super helpful for projects with original data collection and/or analysis**.\n",
    "\n",
    "Lastly, view the checklist is a starting point. Add and edit questions with your team to assure you can publish your findings with certainty.\n",
    "\n",
    "Good luck."
   ]
  },
  {
   "cell_type": "code",
   "execution_count": null,
   "id": "771d9d79",
   "metadata": {},
   "outputs": [],
   "source": []
  }
 ],
 "metadata": {
  "kernelspec": {
   "display_name": "Python 3",
   "language": "python",
   "name": "python3"
  },
  "language_info": {
   "codemirror_mode": {
    "name": "ipython",
    "version": 3
   },
   "file_extension": ".py",
   "mimetype": "text/x-python",
   "name": "python",
   "nbconvert_exporter": "python",
   "pygments_lexer": "ipython3",
   "version": "3.7.3"
  }
 },
 "nbformat": 4,
 "nbformat_minor": 5
}
